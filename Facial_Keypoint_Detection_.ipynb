{
  "nbformat": 4,
  "nbformat_minor": 0,
  "metadata": {
    "kernelspec": {
      "name": "python3",
      "display_name": "Python 3"
    },
    "language_info": {
      "name": "python",
      "version": "3.6.6",
      "mimetype": "text/x-python",
      "codemirror_mode": {
        "name": "ipython",
        "version": 3
      },
      "pygments_lexer": "ipython3",
      "nbconvert_exporter": "python",
      "file_extension": ".py"
    },
    "colab": {
      "name": "Facial Keypoint Detection .ipynb",
      "provenance": [],
      "include_colab_link": true
    },
    "accelerator": "GPU"
  },
  "cells": [
    {
      "cell_type": "markdown",
      "metadata": {
        "id": "view-in-github",
        "colab_type": "text"
      },
      "source": [
        "<a href=\"https://colab.research.google.com/github/swathi697/P1_Facial_Keypoints/blob/master/Facial_Keypoint_Detection_.ipynb\" target=\"_parent\"><img src=\"https://colab.research.google.com/assets/colab-badge.svg\" alt=\"Open In Colab\"/></a>"
      ]
    },
    {
      "cell_type": "markdown",
      "metadata": {
        "_uuid": "4dbced162440c393a0a5b7e5aee344711a30e994",
        "id": "vfLre-zeWoim",
        "colab_type": "text"
      },
      "source": [
        " <h2>Facial Keypoint Detection</h2>         \n",
        " First of all let's discuss what we are given.        \n",
        "We are given three CSV files.        \n",
        "training.csv :- Its has coordinates of facial keypoints like left eye, rigth eye etc and also the image.      \n",
        "test.csv :- Its has image only and we have to give coordinates of various facial keypoints by looking at third csv file which is IdLookupTable.csv     \n",
        "Rest everything is explained below.      \n",
        "**I would really appreciate if you could upvote this kernel.**\n"
      ]
    },
    {
      "cell_type": "code",
      "metadata": {
        "id": "viYx_Ul9WwEm",
        "colab_type": "code",
        "outputId": "2eca0956-5b92-4812-e488-7f5a8debfed4",
        "colab": {
          "base_uri": "https://localhost:8080/",
          "height": 124
        }
      },
      "source": [
        "from google.colab import drive\n",
        "drive.mount('/content/drive')"
      ],
      "execution_count": 1,
      "outputs": [
        {
          "output_type": "stream",
          "text": [
            "Go to this URL in a browser: https://accounts.google.com/o/oauth2/auth?client_id=947318989803-6bn6qk8qdgf4n4g3pfee6491hc0brc4i.apps.googleusercontent.com&redirect_uri=urn%3Aietf%3Awg%3Aoauth%3A2.0%3Aoob&scope=email%20https%3A%2F%2Fwww.googleapis.com%2Fauth%2Fdocs.test%20https%3A%2F%2Fwww.googleapis.com%2Fauth%2Fdrive%20https%3A%2F%2Fwww.googleapis.com%2Fauth%2Fdrive.photos.readonly%20https%3A%2F%2Fwww.googleapis.com%2Fauth%2Fpeopleapi.readonly&response_type=code\n",
            "\n",
            "Enter your authorization code:\n",
            "··········\n",
            "Mounted at /content/drive\n"
          ],
          "name": "stdout"
        }
      ]
    },
    {
      "cell_type": "code",
      "metadata": {
        "id": "deWbYdKvW7Up",
        "colab_type": "code",
        "outputId": "a93259fb-4086-43ea-88e6-66a9a03534bf",
        "colab": {
          "base_uri": "https://localhost:8080/",
          "height": 104
        }
      },
      "source": [
        "!unzip \"/content/drive/My Drive/facial-keypoints-detection.zip\""
      ],
      "execution_count": 2,
      "outputs": [
        {
          "output_type": "stream",
          "text": [
            "Archive:  /content/drive/My Drive/facial-keypoints-detection.zip\n",
            "  inflating: test.zip                \n",
            "  inflating: IdLookupTable.csv       \n",
            "  inflating: SampleSubmission.csv    \n",
            "  inflating: training.zip            \n"
          ],
          "name": "stdout"
        }
      ]
    },
    {
      "cell_type": "code",
      "metadata": {
        "id": "Do9OahwMXLl9",
        "colab_type": "code",
        "outputId": "002d00b2-c572-4bd2-c5ee-2dc215d0882c",
        "colab": {
          "base_uri": "https://localhost:8080/",
          "height": 52
        }
      },
      "source": [
        "!unzip \"/content/test.zip\""
      ],
      "execution_count": 3,
      "outputs": [
        {
          "output_type": "stream",
          "text": [
            "Archive:  /content/test.zip\n",
            "  inflating: test.csv                \n"
          ],
          "name": "stdout"
        }
      ]
    },
    {
      "cell_type": "code",
      "metadata": {
        "id": "SAft4Bg5XQ5T",
        "colab_type": "code",
        "outputId": "ea6340ea-db58-4619-cfb8-30ac38188e1d",
        "colab": {
          "base_uri": "https://localhost:8080/",
          "height": 52
        }
      },
      "source": [
        "!unzip \"/content/training.zip\""
      ],
      "execution_count": 4,
      "outputs": [
        {
          "output_type": "stream",
          "text": [
            "Archive:  /content/training.zip\n",
            "  inflating: training.csv            \n"
          ],
          "name": "stdout"
        }
      ]
    },
    {
      "cell_type": "code",
      "metadata": {
        "trusted": true,
        "_uuid": "369fa247a546e39d82bdfdc5b7d4ed58baa40e4f",
        "id": "8C1rVd-5Woiz",
        "colab_type": "code",
        "colab": {}
      },
      "source": [
        "import numpy as np\n",
        "import matplotlib.pyplot as plt\n",
        "import pandas as pd\n",
        "from IPython.display import clear_output\n",
        "from time import sleep\n",
        "import os"
      ],
      "execution_count": 0,
      "outputs": []
    },
    {
      "cell_type": "code",
      "metadata": {
        "trusted": true,
        "_uuid": "fa1b76273d02502e3fd668dddf74ecf522044524",
        "id": "_iAq5IKUWojL",
        "colab_type": "code",
        "outputId": "035fd17c-61ab-4006-d2ad-2425d7c69b67",
        "colab": {
          "base_uri": "https://localhost:8080/",
          "height": 173
        }
      },
      "source": [
        "Train_Dir = '/content/training.csv'\n",
        "Test_Dir = '/content/test.csv'\n",
        "lookid_dir = '/content/IdLookupTable.csv'\n",
        "train_data = pd.read_csv(Train_Dir)  \n",
        "test_data = pd.read_csv(Test_Dir)\n",
        "lookid_data = pd.read_csv(lookid_dir)\n",
        "os.listdir('/content')"
      ],
      "execution_count": 6,
      "outputs": [
        {
          "output_type": "execute_result",
          "data": {
            "text/plain": [
              "['.config',\n",
              " 'IdLookupTable.csv',\n",
              " 'test.csv',\n",
              " 'training.zip',\n",
              " 'training.csv',\n",
              " 'SampleSubmission.csv',\n",
              " 'test.zip',\n",
              " 'drive',\n",
              " 'sample_data']"
            ]
          },
          "metadata": {
            "tags": []
          },
          "execution_count": 6
        }
      ]
    },
    {
      "cell_type": "markdown",
      "metadata": {
        "_uuid": "db5d8da6b196bf37a8c9934b2763ebf8dcc25667",
        "id": "dNO4b33BWojd",
        "colab_type": "text"
      },
      "source": [
        "Lets explore our dataset"
      ]
    },
    {
      "cell_type": "code",
      "metadata": {
        "trusted": true,
        "_uuid": "cfd045f7166f9cce2e2075b3ead83813d07012c8",
        "id": "nhUmVNqPWoji",
        "colab_type": "code",
        "outputId": "ce4461bb-b21f-4ba9-f2c8-8022359e9249",
        "colab": {
          "base_uri": "https://localhost:8080/",
          "height": 1000
        }
      },
      "source": [
        "train_data.head().T"
      ],
      "execution_count": 7,
      "outputs": [
        {
          "output_type": "execute_result",
          "data": {
            "text/html": [
              "<div>\n",
              "<style scoped>\n",
              "    .dataframe tbody tr th:only-of-type {\n",
              "        vertical-align: middle;\n",
              "    }\n",
              "\n",
              "    .dataframe tbody tr th {\n",
              "        vertical-align: top;\n",
              "    }\n",
              "\n",
              "    .dataframe thead th {\n",
              "        text-align: right;\n",
              "    }\n",
              "</style>\n",
              "<table border=\"1\" class=\"dataframe\">\n",
              "  <thead>\n",
              "    <tr style=\"text-align: right;\">\n",
              "      <th></th>\n",
              "      <th>0</th>\n",
              "      <th>1</th>\n",
              "      <th>2</th>\n",
              "      <th>3</th>\n",
              "      <th>4</th>\n",
              "    </tr>\n",
              "  </thead>\n",
              "  <tbody>\n",
              "    <tr>\n",
              "      <th>left_eye_center_x</th>\n",
              "      <td>66.0336</td>\n",
              "      <td>64.3329</td>\n",
              "      <td>65.0571</td>\n",
              "      <td>65.2257</td>\n",
              "      <td>66.7253</td>\n",
              "    </tr>\n",
              "    <tr>\n",
              "      <th>left_eye_center_y</th>\n",
              "      <td>39.0023</td>\n",
              "      <td>34.9701</td>\n",
              "      <td>34.9096</td>\n",
              "      <td>37.2618</td>\n",
              "      <td>39.6213</td>\n",
              "    </tr>\n",
              "    <tr>\n",
              "      <th>right_eye_center_x</th>\n",
              "      <td>30.227</td>\n",
              "      <td>29.9493</td>\n",
              "      <td>30.9038</td>\n",
              "      <td>32.0231</td>\n",
              "      <td>32.2448</td>\n",
              "    </tr>\n",
              "    <tr>\n",
              "      <th>right_eye_center_y</th>\n",
              "      <td>36.4217</td>\n",
              "      <td>33.4487</td>\n",
              "      <td>34.9096</td>\n",
              "      <td>37.2618</td>\n",
              "      <td>38.042</td>\n",
              "    </tr>\n",
              "    <tr>\n",
              "      <th>left_eye_inner_corner_x</th>\n",
              "      <td>59.5821</td>\n",
              "      <td>58.8562</td>\n",
              "      <td>59.412</td>\n",
              "      <td>60.0033</td>\n",
              "      <td>58.5659</td>\n",
              "    </tr>\n",
              "    <tr>\n",
              "      <th>left_eye_inner_corner_y</th>\n",
              "      <td>39.6474</td>\n",
              "      <td>35.2743</td>\n",
              "      <td>36.321</td>\n",
              "      <td>39.1272</td>\n",
              "      <td>39.6213</td>\n",
              "    </tr>\n",
              "    <tr>\n",
              "      <th>left_eye_outer_corner_x</th>\n",
              "      <td>73.1303</td>\n",
              "      <td>70.7227</td>\n",
              "      <td>70.9844</td>\n",
              "      <td>72.3147</td>\n",
              "      <td>72.5159</td>\n",
              "    </tr>\n",
              "    <tr>\n",
              "      <th>left_eye_outer_corner_y</th>\n",
              "      <td>39.97</td>\n",
              "      <td>36.1872</td>\n",
              "      <td>36.321</td>\n",
              "      <td>38.381</td>\n",
              "      <td>39.8845</td>\n",
              "    </tr>\n",
              "    <tr>\n",
              "      <th>right_eye_inner_corner_x</th>\n",
              "      <td>36.3566</td>\n",
              "      <td>36.0347</td>\n",
              "      <td>37.6781</td>\n",
              "      <td>37.6186</td>\n",
              "      <td>36.9824</td>\n",
              "    </tr>\n",
              "    <tr>\n",
              "      <th>right_eye_inner_corner_y</th>\n",
              "      <td>37.3894</td>\n",
              "      <td>34.3615</td>\n",
              "      <td>36.321</td>\n",
              "      <td>38.7541</td>\n",
              "      <td>39.0949</td>\n",
              "    </tr>\n",
              "    <tr>\n",
              "      <th>right_eye_outer_corner_x</th>\n",
              "      <td>23.4529</td>\n",
              "      <td>24.4725</td>\n",
              "      <td>24.9764</td>\n",
              "      <td>25.3073</td>\n",
              "      <td>22.5061</td>\n",
              "    </tr>\n",
              "    <tr>\n",
              "      <th>right_eye_outer_corner_y</th>\n",
              "      <td>37.3894</td>\n",
              "      <td>33.1444</td>\n",
              "      <td>36.6032</td>\n",
              "      <td>38.0079</td>\n",
              "      <td>38.3052</td>\n",
              "    </tr>\n",
              "    <tr>\n",
              "      <th>left_eyebrow_inner_end_x</th>\n",
              "      <td>56.9533</td>\n",
              "      <td>53.9874</td>\n",
              "      <td>55.7425</td>\n",
              "      <td>56.4338</td>\n",
              "      <td>57.2496</td>\n",
              "    </tr>\n",
              "    <tr>\n",
              "      <th>left_eyebrow_inner_end_y</th>\n",
              "      <td>29.0336</td>\n",
              "      <td>28.2759</td>\n",
              "      <td>27.5709</td>\n",
              "      <td>30.9299</td>\n",
              "      <td>30.6722</td>\n",
              "    </tr>\n",
              "    <tr>\n",
              "      <th>left_eyebrow_outer_end_x</th>\n",
              "      <td>80.2271</td>\n",
              "      <td>78.6342</td>\n",
              "      <td>78.8874</td>\n",
              "      <td>77.9103</td>\n",
              "      <td>77.7629</td>\n",
              "    </tr>\n",
              "    <tr>\n",
              "      <th>left_eyebrow_outer_end_y</th>\n",
              "      <td>32.2281</td>\n",
              "      <td>30.4059</td>\n",
              "      <td>32.6516</td>\n",
              "      <td>31.6657</td>\n",
              "      <td>31.7372</td>\n",
              "    </tr>\n",
              "    <tr>\n",
              "      <th>right_eyebrow_inner_end_x</th>\n",
              "      <td>40.2276</td>\n",
              "      <td>42.7289</td>\n",
              "      <td>42.1939</td>\n",
              "      <td>41.6715</td>\n",
              "      <td>38.0354</td>\n",
              "    </tr>\n",
              "    <tr>\n",
              "      <th>right_eyebrow_inner_end_y</th>\n",
              "      <td>29.0023</td>\n",
              "      <td>26.146</td>\n",
              "      <td>28.1355</td>\n",
              "      <td>31.05</td>\n",
              "      <td>30.9354</td>\n",
              "    </tr>\n",
              "    <tr>\n",
              "      <th>right_eyebrow_outer_end_x</th>\n",
              "      <td>16.3564</td>\n",
              "      <td>16.8654</td>\n",
              "      <td>16.7912</td>\n",
              "      <td>20.458</td>\n",
              "      <td>15.9259</td>\n",
              "    </tr>\n",
              "    <tr>\n",
              "      <th>right_eyebrow_outer_end_y</th>\n",
              "      <td>29.6475</td>\n",
              "      <td>27.0589</td>\n",
              "      <td>32.0871</td>\n",
              "      <td>29.9093</td>\n",
              "      <td>30.6722</td>\n",
              "    </tr>\n",
              "    <tr>\n",
              "      <th>nose_tip_x</th>\n",
              "      <td>44.4206</td>\n",
              "      <td>48.2063</td>\n",
              "      <td>47.5573</td>\n",
              "      <td>51.8851</td>\n",
              "      <td>43.2995</td>\n",
              "    </tr>\n",
              "    <tr>\n",
              "      <th>nose_tip_y</th>\n",
              "      <td>57.0668</td>\n",
              "      <td>55.6609</td>\n",
              "      <td>53.5389</td>\n",
              "      <td>54.1665</td>\n",
              "      <td>64.8895</td>\n",
              "    </tr>\n",
              "    <tr>\n",
              "      <th>mouth_left_corner_x</th>\n",
              "      <td>61.1953</td>\n",
              "      <td>56.4214</td>\n",
              "      <td>60.8229</td>\n",
              "      <td>65.5989</td>\n",
              "      <td>60.6714</td>\n",
              "    </tr>\n",
              "    <tr>\n",
              "      <th>mouth_left_corner_y</th>\n",
              "      <td>79.9702</td>\n",
              "      <td>76.352</td>\n",
              "      <td>73.0143</td>\n",
              "      <td>72.7037</td>\n",
              "      <td>77.5232</td>\n",
              "    </tr>\n",
              "    <tr>\n",
              "      <th>mouth_right_corner_x</th>\n",
              "      <td>28.6145</td>\n",
              "      <td>35.1224</td>\n",
              "      <td>33.7263</td>\n",
              "      <td>37.2455</td>\n",
              "      <td>31.1918</td>\n",
              "    </tr>\n",
              "    <tr>\n",
              "      <th>mouth_right_corner_y</th>\n",
              "      <td>77.389</td>\n",
              "      <td>76.0477</td>\n",
              "      <td>72.732</td>\n",
              "      <td>74.1955</td>\n",
              "      <td>76.9973</td>\n",
              "    </tr>\n",
              "    <tr>\n",
              "      <th>mouth_center_top_lip_x</th>\n",
              "      <td>43.3126</td>\n",
              "      <td>46.6846</td>\n",
              "      <td>47.2749</td>\n",
              "      <td>50.3032</td>\n",
              "      <td>44.9627</td>\n",
              "    </tr>\n",
              "    <tr>\n",
              "      <th>mouth_center_top_lip_y</th>\n",
              "      <td>72.9355</td>\n",
              "      <td>70.2666</td>\n",
              "      <td>70.1918</td>\n",
              "      <td>70.0917</td>\n",
              "      <td>73.7074</td>\n",
              "    </tr>\n",
              "    <tr>\n",
              "      <th>mouth_center_bottom_lip_x</th>\n",
              "      <td>43.1307</td>\n",
              "      <td>45.4679</td>\n",
              "      <td>47.2749</td>\n",
              "      <td>51.5612</td>\n",
              "      <td>44.2271</td>\n",
              "    </tr>\n",
              "    <tr>\n",
              "      <th>mouth_center_bottom_lip_y</th>\n",
              "      <td>84.4858</td>\n",
              "      <td>85.4802</td>\n",
              "      <td>78.6594</td>\n",
              "      <td>78.2684</td>\n",
              "      <td>86.8712</td>\n",
              "    </tr>\n",
              "    <tr>\n",
              "      <th>Image</th>\n",
              "      <td>238 236 237 238 240 240 239 241 241 243 240 23...</td>\n",
              "      <td>219 215 204 196 204 211 212 200 180 168 178 19...</td>\n",
              "      <td>144 142 159 180 188 188 184 180 167 132 84 59 ...</td>\n",
              "      <td>193 192 193 194 194 194 193 192 168 111 50 12 ...</td>\n",
              "      <td>147 148 160 196 215 214 216 217 219 220 206 18...</td>\n",
              "    </tr>\n",
              "  </tbody>\n",
              "</table>\n",
              "</div>"
            ],
            "text/plain": [
              "                                                                           0  ...                                                  4\n",
              "left_eye_center_x                                                    66.0336  ...                                            66.7253\n",
              "left_eye_center_y                                                    39.0023  ...                                            39.6213\n",
              "right_eye_center_x                                                    30.227  ...                                            32.2448\n",
              "right_eye_center_y                                                   36.4217  ...                                             38.042\n",
              "left_eye_inner_corner_x                                              59.5821  ...                                            58.5659\n",
              "left_eye_inner_corner_y                                              39.6474  ...                                            39.6213\n",
              "left_eye_outer_corner_x                                              73.1303  ...                                            72.5159\n",
              "left_eye_outer_corner_y                                                39.97  ...                                            39.8845\n",
              "right_eye_inner_corner_x                                             36.3566  ...                                            36.9824\n",
              "right_eye_inner_corner_y                                             37.3894  ...                                            39.0949\n",
              "right_eye_outer_corner_x                                             23.4529  ...                                            22.5061\n",
              "right_eye_outer_corner_y                                             37.3894  ...                                            38.3052\n",
              "left_eyebrow_inner_end_x                                             56.9533  ...                                            57.2496\n",
              "left_eyebrow_inner_end_y                                             29.0336  ...                                            30.6722\n",
              "left_eyebrow_outer_end_x                                             80.2271  ...                                            77.7629\n",
              "left_eyebrow_outer_end_y                                             32.2281  ...                                            31.7372\n",
              "right_eyebrow_inner_end_x                                            40.2276  ...                                            38.0354\n",
              "right_eyebrow_inner_end_y                                            29.0023  ...                                            30.9354\n",
              "right_eyebrow_outer_end_x                                            16.3564  ...                                            15.9259\n",
              "right_eyebrow_outer_end_y                                            29.6475  ...                                            30.6722\n",
              "nose_tip_x                                                           44.4206  ...                                            43.2995\n",
              "nose_tip_y                                                           57.0668  ...                                            64.8895\n",
              "mouth_left_corner_x                                                  61.1953  ...                                            60.6714\n",
              "mouth_left_corner_y                                                  79.9702  ...                                            77.5232\n",
              "mouth_right_corner_x                                                 28.6145  ...                                            31.1918\n",
              "mouth_right_corner_y                                                  77.389  ...                                            76.9973\n",
              "mouth_center_top_lip_x                                               43.3126  ...                                            44.9627\n",
              "mouth_center_top_lip_y                                               72.9355  ...                                            73.7074\n",
              "mouth_center_bottom_lip_x                                            43.1307  ...                                            44.2271\n",
              "mouth_center_bottom_lip_y                                            84.4858  ...                                            86.8712\n",
              "Image                      238 236 237 238 240 240 239 241 241 243 240 23...  ...  147 148 160 196 215 214 216 217 219 220 206 18...\n",
              "\n",
              "[31 rows x 5 columns]"
            ]
          },
          "metadata": {
            "tags": []
          },
          "execution_count": 7
        }
      ]
    },
    {
      "cell_type": "markdown",
      "metadata": {
        "_uuid": "14ae8eb84c1ed40db949d6dddeba331b2ed84487",
        "id": "59056BHNWokR",
        "colab_type": "text"
      },
      "source": [
        "Lets check for missing values"
      ]
    },
    {
      "cell_type": "code",
      "metadata": {
        "trusted": true,
        "_uuid": "67368f645afe618d6fc717552a6847de7e5ec66a",
        "id": "9SqKryM8WokX",
        "colab_type": "code",
        "outputId": "dfe0e746-874d-4e13-989b-f20a397d0ae1",
        "colab": {
          "base_uri": "https://localhost:8080/",
          "height": 69
        }
      },
      "source": [
        "train_data.isnull().any().value_counts()"
      ],
      "execution_count": 8,
      "outputs": [
        {
          "output_type": "execute_result",
          "data": {
            "text/plain": [
              "True     28\n",
              "False     3\n",
              "dtype: int64"
            ]
          },
          "metadata": {
            "tags": []
          },
          "execution_count": 8
        }
      ]
    },
    {
      "cell_type": "markdown",
      "metadata": {
        "_uuid": "f55b89f149e6bbc79d0e9c636c64c5c6fc7192b2",
        "id": "1jkVHfNoWokl",
        "colab_type": "text"
      },
      "source": [
        "So there are missing values in 28 columns. We can do two things here one remove the rows having missing values and another is the fill missing values with something. I used two option as removing rows will reduce our dataset. \n",
        "I filled the missing values with the previous values in that row."
      ]
    },
    {
      "cell_type": "code",
      "metadata": {
        "trusted": true,
        "_uuid": "69165acb462a9b47f22fe81a8fe8eaaca4f518d2",
        "id": "N89RLCguWokq",
        "colab_type": "code",
        "colab": {}
      },
      "source": [
        "\n",
        "train_data.fillna(method = 'ffill',inplace = True)\n",
        "#train_data.reset_index(drop = True,inplace = True)\n"
      ],
      "execution_count": 0,
      "outputs": []
    },
    {
      "cell_type": "markdown",
      "metadata": {
        "_uuid": "e6cd1f4c243b44ecc0530bf416d761930a4f94d1",
        "id": "xgALo2KXWolD",
        "colab_type": "text"
      },
      "source": [
        "Lets check for missing values now"
      ]
    },
    {
      "cell_type": "code",
      "metadata": {
        "trusted": true,
        "_uuid": "29ca4e12ec805d837ec4eac91cb91d5a133f8740",
        "id": "TQWrHzs1WolH",
        "colab_type": "code",
        "outputId": "4dafde77-e188-418b-adb4-e642801a1e8a",
        "colab": {
          "base_uri": "https://localhost:8080/",
          "height": 52
        }
      },
      "source": [
        "train_data.isnull().any().value_counts()"
      ],
      "execution_count": 10,
      "outputs": [
        {
          "output_type": "execute_result",
          "data": {
            "text/plain": [
              "False    31\n",
              "dtype: int64"
            ]
          },
          "metadata": {
            "tags": []
          },
          "execution_count": 10
        }
      ]
    },
    {
      "cell_type": "markdown",
      "metadata": {
        "_uuid": "e1b88f1528838c0a8fec61f9a02a70b5077312e9",
        "id": "DO7S18f0WolV",
        "colab_type": "text"
      },
      "source": [
        "As there is no missing values we can now separate the labels and features.\n",
        "The image is our feature and other values are labes that we have to predict later.\n",
        "As image column values are in string format and there is also some missing values so we have to split the string by space and append it and also handling missing values"
      ]
    },
    {
      "cell_type": "code",
      "metadata": {
        "trusted": true,
        "_uuid": "e78ca4523425835f1b584f3e30e5c9dcc8014253",
        "id": "OOwpy0avWola",
        "colab_type": "code",
        "colab": {}
      },
      "source": [
        "\n",
        "imag = []\n",
        "for i in range(0,7049):\n",
        "    img = train_data['Image'][i].split(' ')\n",
        "    img = ['0' if x == '' else x for x in img]\n",
        "    imag.append(img)\n",
        "    \n",
        "    "
      ],
      "execution_count": 0,
      "outputs": []
    },
    {
      "cell_type": "markdown",
      "metadata": {
        "trusted": true,
        "_uuid": "e112a93d30f86687f80fb01d9f916633d87682db",
        "id": "VliYJX0cWolk",
        "colab_type": "text"
      },
      "source": [
        "Lets reshape and convert it into float value."
      ]
    },
    {
      "cell_type": "code",
      "metadata": {
        "trusted": true,
        "_uuid": "da09436050dc2df5da7cb49ad90125b1b756f1a4",
        "id": "3v1eudFBWolt",
        "colab_type": "code",
        "colab": {}
      },
      "source": [
        "image_list = np.array(imag,dtype = 'float')\n",
        "X_train = image_list.reshape(-1,96,96,1)\n",
        "\n"
      ],
      "execution_count": 0,
      "outputs": []
    },
    {
      "cell_type": "markdown",
      "metadata": {
        "trusted": true,
        "_uuid": "58a352bb3b38dadf37da1a6b62798fe1e3df8614",
        "collapsed": true,
        "id": "iNAcD8FkWol5",
        "colab_type": "text"
      },
      "source": [
        "Lets see what is the first image."
      ]
    },
    {
      "cell_type": "code",
      "metadata": {
        "trusted": true,
        "_uuid": "3e953b9fa753d6f7c1092a2d8d2faf6cff5a4f93",
        "id": "yUNvY0BoWomC",
        "colab_type": "code",
        "outputId": "2c3a593c-8fae-4f99-f46d-f672adeb8cb4",
        "colab": {
          "base_uri": "https://localhost:8080/",
          "height": 268
        }
      },
      "source": [
        "plt.imshow(X_train[0].reshape(96,96),cmap='gray')\n",
        "plt.show()"
      ],
      "execution_count": 13,
      "outputs": [
        {
          "output_type": "display_data",
          "data": {
            "image/png": "[encoded data removed]",
            "text/plain": [
              "<Figure size 432x288 with 1 Axes>"
            ]
          },
          "metadata": {
            "tags": []
          }
        }
      ]
    },
    {
      "cell_type": "markdown",
      "metadata": {
        "_uuid": "a833f4cc5e559774d3a310fd09d40d31e49e71da",
        "id": "O-H9shifWomQ",
        "colab_type": "text"
      },
      "source": [
        "Now lets separate labels."
      ]
    },
    {
      "cell_type": "code",
      "metadata": {
        "trusted": true,
        "_uuid": "e9d804a035809cdf8ffda19f41ce3feb278a38fb",
        "id": "Rl1SR1tMWomU",
        "colab_type": "code",
        "colab": {}
      },
      "source": [
        "training = train_data.drop('Image',axis = 1)\n",
        "\n",
        "y_train = []\n",
        "for i in range(0,7049):\n",
        "    y = training.iloc[i,:]\n",
        "\n",
        "    y_train.append(y)\n",
        "y_train = np.array(y_train,dtype = 'float')\n",
        "\n"
      ],
      "execution_count": 0,
      "outputs": []
    },
    {
      "cell_type": "markdown",
      "metadata": {
        "_uuid": "d1ade36c2a9ffc30411987384691c49a8859818b",
        "id": "ciCqRyxgWome",
        "colab_type": "text"
      },
      "source": [
        "As our data is ready for training , lets define our model. I am using keras and simple dense layers. For loss function I am using 'mse' ( mean squared error ) as we have to predict new values. Our result evaluted on the basics of 'mae' ( mean absolute error ) . "
      ]
    },
    {
      "cell_type": "code",
      "metadata": {
        "trusted": true,
        "_uuid": "182dbbf5e211249cd5087f2e1218c7000c15e8d7",
        "id": "OBQjTom6Womh",
        "colab_type": "code",
        "outputId": "ae20e01f-0fba-47c5-a074-55a390e5b636",
        "colab": {
          "base_uri": "https://localhost:8080/",
          "height": 310
        }
      },
      "source": [
        "from keras.layers import Conv2D,Dropout,Dense,Flatten\n",
        "from keras.models import Sequential\n",
        "\n",
        "model = Sequential([Flatten(input_shape=(96,96)),\n",
        "                         Dense(128, activation=\"relu\"),\n",
        "                         Dropout(0.1),\n",
        "                         Dense(64, activation=\"relu\"),\n",
        "                         Dense(30)\n",
        "                         ])\n",
        "\n",
        "\n"
      ],
      "execution_count": 15,
      "outputs": [
        {
          "output_type": "stream",
          "text": [
            "Using TensorFlow backend.\n"
          ],
          "name": "stderr"
        },
        {
          "output_type": "display_data",
          "data": {
            "text/html": [
              "<p style=\"color: red;\">\n",
              "The default version of TensorFlow in Colab will soon switch to TensorFlow 2.x.<br>\n",
              "We recommend you <a href=\"https://www.tensorflow.org/guide/migrate\" target=\"_blank\">upgrade</a> now \n",
              "or ensure your notebook will continue to use TensorFlow 1.x via the <code>%tensorflow_version 1.x</code> magic:\n",
              "<a href=\"https://colab.research.google.com/notebooks/tensorflow_version.ipynb\" target=\"_blank\">more info</a>.</p>\n"
            ],
            "text/plain": [
              "<IPython.core.display.HTML object>"
            ]
          },
          "metadata": {
            "tags": []
          }
        },
        {
          "output_type": "stream",
          "text": [
            "WARNING:tensorflow:From /usr/local/lib/python3.6/dist-packages/keras/backend/tensorflow_backend.py:66: The name tf.get_default_graph is deprecated. Please use tf.compat.v1.get_default_graph instead.\n",
            "\n",
            "WARNING:tensorflow:From /usr/local/lib/python3.6/dist-packages/keras/backend/tensorflow_backend.py:541: The name tf.placeholder is deprecated. Please use tf.compat.v1.placeholder instead.\n",
            "\n",
            "WARNING:tensorflow:From /usr/local/lib/python3.6/dist-packages/keras/backend/tensorflow_backend.py:4432: The name tf.random_uniform is deprecated. Please use tf.random.uniform instead.\n",
            "\n",
            "WARNING:tensorflow:From /usr/local/lib/python3.6/dist-packages/keras/backend/tensorflow_backend.py:148: The name tf.placeholder_with_default is deprecated. Please use tf.compat.v1.placeholder_with_default instead.\n",
            "\n",
            "WARNING:tensorflow:From /usr/local/lib/python3.6/dist-packages/keras/backend/tensorflow_backend.py:3733: calling dropout (from tensorflow.python.ops.nn_ops) with keep_prob is deprecated and will be removed in a future version.\n",
            "Instructions for updating:\n",
            "Please use `rate` instead of `keep_prob`. Rate should be set to `rate = 1 - keep_prob`.\n"
          ],
          "name": "stdout"
        }
      ]
    },
    {
      "cell_type": "code",
      "metadata": {
        "trusted": true,
        "id": "O-M_TL9bWonI",
        "colab_type": "code",
        "colab": {}
      },
      "source": [
        "from keras.layers.advanced_activations import LeakyReLU\n",
        "from keras.models import Sequential, Model\n",
        "from keras.layers import Activation, Convolution2D, MaxPooling2D, BatchNormalization, Flatten, Dense, Dropout, Conv2D,MaxPool2D, ZeroPadding2D"
      ],
      "execution_count": 0,
      "outputs": []
    },
    {
      "cell_type": "code",
      "metadata": {
        "trusted": true,
        "id": "E5Fr-V_zWonS",
        "colab_type": "code",
        "outputId": "c5715df8-b5df-45db-ba59-1c8727e30128",
        "colab": {
          "base_uri": "https://localhost:8080/",
          "height": 1000
        }
      },
      "source": [
        "model = Sequential()\n",
        "\n",
        "model.add(Convolution2D(32, (3,3), padding='same', use_bias=False, input_shape=(96,96,1)))\n",
        "model.add(LeakyReLU(alpha = 0.1))\n",
        "model.add(BatchNormalization())\n",
        "\n",
        "model.add(Convolution2D(32, (3,3), padding='same', use_bias=False))\n",
        "model.add(LeakyReLU(alpha = 0.1))\n",
        "model.add(BatchNormalization())\n",
        "model.add(MaxPool2D(pool_size=(2, 2)))\n",
        "\n",
        "model.add(Convolution2D(64, (3,3), padding='same', use_bias=False))\n",
        "model.add(LeakyReLU(alpha = 0.1))\n",
        "model.add(BatchNormalization())\n",
        "\n",
        "model.add(Convolution2D(64, (3,3), padding='same', use_bias=False))\n",
        "model.add(LeakyReLU(alpha = 0.1))\n",
        "model.add(BatchNormalization())\n",
        "model.add(MaxPool2D(pool_size=(2, 2)))\n",
        "\n",
        "model.add(Convolution2D(96, (3,3), padding='same', use_bias=False))\n",
        "model.add(LeakyReLU(alpha = 0.1))\n",
        "model.add(BatchNormalization())\n",
        "\n",
        "model.add(Convolution2D(96, (3,3), padding='same', use_bias=False))\n",
        "model.add(LeakyReLU(alpha = 0.1))\n",
        "model.add(BatchNormalization())\n",
        "model.add(MaxPool2D(pool_size=(2, 2)))\n",
        "\n",
        "model.add(Convolution2D(128, (3,3),padding='same', use_bias=False))\n",
        "# model.add(BatchNormalization())\n",
        "model.add(LeakyReLU(alpha = 0.1))\n",
        "model.add(BatchNormalization())\n",
        "\n",
        "model.add(Convolution2D(128, (3,3),padding='same', use_bias=False))\n",
        "model.add(LeakyReLU(alpha = 0.1))\n",
        "model.add(BatchNormalization())\n",
        "model.add(MaxPool2D(pool_size=(2, 2)))\n",
        "\n",
        "model.add(Convolution2D(256, (3,3),padding='same',use_bias=False))\n",
        "model.add(LeakyReLU(alpha = 0.1))\n",
        "model.add(BatchNormalization())\n",
        "\n",
        "model.add(Convolution2D(256, (3,3),padding='same',use_bias=False))\n",
        "model.add(LeakyReLU(alpha = 0.1))\n",
        "model.add(BatchNormalization())\n",
        "model.add(MaxPool2D(pool_size=(2, 2)))\n",
        "\n",
        "model.add(Convolution2D(512, (3,3), padding='same', use_bias=False))\n",
        "model.add(LeakyReLU(alpha = 0.1))\n",
        "model.add(BatchNormalization())\n",
        "\n",
        "model.add(Convolution2D(512, (3,3), padding='same', use_bias=False))\n",
        "model.add(LeakyReLU(alpha = 0.1))\n",
        "model.add(BatchNormalization())\n",
        "\n",
        "\n",
        "model.add(Flatten())\n",
        "model.add(Dense(512,activation='relu'))\n",
        "model.add(Dropout(0.1))\n",
        "model.add(Dense(30))\n",
        "model.summary()"
      ],
      "execution_count": 17,
      "outputs": [
        {
          "output_type": "stream",
          "text": [
            "WARNING:tensorflow:From /usr/local/lib/python3.6/dist-packages/keras/backend/tensorflow_backend.py:190: The name tf.get_default_session is deprecated. Please use tf.compat.v1.get_default_session instead.\n",
            "\n",
            "WARNING:tensorflow:From /usr/local/lib/python3.6/dist-packages/keras/backend/tensorflow_backend.py:197: The name tf.ConfigProto is deprecated. Please use tf.compat.v1.ConfigProto instead.\n",
            "\n",
            "WARNING:tensorflow:From /usr/local/lib/python3.6/dist-packages/keras/backend/tensorflow_backend.py:203: The name tf.Session is deprecated. Please use tf.compat.v1.Session instead.\n",
            "\n",
            "WARNING:tensorflow:From /usr/local/lib/python3.6/dist-packages/keras/backend/tensorflow_backend.py:207: The name tf.global_variables is deprecated. Please use tf.compat.v1.global_variables instead.\n",
            "\n",
            "WARNING:tensorflow:From /usr/local/lib/python3.6/dist-packages/keras/backend/tensorflow_backend.py:216: The name tf.is_variable_initialized is deprecated. Please use tf.compat.v1.is_variable_initialized instead.\n",
            "\n",
            "WARNING:tensorflow:From /usr/local/lib/python3.6/dist-packages/keras/backend/tensorflow_backend.py:223: The name tf.variables_initializer is deprecated. Please use tf.compat.v1.variables_initializer instead.\n",
            "\n",
            "WARNING:tensorflow:From /usr/local/lib/python3.6/dist-packages/keras/backend/tensorflow_backend.py:2041: The name tf.nn.fused_batch_norm is deprecated. Please use tf.compat.v1.nn.fused_batch_norm instead.\n",
            "\n",
            "WARNING:tensorflow:From /usr/local/lib/python3.6/dist-packages/keras/backend/tensorflow_backend.py:4267: The name tf.nn.max_pool is deprecated. Please use tf.nn.max_pool2d instead.\n",
            "\n",
            "Model: \"sequential_2\"\n",
            "_________________________________________________________________\n",
            "Layer (type)                 Output Shape              Param #   \n",
            "=================================================================\n",
            "conv2d_1 (Conv2D)            (None, 96, 96, 32)        288       \n",
            "_________________________________________________________________\n",
            "leaky_re_lu_1 (LeakyReLU)    (None, 96, 96, 32)        0         \n",
            "_________________________________________________________________\n",
            "batch_normalization_1 (Batch (None, 96, 96, 32)        128       \n",
            "_________________________________________________________________\n",
            "conv2d_2 (Conv2D)            (None, 96, 96, 32)        9216      \n",
            "_________________________________________________________________\n",
            "leaky_re_lu_2 (LeakyReLU)    (None, 96, 96, 32)        0         \n",
            "_________________________________________________________________\n",
            "batch_normalization_2 (Batch (None, 96, 96, 32)        128       \n",
            "_________________________________________________________________\n",
            "max_pooling2d_1 (MaxPooling2 (None, 48, 48, 32)        0         \n",
            "_________________________________________________________________\n",
            "conv2d_3 (Conv2D)            (None, 48, 48, 64)        18432     \n",
            "_________________________________________________________________\n",
            "leaky_re_lu_3 (LeakyReLU)    (None, 48, 48, 64)        0         \n",
            "_________________________________________________________________\n",
            "batch_normalization_3 (Batch (None, 48, 48, 64)        256       \n",
            "_________________________________________________________________\n",
            "conv2d_4 (Conv2D)            (None, 48, 48, 64)        36864     \n",
            "_________________________________________________________________\n",
            "leaky_re_lu_4 (LeakyReLU)    (None, 48, 48, 64)        0         \n",
            "_________________________________________________________________\n",
            "batch_normalization_4 (Batch (None, 48, 48, 64)        256       \n",
            "_________________________________________________________________\n",
            "max_pooling2d_2 (MaxPooling2 (None, 24, 24, 64)        0         \n",
            "_________________________________________________________________\n",
            "conv2d_5 (Conv2D)            (None, 24, 24, 96)        55296     \n",
            "_________________________________________________________________\n",
            "leaky_re_lu_5 (LeakyReLU)    (None, 24, 24, 96)        0         \n",
            "_________________________________________________________________\n",
            "batch_normalization_5 (Batch (None, 24, 24, 96)        384       \n",
            "_________________________________________________________________\n",
            "conv2d_6 (Conv2D)            (None, 24, 24, 96)        82944     \n",
            "_________________________________________________________________\n",
            "leaky_re_lu_6 (LeakyReLU)    (None, 24, 24, 96)        0         \n",
            "_________________________________________________________________\n",
            "batch_normalization_6 (Batch (None, 24, 24, 96)        384       \n",
            "_________________________________________________________________\n",
            "max_pooling2d_3 (MaxPooling2 (None, 12, 12, 96)        0         \n",
            "_________________________________________________________________\n",
            "conv2d_7 (Conv2D)            (None, 12, 12, 128)       110592    \n",
            "_________________________________________________________________\n",
            "leaky_re_lu_7 (LeakyReLU)    (None, 12, 12, 128)       0         \n",
            "_________________________________________________________________\n",
            "batch_normalization_7 (Batch (None, 12, 12, 128)       512       \n",
            "_________________________________________________________________\n",
            "conv2d_8 (Conv2D)            (None, 12, 12, 128)       147456    \n",
            "_________________________________________________________________\n",
            "leaky_re_lu_8 (LeakyReLU)    (None, 12, 12, 128)       0         \n",
            "_________________________________________________________________\n",
            "batch_normalization_8 (Batch (None, 12, 12, 128)       512       \n",
            "_________________________________________________________________\n",
            "max_pooling2d_4 (MaxPooling2 (None, 6, 6, 128)         0         \n",
            "_________________________________________________________________\n",
            "conv2d_9 (Conv2D)            (None, 6, 6, 256)         294912    \n",
            "_________________________________________________________________\n",
            "leaky_re_lu_9 (LeakyReLU)    (None, 6, 6, 256)         0         \n",
            "_________________________________________________________________\n",
            "batch_normalization_9 (Batch (None, 6, 6, 256)         1024      \n",
            "_________________________________________________________________\n",
            "conv2d_10 (Conv2D)           (None, 6, 6, 256)         589824    \n",
            "_________________________________________________________________\n",
            "leaky_re_lu_10 (LeakyReLU)   (None, 6, 6, 256)         0         \n",
            "_________________________________________________________________\n",
            "batch_normalization_10 (Batc (None, 6, 6, 256)         1024      \n",
            "_________________________________________________________________\n",
            "max_pooling2d_5 (MaxPooling2 (None, 3, 3, 256)         0         \n",
            "_________________________________________________________________\n",
            "conv2d_11 (Conv2D)           (None, 3, 3, 512)         1179648   \n",
            "_________________________________________________________________\n",
            "leaky_re_lu_11 (LeakyReLU)   (None, 3, 3, 512)         0         \n",
            "_________________________________________________________________\n",
            "batch_normalization_11 (Batc (None, 3, 3, 512)         2048      \n",
            "_________________________________________________________________\n",
            "conv2d_12 (Conv2D)           (None, 3, 3, 512)         2359296   \n",
            "_________________________________________________________________\n",
            "leaky_re_lu_12 (LeakyReLU)   (None, 3, 3, 512)         0         \n",
            "_________________________________________________________________\n",
            "batch_normalization_12 (Batc (None, 3, 3, 512)         2048      \n",
            "_________________________________________________________________\n",
            "flatten_2 (Flatten)          (None, 4608)              0         \n",
            "_________________________________________________________________\n",
            "dense_4 (Dense)              (None, 512)               2359808   \n",
            "_________________________________________________________________\n",
            "dropout_2 (Dropout)          (None, 512)               0         \n",
            "_________________________________________________________________\n",
            "dense_5 (Dense)              (None, 30)                15390     \n",
            "=================================================================\n",
            "Total params: 7,268,670\n",
            "Trainable params: 7,264,318\n",
            "Non-trainable params: 4,352\n",
            "_________________________________________________________________\n"
          ],
          "name": "stdout"
        }
      ]
    },
    {
      "cell_type": "code",
      "metadata": {
        "trusted": true,
        "id": "RJHXOKR3Wonb",
        "colab_type": "code",
        "outputId": "3afbb827-487c-469e-b0b5-424a48b53a15",
        "colab": {
          "base_uri": "https://localhost:8080/",
          "height": 72
        }
      },
      "source": [
        "model.compile(optimizer='adam', \n",
        "              loss='mean_squared_error',\n",
        "              metrics=['mae'])"
      ],
      "execution_count": 18,
      "outputs": [
        {
          "output_type": "stream",
          "text": [
            "WARNING:tensorflow:From /usr/local/lib/python3.6/dist-packages/keras/optimizers.py:793: The name tf.train.Optimizer is deprecated. Please use tf.compat.v1.train.Optimizer instead.\n",
            "\n"
          ],
          "name": "stdout"
        }
      ]
    },
    {
      "cell_type": "markdown",
      "metadata": {
        "_uuid": "e4cf4686b410841f2e34dbb081f3429d1b0f67e9",
        "id": "Ra51c8g6Wonm",
        "colab_type": "text"
      },
      "source": [
        "Now our model is defined and we will train it by calling fit method. I ran it for 500 iteration keeping batch size and validtion set size as 20% ( 20% of the training data will be kept for validating the model )."
      ]
    },
    {
      "cell_type": "code",
      "metadata": {
        "trusted": true,
        "_uuid": "894af9cbfcf2dca50e7407946cad318157b77d0a",
        "id": "1Dz-y90NWonq",
        "colab_type": "code",
        "outputId": "eb217d2f-bd3f-4910-cb18-c3a8e5ac95c4",
        "colab": {
          "base_uri": "https://localhost:8080/",
          "height": 1000
        }
      },
      "source": [
        "model.fit(X_train,y_train,epochs = 50,batch_size = 256,validation_split = 0.2)"
      ],
      "execution_count": 19,
      "outputs": [
        {
          "output_type": "stream",
          "text": [
            "WARNING:tensorflow:From /usr/local/lib/python3.6/dist-packages/keras/backend/tensorflow_backend.py:1033: The name tf.assign_add is deprecated. Please use tf.compat.v1.assign_add instead.\n",
            "\n",
            "WARNING:tensorflow:From /usr/local/lib/python3.6/dist-packages/keras/backend/tensorflow_backend.py:1020: The name tf.assign is deprecated. Please use tf.compat.v1.assign instead.\n",
            "\n",
            "Train on 5639 samples, validate on 1410 samples\n",
            "Epoch 1/50\n",
            "5639/5639 [==============================] - 12s 2ms/step - loss: 345.4070 - mean_absolute_error: 11.9561 - val_loss: 1718.1622 - val_mean_absolute_error: 38.2564\n",
            "Epoch 2/50\n",
            "5639/5639 [==============================] - 4s 746us/step - loss: 32.8500 - mean_absolute_error: 4.4617 - val_loss: 166.1147 - val_mean_absolute_error: 11.6245\n",
            "Epoch 3/50\n",
            "5639/5639 [==============================] - 4s 744us/step - loss: 26.8426 - mean_absolute_error: 4.0045 - val_loss: 36.2020 - val_mean_absolute_error: 5.1881\n",
            "Epoch 4/50\n",
            "5639/5639 [==============================] - 4s 750us/step - loss: 23.6914 - mean_absolute_error: 3.7523 - val_loss: 10.2031 - val_mean_absolute_error: 2.4634\n",
            "Epoch 5/50\n",
            "5639/5639 [==============================] - 4s 744us/step - loss: 22.1951 - mean_absolute_error: 3.6138 - val_loss: 16.9111 - val_mean_absolute_error: 3.3421\n",
            "Epoch 6/50\n",
            "5639/5639 [==============================] - 4s 747us/step - loss: 20.9168 - mean_absolute_error: 3.5119 - val_loss: 6.4663 - val_mean_absolute_error: 1.6272\n",
            "Epoch 7/50\n",
            "5639/5639 [==============================] - 4s 746us/step - loss: 18.7632 - mean_absolute_error: 3.3090 - val_loss: 5.1196 - val_mean_absolute_error: 1.3932\n",
            "Epoch 8/50\n",
            "5639/5639 [==============================] - 4s 742us/step - loss: 17.4963 - mean_absolute_error: 3.1951 - val_loss: 5.1036 - val_mean_absolute_error: 1.4528\n",
            "Epoch 9/50\n",
            "5639/5639 [==============================] - 4s 745us/step - loss: 16.6358 - mean_absolute_error: 3.1042 - val_loss: 5.5900 - val_mean_absolute_error: 1.5808\n",
            "Epoch 10/50\n",
            "5639/5639 [==============================] - 4s 745us/step - loss: 15.2050 - mean_absolute_error: 2.9574 - val_loss: 4.4842 - val_mean_absolute_error: 1.2945\n",
            "Epoch 11/50\n",
            "5639/5639 [==============================] - 4s 747us/step - loss: 16.0945 - mean_absolute_error: 3.0636 - val_loss: 5.1927 - val_mean_absolute_error: 1.4466\n",
            "Epoch 12/50\n",
            "5639/5639 [==============================] - 4s 746us/step - loss: 13.7631 - mean_absolute_error: 2.8178 - val_loss: 9.4043 - val_mean_absolute_error: 2.1716\n",
            "Epoch 13/50\n",
            "5639/5639 [==============================] - 4s 746us/step - loss: 13.3300 - mean_absolute_error: 2.7638 - val_loss: 17.2021 - val_mean_absolute_error: 3.2436\n",
            "Epoch 14/50\n",
            "5639/5639 [==============================] - 4s 745us/step - loss: 14.2904 - mean_absolute_error: 2.8775 - val_loss: 6.4103 - val_mean_absolute_error: 1.7046\n",
            "Epoch 15/50\n",
            "5639/5639 [==============================] - 4s 740us/step - loss: 12.3568 - mean_absolute_error: 2.6679 - val_loss: 47.9747 - val_mean_absolute_error: 5.7997\n",
            "Epoch 16/50\n",
            "5639/5639 [==============================] - 4s 745us/step - loss: 20.5092 - mean_absolute_error: 3.4543 - val_loss: 14.0795 - val_mean_absolute_error: 3.0128\n",
            "Epoch 17/50\n",
            "5639/5639 [==============================] - 4s 746us/step - loss: 12.5890 - mean_absolute_error: 2.6711 - val_loss: 7.7072 - val_mean_absolute_error: 2.0313\n",
            "Epoch 18/50\n",
            "5639/5639 [==============================] - 4s 744us/step - loss: 11.3765 - mean_absolute_error: 2.5380 - val_loss: 5.9276 - val_mean_absolute_error: 1.7225\n",
            "Epoch 19/50\n",
            "5639/5639 [==============================] - 4s 746us/step - loss: 11.3539 - mean_absolute_error: 2.5489 - val_loss: 9.7544 - val_mean_absolute_error: 2.5887\n",
            "Epoch 20/50\n",
            "5639/5639 [==============================] - 4s 744us/step - loss: 12.4054 - mean_absolute_error: 2.6750 - val_loss: 3.6047 - val_mean_absolute_error: 1.1690\n",
            "Epoch 21/50\n",
            "5639/5639 [==============================] - 4s 742us/step - loss: 10.5163 - mean_absolute_error: 2.4448 - val_loss: 3.7835 - val_mean_absolute_error: 1.2875\n",
            "Epoch 22/50\n",
            "5639/5639 [==============================] - 4s 742us/step - loss: 10.2338 - mean_absolute_error: 2.4182 - val_loss: 6.5372 - val_mean_absolute_error: 2.0531\n",
            "Epoch 23/50\n",
            "5639/5639 [==============================] - 4s 743us/step - loss: 10.5707 - mean_absolute_error: 2.4582 - val_loss: 19.4195 - val_mean_absolute_error: 3.9327\n",
            "Epoch 24/50\n",
            "5639/5639 [==============================] - 4s 743us/step - loss: 13.2538 - mean_absolute_error: 2.7911 - val_loss: 13.9621 - val_mean_absolute_error: 2.9525\n",
            "Epoch 25/50\n",
            "5639/5639 [==============================] - 4s 742us/step - loss: 10.8526 - mean_absolute_error: 2.4933 - val_loss: 5.2684 - val_mean_absolute_error: 1.6491\n",
            "Epoch 26/50\n",
            "5639/5639 [==============================] - 4s 744us/step - loss: 9.6526 - mean_absolute_error: 2.3478 - val_loss: 21.3505 - val_mean_absolute_error: 3.9621\n",
            "Epoch 27/50\n",
            "5639/5639 [==============================] - 4s 743us/step - loss: 12.0916 - mean_absolute_error: 2.6563 - val_loss: 7.1825 - val_mean_absolute_error: 2.2414\n",
            "Epoch 28/50\n",
            "5639/5639 [==============================] - 4s 740us/step - loss: 9.1801 - mean_absolute_error: 2.2908 - val_loss: 3.6031 - val_mean_absolute_error: 1.1510\n",
            "Epoch 29/50\n",
            "5639/5639 [==============================] - 4s 743us/step - loss: 8.3156 - mean_absolute_error: 2.1784 - val_loss: 3.8445 - val_mean_absolute_error: 1.1974\n",
            "Epoch 30/50\n",
            "5639/5639 [==============================] - 4s 741us/step - loss: 8.2441 - mean_absolute_error: 2.1628 - val_loss: 6.4450 - val_mean_absolute_error: 1.7982\n",
            "Epoch 31/50\n",
            "5639/5639 [==============================] - 4s 741us/step - loss: 7.9725 - mean_absolute_error: 2.1368 - val_loss: 13.2793 - val_mean_absolute_error: 3.1744\n",
            "Epoch 32/50\n",
            "5639/5639 [==============================] - 4s 743us/step - loss: 12.6926 - mean_absolute_error: 2.7137 - val_loss: 15.4929 - val_mean_absolute_error: 3.0972\n",
            "Epoch 33/50\n",
            "5639/5639 [==============================] - 4s 747us/step - loss: 8.7515 - mean_absolute_error: 2.2263 - val_loss: 8.0443 - val_mean_absolute_error: 2.1772\n",
            "Epoch 34/50\n",
            "5639/5639 [==============================] - 4s 745us/step - loss: 8.8019 - mean_absolute_error: 2.2537 - val_loss: 21.7879 - val_mean_absolute_error: 4.0300\n",
            "Epoch 35/50\n",
            "5639/5639 [==============================] - 4s 749us/step - loss: 10.9232 - mean_absolute_error: 2.5261 - val_loss: 14.9174 - val_mean_absolute_error: 3.1807\n",
            "Epoch 36/50\n",
            "5639/5639 [==============================] - 4s 751us/step - loss: 10.8590 - mean_absolute_error: 2.5166 - val_loss: 8.2531 - val_mean_absolute_error: 2.2032\n",
            "Epoch 37/50\n",
            "5639/5639 [==============================] - 4s 745us/step - loss: 9.0714 - mean_absolute_error: 2.2766 - val_loss: 4.1171 - val_mean_absolute_error: 1.2496\n",
            "Epoch 38/50\n",
            "5639/5639 [==============================] - 4s 741us/step - loss: 7.3193 - mean_absolute_error: 2.0448 - val_loss: 3.3475 - val_mean_absolute_error: 1.2347\n",
            "Epoch 39/50\n",
            "5639/5639 [==============================] - 4s 747us/step - loss: 7.3894 - mean_absolute_error: 2.0620 - val_loss: 5.3030 - val_mean_absolute_error: 1.7773\n",
            "Epoch 40/50\n",
            "5639/5639 [==============================] - 4s 750us/step - loss: 7.6852 - mean_absolute_error: 2.1070 - val_loss: 3.5592 - val_mean_absolute_error: 1.3429\n",
            "Epoch 41/50\n",
            "5639/5639 [==============================] - 4s 752us/step - loss: 6.9784 - mean_absolute_error: 2.0076 - val_loss: 9.1909 - val_mean_absolute_error: 2.5279\n",
            "Epoch 42/50\n",
            "5639/5639 [==============================] - 4s 750us/step - loss: 7.4388 - mean_absolute_error: 2.0664 - val_loss: 2.8809 - val_mean_absolute_error: 0.9649\n",
            "Epoch 43/50\n",
            "5639/5639 [==============================] - 4s 744us/step - loss: 7.0479 - mean_absolute_error: 2.0177 - val_loss: 4.8804 - val_mean_absolute_error: 1.7059\n",
            "Epoch 44/50\n",
            "5639/5639 [==============================] - 4s 749us/step - loss: 6.6761 - mean_absolute_error: 1.9597 - val_loss: 6.4524 - val_mean_absolute_error: 1.9124\n",
            "Epoch 45/50\n",
            "5639/5639 [==============================] - 4s 751us/step - loss: 7.1683 - mean_absolute_error: 2.0332 - val_loss: 8.9771 - val_mean_absolute_error: 2.3214\n",
            "Epoch 46/50\n",
            "5639/5639 [==============================] - 4s 754us/step - loss: 7.3813 - mean_absolute_error: 2.0593 - val_loss: 9.3609 - val_mean_absolute_error: 2.6129\n",
            "Epoch 47/50\n",
            "5639/5639 [==============================] - 4s 752us/step - loss: 7.2231 - mean_absolute_error: 2.0532 - val_loss: 3.5130 - val_mean_absolute_error: 1.1974\n",
            "Epoch 48/50\n",
            "5639/5639 [==============================] - 4s 752us/step - loss: 6.4718 - mean_absolute_error: 1.9358 - val_loss: 2.9955 - val_mean_absolute_error: 0.9035\n",
            "Epoch 49/50\n",
            "5639/5639 [==============================] - 4s 751us/step - loss: 5.5831 - mean_absolute_error: 1.7951 - val_loss: 11.8386 - val_mean_absolute_error: 2.6949\n",
            "Epoch 50/50\n",
            "5639/5639 [==============================] - 4s 749us/step - loss: 8.4184 - mean_absolute_error: 2.2337 - val_loss: 14.7345 - val_mean_absolute_error: 3.4121\n"
          ],
          "name": "stdout"
        },
        {
          "output_type": "execute_result",
          "data": {
            "text/plain": [
              "<keras.callbacks.History at 0x7fbe20074390>"
            ]
          },
          "metadata": {
            "tags": []
          },
          "execution_count": 19
        }
      ]
    },
    {
      "cell_type": "markdown",
      "metadata": {
        "_uuid": "cf7e21d1b2e1282636b8bca23d1297ec43642179",
        "id": "_TgQXh4YWon0",
        "colab_type": "text"
      },
      "source": [
        "Now lets prepare our testing data"
      ]
    },
    {
      "cell_type": "code",
      "metadata": {
        "trusted": true,
        "_uuid": "587e6f2a158cccc7b8de4df99885c9878c6a5683",
        "id": "b4Qanf2ZWon4",
        "colab_type": "code",
        "colab": {}
      },
      "source": [
        "#preparing test data\n",
        "timag = []\n",
        "for i in range(0,1783):\n",
        "    timg = test_data['Image'][i].split(' ')\n",
        "    timg = ['0' if x == '' else x for x in timg]\n",
        "    \n",
        "    timag.append(timg)"
      ],
      "execution_count": 0,
      "outputs": []
    },
    {
      "cell_type": "markdown",
      "metadata": {
        "_uuid": "88db8ebf9a5e18eb120ed1808ec361ff53bdc7be",
        "id": "14TiPcdzWooB",
        "colab_type": "text"
      },
      "source": [
        "Reshaping and converting "
      ]
    },
    {
      "cell_type": "code",
      "metadata": {
        "trusted": true,
        "_uuid": "1203ed3b00d70e52de0ac457facfb774a11f5816",
        "id": "oWMuz7FuWooD",
        "colab_type": "code",
        "colab": {}
      },
      "source": [
        "timage_list = np.array(timag,dtype = 'float')\n",
        "X_test = timage_list.reshape(-1,96,96,1) "
      ],
      "execution_count": 0,
      "outputs": []
    },
    {
      "cell_type": "markdown",
      "metadata": {
        "_uuid": "d6733e0e2d3fa1384f84bdfaa143b6278e07e736",
        "id": "HoTbbcPDWooO",
        "colab_type": "text"
      },
      "source": [
        "Lets see first image in out test data"
      ]
    },
    {
      "cell_type": "code",
      "metadata": {
        "trusted": true,
        "_uuid": "bd3f2367733d37be74f26a8a53a8b33808eaf64b",
        "id": "pJPbb1-mWooR",
        "colab_type": "code",
        "colab": {
          "base_uri": "https://localhost:8080/",
          "height": 268
        },
        "outputId": "f9e4308e-e1dd-467c-d3b5-be883fee6da1"
      },
      "source": [
        "plt.imshow(X_test[0].reshape(96,96),cmap = 'gray')\n",
        "plt.show()"
      ],
      "execution_count": 22,
      "outputs": [
        {
          "output_type": "display_data",
          "data": {
            "image/png": "[encoded data removed]",
            "text/plain": [
              "<Figure size 432x288 with 1 Axes>"
            ]
          },
          "metadata": {
            "tags": []
          }
        }
      ]
    },
    {
      "cell_type": "markdown",
      "metadata": {
        "_uuid": "c41bd777b9055ed782a475d88f9e7c0ac7d12a2b",
        "id": "WlohGjTdWooX",
        "colab_type": "text"
      },
      "source": [
        "Lets predict our results"
      ]
    },
    {
      "cell_type": "code",
      "metadata": {
        "trusted": true,
        "_uuid": "ecaf24956f805de32614c5476528102bdf56b329",
        "id": "Zz1Jkq8WWooa",
        "colab_type": "code",
        "colab": {}
      },
      "source": [
        "pred = model.predict(X_test)"
      ],
      "execution_count": 0,
      "outputs": []
    },
    {
      "cell_type": "markdown",
      "metadata": {
        "_uuid": "a64f6787a940d21dfa976511f8880254bf14a8ab",
        "id": "Fqh5uub9Wook",
        "colab_type": "text"
      },
      "source": [
        "Now the last step is the create our submission file keeping in the mind required format.\n",
        "There should be two columns :- RowId and Location\n",
        "Location column values should be filled according the lookup table provided ( IdLookupTable.csv)\n"
      ]
    },
    {
      "cell_type": "code",
      "metadata": {
        "trusted": true,
        "_uuid": "fff11927e693209f8f8d5029dffc74a53e1e8821",
        "id": "dXDQ--H1Woom",
        "colab_type": "code",
        "colab": {}
      },
      "source": [
        "lookid_list = list(lookid_data['FeatureName'])\n",
        "imageID = list(lookid_data['ImageId']-1)\n",
        "pre_list = list(pred)"
      ],
      "execution_count": 0,
      "outputs": []
    },
    {
      "cell_type": "code",
      "metadata": {
        "trusted": true,
        "_uuid": "3d3c36d9375d4b81b4dd33cd1cc645f17b32023b",
        "id": "6rmjJYZJWoor",
        "colab_type": "code",
        "colab": {}
      },
      "source": [
        "rowid = lookid_data['RowId']\n",
        "rowid=list(rowid)"
      ],
      "execution_count": 0,
      "outputs": []
    },
    {
      "cell_type": "code",
      "metadata": {
        "trusted": true,
        "_uuid": "de4123ef594738b0e23b485ba165f9ddc03b01de",
        "id": "Klyuf7ZzWopM",
        "colab_type": "code",
        "colab": {}
      },
      "source": [
        "feature = []\n",
        "for f in list(lookid_data['FeatureName']):\n",
        "    feature.append(lookid_list.index(f))"
      ],
      "execution_count": 0,
      "outputs": []
    },
    {
      "cell_type": "code",
      "metadata": {
        "trusted": true,
        "_uuid": "ae81c7411bedde81afbc315fbabaaf9f3223cff5",
        "id": "6OfM6u4aWopV",
        "colab_type": "code",
        "colab": {}
      },
      "source": [
        "preded = []\n",
        "for x,y in zip(imageID,feature):\n",
        "    preded.append(pre_list[x][y])"
      ],
      "execution_count": 0,
      "outputs": []
    },
    {
      "cell_type": "code",
      "metadata": {
        "trusted": true,
        "_uuid": "a1949844f3012f5944a2159eeb8547d5b9434b4f",
        "id": "4oBo09TrWope",
        "colab_type": "code",
        "colab": {}
      },
      "source": [
        "rowid = pd.Series(rowid,name = 'RowId')"
      ],
      "execution_count": 0,
      "outputs": []
    },
    {
      "cell_type": "code",
      "metadata": {
        "trusted": true,
        "_uuid": "bdc486586f354720bab48c2bbdb92287066cd977",
        "id": "cgoxZZNwWopm",
        "colab_type": "code",
        "colab": {}
      },
      "source": [
        "loc = pd.Series(preded,name = 'Location')"
      ],
      "execution_count": 0,
      "outputs": []
    },
    {
      "cell_type": "code",
      "metadata": {
        "trusted": true,
        "_uuid": "fb144e2fa32cad9a8b334a7730a75bfed8c7ac0f",
        "id": "Fo515MdfWopr",
        "colab_type": "code",
        "colab": {}
      },
      "source": [
        "submission = pd.concat([rowid,loc],axis = 1)\n"
      ],
      "execution_count": 0,
      "outputs": []
    },
    {
      "cell_type": "code",
      "metadata": {
        "id": "cZV8-GP6YOMe",
        "colab_type": "code",
        "colab": {}
      },
      "source": [
        "submission.to_csv('face_key_detection_submission.csv',index = False)"
      ],
      "execution_count": 0,
      "outputs": []
    }
  ]
}
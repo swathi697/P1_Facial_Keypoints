{
  "nbformat": 4,
  "nbformat_minor": 0,
  "metadata": {
    "kernelspec": {
      "name": "python3",
      "display_name": "Python 3"
    },
    "language_info": {
      "pygments_lexer": "ipython3",
      "nbconvert_exporter": "python",
      "version": "3.6.4",
      "file_extension": ".py",
      "codemirror_mode": {
        "name": "ipython",
        "version": 3
      },
      "name": "python",
      "mimetype": "text/x-python"
    },
    "colab": {
      "name": "facial keypoint detection using keras.ipynb",
      "provenance": [],
      "collapsed_sections": [],
      "include_colab_link": true
    },
    "accelerator": "GPU"
  },
  "cells": [
    {
      "cell_type": "markdown",
      "metadata": {
        "id": "view-in-github",
        "colab_type": "text"
      },
      "source": [
        "<a href=\"https://colab.research.google.com/github/swathi697/P1_Facial_Keypoints/blob/master/facial_keypoint_detection_using_keras.ipynb\" target=\"_parent\"><img src=\"https://colab.research.google.com/assets/colab-badge.svg\" alt=\"Open In Colab\"/></a>"
      ]
    },
    {
      "cell_type": "code",
      "metadata": {
        "_uuid": "8f2839f25d086af736a60e9eeb907d3b93b6e0e5",
        "_cell_guid": "b1076dfc-b9ad-4769-8c92-a6c4dae69d19",
        "trusted": true,
        "id": "k5fptNNNoM_V",
        "colab_type": "code",
        "colab": {}
      },
      "source": [
        "# This Python 3 environment comes with many helpful analytics libraries installed\n",
        "# It is defined by the kaggle/python docker image: https://github.com/kaggle/docker-python\n",
        "# For example, here's several helpful packages to load in \n",
        "\n",
        "import numpy as np # linear algebra\n",
        "import pandas as pd # data processing, CSV file I/O (e.g. pd.read_csv)\n",
        "\n",
        "# Input data files are available in the \"../input/\" directory.\n",
        "# For example, running this (by clicking run or pressing Shift+Enter) will list all files under the input directory\n",
        "\n",
        "#import os\n",
        "#for dirname, _, filenames in os.walk('/kaggle/input'):\n",
        "#    for filename in filenames:\n",
        "#        print(os.path.join(dirname, filename))\n",
        "\n",
        "# Any results you write to the current directory are saved as output."
      ],
      "execution_count": 0,
      "outputs": []
    },
    {
      "cell_type": "code",
      "metadata": {
        "id": "jBhjR1z8p3xQ",
        "colab_type": "code",
        "colab": {
          "base_uri": "https://localhost:8080/",
          "height": 124
        },
        "outputId": "12049788-43bd-4c37-ef92-74274abc1e8b"
      },
      "source": [
        "from google.colab import drive\n",
        "drive.mount('/content/drive')"
      ],
      "execution_count": 1,
      "outputs": [
        {
          "output_type": "stream",
          "text": [
            "Go to this URL in a browser: https://accounts.google.com/o/oauth2/auth?client_id=947318989803-6bn6qk8qdgf4n4g3pfee6491hc0brc4i.apps.googleusercontent.com&redirect_uri=urn%3Aietf%3Awg%3Aoauth%3A2.0%3Aoob&scope=email%20https%3A%2F%2Fwww.googleapis.com%2Fauth%2Fdocs.test%20https%3A%2F%2Fwww.googleapis.com%2Fauth%2Fdrive%20https%3A%2F%2Fwww.googleapis.com%2Fauth%2Fdrive.photos.readonly%20https%3A%2F%2Fwww.googleapis.com%2Fauth%2Fpeopleapi.readonly&response_type=code\n",
            "\n",
            "Enter your authorization code:\n",
            "··········\n",
            "Mounted at /content/drive\n"
          ],
          "name": "stdout"
        }
      ]
    },
    {
      "cell_type": "code",
      "metadata": {
        "id": "LiFnS2vWqKzi",
        "colab_type": "code",
        "colab": {
          "base_uri": "https://localhost:8080/",
          "height": 104
        },
        "outputId": "4afc7115-da17-4c7a-8e11-0ed37a0832e0"
      },
      "source": [
        "!unzip \"/content/drive/My Drive/facial-keypoints-detection.zip\""
      ],
      "execution_count": 3,
      "outputs": [
        {
          "output_type": "stream",
          "text": [
            "Archive:  /content/drive/My Drive/facial-keypoints-detection.zip\n",
            "  inflating: test.zip                \n",
            "  inflating: IdLookupTable.csv       \n",
            "  inflating: SampleSubmission.csv    \n",
            "  inflating: training.zip            \n"
          ],
          "name": "stdout"
        }
      ]
    },
    {
      "cell_type": "code",
      "metadata": {
        "trusted": true,
        "id": "ShZg71XIoM_v",
        "colab_type": "code",
        "colab": {}
      },
      "source": [
        "from sklearn.model_selection import train_test_split \n",
        "from matplotlib import pyplot as plt\n",
        "%matplotlib inline "
      ],
      "execution_count": 0,
      "outputs": []
    },
    {
      "cell_type": "code",
      "metadata": {
        "_uuid": "d629ff2d2480ee46fbb7e2d37f6b5fab8052498a",
        "_cell_guid": "79c7e3d0-c299-4dcb-8224-4455121ee9b0",
        "trusted": true,
        "id": "kti7UE3JoM_-",
        "colab_type": "code",
        "colab": {
          "base_uri": "https://localhost:8080/",
          "height": 173
        },
        "outputId": "f57c0821-ea91-493e-b6df-6079a97c706c"
      },
      "source": [
        "IdLookupTable = pd.read_csv('/content/IdLookupTable.csv')\n",
        "IdLookupTable.info()"
      ],
      "execution_count": 5,
      "outputs": [
        {
          "output_type": "stream",
          "text": [
            "<class 'pandas.core.frame.DataFrame'>\n",
            "RangeIndex: 27124 entries, 0 to 27123\n",
            "Data columns (total 4 columns):\n",
            "RowId          27124 non-null int64\n",
            "ImageId        27124 non-null int64\n",
            "FeatureName    27124 non-null object\n",
            "Location       0 non-null float64\n",
            "dtypes: float64(1), int64(2), object(1)\n",
            "memory usage: 847.8+ KB\n"
          ],
          "name": "stdout"
        }
      ]
    },
    {
      "cell_type": "code",
      "metadata": {
        "trusted": true,
        "id": "ox-tOz1AoNAS",
        "colab_type": "code",
        "colab": {
          "base_uri": "https://localhost:8080/",
          "height": 206
        },
        "outputId": "186f0287-e314-489f-d1af-1118ec738c62"
      },
      "source": [
        "IdLookupTable.head()"
      ],
      "execution_count": 6,
      "outputs": [
        {
          "output_type": "execute_result",
          "data": {
            "text/html": [
              "<div>\n",
              "<style scoped>\n",
              "    .dataframe tbody tr th:only-of-type {\n",
              "        vertical-align: middle;\n",
              "    }\n",
              "\n",
              "    .dataframe tbody tr th {\n",
              "        vertical-align: top;\n",
              "    }\n",
              "\n",
              "    .dataframe thead th {\n",
              "        text-align: right;\n",
              "    }\n",
              "</style>\n",
              "<table border=\"1\" class=\"dataframe\">\n",
              "  <thead>\n",
              "    <tr style=\"text-align: right;\">\n",
              "      <th></th>\n",
              "      <th>RowId</th>\n",
              "      <th>ImageId</th>\n",
              "      <th>FeatureName</th>\n",
              "      <th>Location</th>\n",
              "    </tr>\n",
              "  </thead>\n",
              "  <tbody>\n",
              "    <tr>\n",
              "      <th>0</th>\n",
              "      <td>1</td>\n",
              "      <td>1</td>\n",
              "      <td>left_eye_center_x</td>\n",
              "      <td>NaN</td>\n",
              "    </tr>\n",
              "    <tr>\n",
              "      <th>1</th>\n",
              "      <td>2</td>\n",
              "      <td>1</td>\n",
              "      <td>left_eye_center_y</td>\n",
              "      <td>NaN</td>\n",
              "    </tr>\n",
              "    <tr>\n",
              "      <th>2</th>\n",
              "      <td>3</td>\n",
              "      <td>1</td>\n",
              "      <td>right_eye_center_x</td>\n",
              "      <td>NaN</td>\n",
              "    </tr>\n",
              "    <tr>\n",
              "      <th>3</th>\n",
              "      <td>4</td>\n",
              "      <td>1</td>\n",
              "      <td>right_eye_center_y</td>\n",
              "      <td>NaN</td>\n",
              "    </tr>\n",
              "    <tr>\n",
              "      <th>4</th>\n",
              "      <td>5</td>\n",
              "      <td>1</td>\n",
              "      <td>left_eye_inner_corner_x</td>\n",
              "      <td>NaN</td>\n",
              "    </tr>\n",
              "  </tbody>\n",
              "</table>\n",
              "</div>"
            ],
            "text/plain": [
              "   RowId  ImageId              FeatureName  Location\n",
              "0      1        1        left_eye_center_x       NaN\n",
              "1      2        1        left_eye_center_y       NaN\n",
              "2      3        1       right_eye_center_x       NaN\n",
              "3      4        1       right_eye_center_y       NaN\n",
              "4      5        1  left_eye_inner_corner_x       NaN"
            ]
          },
          "metadata": {
            "tags": []
          },
          "execution_count": 6
        }
      ]
    },
    {
      "cell_type": "code",
      "metadata": {
        "trusted": true,
        "id": "dA5ZbvG7oNAf",
        "colab_type": "code",
        "colab": {
          "base_uri": "https://localhost:8080/",
          "height": 139
        },
        "outputId": "4ccf20ef-ce51-4ae2-beb6-364750a0456d"
      },
      "source": [
        "SampleSubmission = pd.read_csv('/content/SampleSubmission.csv')\n",
        "SampleSubmission.info()"
      ],
      "execution_count": 7,
      "outputs": [
        {
          "output_type": "stream",
          "text": [
            "<class 'pandas.core.frame.DataFrame'>\n",
            "RangeIndex: 27124 entries, 0 to 27123\n",
            "Data columns (total 2 columns):\n",
            "RowId       27124 non-null int64\n",
            "Location    27124 non-null int64\n",
            "dtypes: int64(2)\n",
            "memory usage: 423.9 KB\n"
          ],
          "name": "stdout"
        }
      ]
    },
    {
      "cell_type": "code",
      "metadata": {
        "trusted": true,
        "id": "q_wTld8EoNAt",
        "colab_type": "code",
        "colab": {
          "base_uri": "https://localhost:8080/",
          "height": 206
        },
        "outputId": "c3256a83-f2c5-4071-8075-4dba6ddf284d"
      },
      "source": [
        "SampleSubmission.head()"
      ],
      "execution_count": 8,
      "outputs": [
        {
          "output_type": "execute_result",
          "data": {
            "text/html": [
              "<div>\n",
              "<style scoped>\n",
              "    .dataframe tbody tr th:only-of-type {\n",
              "        vertical-align: middle;\n",
              "    }\n",
              "\n",
              "    .dataframe tbody tr th {\n",
              "        vertical-align: top;\n",
              "    }\n",
              "\n",
              "    .dataframe thead th {\n",
              "        text-align: right;\n",
              "    }\n",
              "</style>\n",
              "<table border=\"1\" class=\"dataframe\">\n",
              "  <thead>\n",
              "    <tr style=\"text-align: right;\">\n",
              "      <th></th>\n",
              "      <th>RowId</th>\n",
              "      <th>Location</th>\n",
              "    </tr>\n",
              "  </thead>\n",
              "  <tbody>\n",
              "    <tr>\n",
              "      <th>0</th>\n",
              "      <td>1</td>\n",
              "      <td>0</td>\n",
              "    </tr>\n",
              "    <tr>\n",
              "      <th>1</th>\n",
              "      <td>2</td>\n",
              "      <td>0</td>\n",
              "    </tr>\n",
              "    <tr>\n",
              "      <th>2</th>\n",
              "      <td>3</td>\n",
              "      <td>0</td>\n",
              "    </tr>\n",
              "    <tr>\n",
              "      <th>3</th>\n",
              "      <td>4</td>\n",
              "      <td>0</td>\n",
              "    </tr>\n",
              "    <tr>\n",
              "      <th>4</th>\n",
              "      <td>5</td>\n",
              "      <td>0</td>\n",
              "    </tr>\n",
              "  </tbody>\n",
              "</table>\n",
              "</div>"
            ],
            "text/plain": [
              "   RowId  Location\n",
              "0      1         0\n",
              "1      2         0\n",
              "2      3         0\n",
              "3      4         0\n",
              "4      5         0"
            ]
          },
          "metadata": {
            "tags": []
          },
          "execution_count": 8
        }
      ]
    },
    {
      "cell_type": "code",
      "metadata": {
        "id": "Lbqm3L5-rWwZ",
        "colab_type": "code",
        "colab": {
          "base_uri": "https://localhost:8080/",
          "height": 52
        },
        "outputId": "c2b41820-a081-483b-f58d-e30217a3bc55"
      },
      "source": [
        "!unzip \"/content/test.zip\""
      ],
      "execution_count": 9,
      "outputs": [
        {
          "output_type": "stream",
          "text": [
            "Archive:  /content/test.zip\n",
            "  inflating: test.csv                \n"
          ],
          "name": "stdout"
        }
      ]
    },
    {
      "cell_type": "code",
      "metadata": {
        "id": "BeAcjzztrW68",
        "colab_type": "code",
        "colab": {
          "base_uri": "https://localhost:8080/",
          "height": 52
        },
        "outputId": "4056564f-dc78-4f32-c99c-fb964e2ae2d7"
      },
      "source": [
        "!unzip \"/content/training.zip\""
      ],
      "execution_count": 10,
      "outputs": [
        {
          "output_type": "stream",
          "text": [
            "Archive:  /content/training.zip\n",
            "  inflating: training.csv            \n"
          ],
          "name": "stdout"
        }
      ]
    },
    {
      "cell_type": "code",
      "metadata": {
        "trusted": true,
        "id": "U59X_YjWoNA4",
        "colab_type": "code",
        "colab": {
          "base_uri": "https://localhost:8080/",
          "height": 139
        },
        "outputId": "3344d211-dde7-4c24-8368-0eb919dd8361"
      },
      "source": [
        "test = pd.read_csv('/content/test.csv')\n",
        "test.info()"
      ],
      "execution_count": 11,
      "outputs": [
        {
          "output_type": "stream",
          "text": [
            "<class 'pandas.core.frame.DataFrame'>\n",
            "RangeIndex: 1783 entries, 0 to 1782\n",
            "Data columns (total 2 columns):\n",
            "ImageId    1783 non-null int64\n",
            "Image      1783 non-null object\n",
            "dtypes: int64(1), object(1)\n",
            "memory usage: 28.0+ KB\n"
          ],
          "name": "stdout"
        }
      ]
    },
    {
      "cell_type": "code",
      "metadata": {
        "trusted": true,
        "id": "m7EPHps8oNBB",
        "colab_type": "code",
        "colab": {
          "base_uri": "https://localhost:8080/",
          "height": 206
        },
        "outputId": "ec64c6e5-ffaa-4994-ddcf-876556176439"
      },
      "source": [
        "test.head()"
      ],
      "execution_count": 12,
      "outputs": [
        {
          "output_type": "execute_result",
          "data": {
            "text/html": [
              "<div>\n",
              "<style scoped>\n",
              "    .dataframe tbody tr th:only-of-type {\n",
              "        vertical-align: middle;\n",
              "    }\n",
              "\n",
              "    .dataframe tbody tr th {\n",
              "        vertical-align: top;\n",
              "    }\n",
              "\n",
              "    .dataframe thead th {\n",
              "        text-align: right;\n",
              "    }\n",
              "</style>\n",
              "<table border=\"1\" class=\"dataframe\">\n",
              "  <thead>\n",
              "    <tr style=\"text-align: right;\">\n",
              "      <th></th>\n",
              "      <th>ImageId</th>\n",
              "      <th>Image</th>\n",
              "    </tr>\n",
              "  </thead>\n",
              "  <tbody>\n",
              "    <tr>\n",
              "      <th>0</th>\n",
              "      <td>1</td>\n",
              "      <td>182 183 182 182 180 180 176 169 156 137 124 10...</td>\n",
              "    </tr>\n",
              "    <tr>\n",
              "      <th>1</th>\n",
              "      <td>2</td>\n",
              "      <td>76 87 81 72 65 59 64 76 69 42 31 38 49 58 58 4...</td>\n",
              "    </tr>\n",
              "    <tr>\n",
              "      <th>2</th>\n",
              "      <td>3</td>\n",
              "      <td>177 176 174 170 169 169 168 166 166 166 161 14...</td>\n",
              "    </tr>\n",
              "    <tr>\n",
              "      <th>3</th>\n",
              "      <td>4</td>\n",
              "      <td>176 174 174 175 174 174 176 176 175 171 165 15...</td>\n",
              "    </tr>\n",
              "    <tr>\n",
              "      <th>4</th>\n",
              "      <td>5</td>\n",
              "      <td>50 47 44 101 144 149 120 58 48 42 35 35 37 39 ...</td>\n",
              "    </tr>\n",
              "  </tbody>\n",
              "</table>\n",
              "</div>"
            ],
            "text/plain": [
              "   ImageId                                              Image\n",
              "0        1  182 183 182 182 180 180 176 169 156 137 124 10...\n",
              "1        2  76 87 81 72 65 59 64 76 69 42 31 38 49 58 58 4...\n",
              "2        3  177 176 174 170 169 169 168 166 166 166 161 14...\n",
              "3        4  176 174 174 175 174 174 176 176 175 171 165 15...\n",
              "4        5  50 47 44 101 144 149 120 58 48 42 35 35 37 39 ..."
            ]
          },
          "metadata": {
            "tags": []
          },
          "execution_count": 12
        }
      ]
    },
    {
      "cell_type": "code",
      "metadata": {
        "trusted": true,
        "id": "-qA6Bx8xoNBS",
        "colab_type": "code",
        "colab": {
          "base_uri": "https://localhost:8080/",
          "height": 642
        },
        "outputId": "a41fc1b0-758d-4ebb-b032-36a6aa7e4387"
      },
      "source": [
        "training = pd.read_csv('/content/training.csv')\n",
        "training.info()"
      ],
      "execution_count": 13,
      "outputs": [
        {
          "output_type": "stream",
          "text": [
            "<class 'pandas.core.frame.DataFrame'>\n",
            "RangeIndex: 7049 entries, 0 to 7048\n",
            "Data columns (total 31 columns):\n",
            "left_eye_center_x            7039 non-null float64\n",
            "left_eye_center_y            7039 non-null float64\n",
            "right_eye_center_x           7036 non-null float64\n",
            "right_eye_center_y           7036 non-null float64\n",
            "left_eye_inner_corner_x      2271 non-null float64\n",
            "left_eye_inner_corner_y      2271 non-null float64\n",
            "left_eye_outer_corner_x      2267 non-null float64\n",
            "left_eye_outer_corner_y      2267 non-null float64\n",
            "right_eye_inner_corner_x     2268 non-null float64\n",
            "right_eye_inner_corner_y     2268 non-null float64\n",
            "right_eye_outer_corner_x     2268 non-null float64\n",
            "right_eye_outer_corner_y     2268 non-null float64\n",
            "left_eyebrow_inner_end_x     2270 non-null float64\n",
            "left_eyebrow_inner_end_y     2270 non-null float64\n",
            "left_eyebrow_outer_end_x     2225 non-null float64\n",
            "left_eyebrow_outer_end_y     2225 non-null float64\n",
            "right_eyebrow_inner_end_x    2270 non-null float64\n",
            "right_eyebrow_inner_end_y    2270 non-null float64\n",
            "right_eyebrow_outer_end_x    2236 non-null float64\n",
            "right_eyebrow_outer_end_y    2236 non-null float64\n",
            "nose_tip_x                   7049 non-null float64\n",
            "nose_tip_y                   7049 non-null float64\n",
            "mouth_left_corner_x          2269 non-null float64\n",
            "mouth_left_corner_y          2269 non-null float64\n",
            "mouth_right_corner_x         2270 non-null float64\n",
            "mouth_right_corner_y         2270 non-null float64\n",
            "mouth_center_top_lip_x       2275 non-null float64\n",
            "mouth_center_top_lip_y       2275 non-null float64\n",
            "mouth_center_bottom_lip_x    7016 non-null float64\n",
            "mouth_center_bottom_lip_y    7016 non-null float64\n",
            "Image                        7049 non-null object\n",
            "dtypes: float64(30), object(1)\n",
            "memory usage: 1.7+ MB\n"
          ],
          "name": "stdout"
        }
      ]
    },
    {
      "cell_type": "code",
      "metadata": {
        "trusted": true,
        "id": "m4Xid-HqoNBf",
        "colab_type": "code",
        "colab": {
          "base_uri": "https://localhost:8080/",
          "height": 514
        },
        "outputId": "059c85ec-8b2b-496e-c6e9-2d0183936f30"
      },
      "source": [
        "training.head(2)"
      ],
      "execution_count": 14,
      "outputs": [
        {
          "output_type": "execute_result",
          "data": {
            "text/html": [
              "<div>\n",
              "<style scoped>\n",
              "    .dataframe tbody tr th:only-of-type {\n",
              "        vertical-align: middle;\n",
              "    }\n",
              "\n",
              "    .dataframe tbody tr th {\n",
              "        vertical-align: top;\n",
              "    }\n",
              "\n",
              "    .dataframe thead th {\n",
              "        text-align: right;\n",
              "    }\n",
              "</style>\n",
              "<table border=\"1\" class=\"dataframe\">\n",
              "  <thead>\n",
              "    <tr style=\"text-align: right;\">\n",
              "      <th></th>\n",
              "      <th>left_eye_center_x</th>\n",
              "      <th>left_eye_center_y</th>\n",
              "      <th>right_eye_center_x</th>\n",
              "      <th>right_eye_center_y</th>\n",
              "      <th>left_eye_inner_corner_x</th>\n",
              "      <th>left_eye_inner_corner_y</th>\n",
              "      <th>left_eye_outer_corner_x</th>\n",
              "      <th>left_eye_outer_corner_y</th>\n",
              "      <th>right_eye_inner_corner_x</th>\n",
              "      <th>right_eye_inner_corner_y</th>\n",
              "      <th>right_eye_outer_corner_x</th>\n",
              "      <th>right_eye_outer_corner_y</th>\n",
              "      <th>left_eyebrow_inner_end_x</th>\n",
              "      <th>left_eyebrow_inner_end_y</th>\n",
              "      <th>left_eyebrow_outer_end_x</th>\n",
              "      <th>left_eyebrow_outer_end_y</th>\n",
              "      <th>right_eyebrow_inner_end_x</th>\n",
              "      <th>right_eyebrow_inner_end_y</th>\n",
              "      <th>right_eyebrow_outer_end_x</th>\n",
              "      <th>right_eyebrow_outer_end_y</th>\n",
              "      <th>nose_tip_x</th>\n",
              "      <th>nose_tip_y</th>\n",
              "      <th>mouth_left_corner_x</th>\n",
              "      <th>mouth_left_corner_y</th>\n",
              "      <th>mouth_right_corner_x</th>\n",
              "      <th>mouth_right_corner_y</th>\n",
              "      <th>mouth_center_top_lip_x</th>\n",
              "      <th>mouth_center_top_lip_y</th>\n",
              "      <th>mouth_center_bottom_lip_x</th>\n",
              "      <th>mouth_center_bottom_lip_y</th>\n",
              "      <th>Image</th>\n",
              "    </tr>\n",
              "  </thead>\n",
              "  <tbody>\n",
              "    <tr>\n",
              "      <th>0</th>\n",
              "      <td>66.033564</td>\n",
              "      <td>39.002274</td>\n",
              "      <td>30.227008</td>\n",
              "      <td>36.421678</td>\n",
              "      <td>59.582075</td>\n",
              "      <td>39.647423</td>\n",
              "      <td>73.130346</td>\n",
              "      <td>39.969997</td>\n",
              "      <td>36.356571</td>\n",
              "      <td>37.389402</td>\n",
              "      <td>23.452872</td>\n",
              "      <td>37.389402</td>\n",
              "      <td>56.953263</td>\n",
              "      <td>29.033648</td>\n",
              "      <td>80.227128</td>\n",
              "      <td>32.228138</td>\n",
              "      <td>40.227609</td>\n",
              "      <td>29.002322</td>\n",
              "      <td>16.356379</td>\n",
              "      <td>29.647471</td>\n",
              "      <td>44.420571</td>\n",
              "      <td>57.066803</td>\n",
              "      <td>61.195308</td>\n",
              "      <td>79.970165</td>\n",
              "      <td>28.614496</td>\n",
              "      <td>77.388992</td>\n",
              "      <td>43.312602</td>\n",
              "      <td>72.935459</td>\n",
              "      <td>43.130707</td>\n",
              "      <td>84.485774</td>\n",
              "      <td>238 236 237 238 240 240 239 241 241 243 240 23...</td>\n",
              "    </tr>\n",
              "    <tr>\n",
              "      <th>1</th>\n",
              "      <td>64.332936</td>\n",
              "      <td>34.970077</td>\n",
              "      <td>29.949277</td>\n",
              "      <td>33.448715</td>\n",
              "      <td>58.856170</td>\n",
              "      <td>35.274349</td>\n",
              "      <td>70.722723</td>\n",
              "      <td>36.187166</td>\n",
              "      <td>36.034723</td>\n",
              "      <td>34.361532</td>\n",
              "      <td>24.472511</td>\n",
              "      <td>33.144443</td>\n",
              "      <td>53.987404</td>\n",
              "      <td>28.275949</td>\n",
              "      <td>78.634213</td>\n",
              "      <td>30.405923</td>\n",
              "      <td>42.728851</td>\n",
              "      <td>26.146043</td>\n",
              "      <td>16.865362</td>\n",
              "      <td>27.058860</td>\n",
              "      <td>48.206298</td>\n",
              "      <td>55.660936</td>\n",
              "      <td>56.421447</td>\n",
              "      <td>76.352000</td>\n",
              "      <td>35.122383</td>\n",
              "      <td>76.047660</td>\n",
              "      <td>46.684596</td>\n",
              "      <td>70.266553</td>\n",
              "      <td>45.467915</td>\n",
              "      <td>85.480170</td>\n",
              "      <td>219 215 204 196 204 211 212 200 180 168 178 19...</td>\n",
              "    </tr>\n",
              "  </tbody>\n",
              "</table>\n",
              "</div>"
            ],
            "text/plain": [
              "   left_eye_center_x  ...                                              Image\n",
              "0          66.033564  ...  238 236 237 238 240 240 239 241 241 243 240 23...\n",
              "1          64.332936  ...  219 215 204 196 204 211 212 200 180 168 178 19...\n",
              "\n",
              "[2 rows x 31 columns]"
            ]
          },
          "metadata": {
            "tags": []
          },
          "execution_count": 14
        }
      ]
    },
    {
      "cell_type": "code",
      "metadata": {
        "trusted": true,
        "id": "9IJ07Wu5oNBu",
        "colab_type": "code",
        "colab": {}
      },
      "source": [
        "training = training.dropna()\n",
        "#training.fillna(method = 'ffill',inplace = True)"
      ],
      "execution_count": 0,
      "outputs": []
    },
    {
      "cell_type": "code",
      "metadata": {
        "trusted": true,
        "id": "8XBexWe1oNCA",
        "colab_type": "code",
        "colab": {
          "base_uri": "https://localhost:8080/",
          "height": 34
        },
        "outputId": "111601d8-7dc9-44ba-ff78-bd58e9f5c910"
      },
      "source": [
        "training.shape, type(training)"
      ],
      "execution_count": 16,
      "outputs": [
        {
          "output_type": "execute_result",
          "data": {
            "text/plain": [
              "((2140, 31), pandas.core.frame.DataFrame)"
            ]
          },
          "metadata": {
            "tags": []
          },
          "execution_count": 16
        }
      ]
    },
    {
      "cell_type": "code",
      "metadata": {
        "trusted": true,
        "id": "m-8pdZTJoNCJ",
        "colab_type": "code",
        "colab": {}
      },
      "source": [
        "training['Image'] = training['Image'].apply(lambda x: np.fromstring(x, dtype=int, sep=' ').reshape((96,96)))"
      ],
      "execution_count": 0,
      "outputs": []
    },
    {
      "cell_type": "code",
      "metadata": {
        "trusted": true,
        "id": "KdZwbh_ooNCa",
        "colab_type": "code",
        "colab": {}
      },
      "source": [
        "def get_image_and_dots(df, index):\n",
        "    image = plt.imshow(df['Image'][index],cmap='gray')\n",
        "    l = []\n",
        "    for i in range(1,31,2):\n",
        "        l.append(plt.plot(df.loc[index][i-1], df.loc[index][i], 'ro'))\n",
        "        \n",
        "    return image, l\n"
      ],
      "execution_count": 0,
      "outputs": []
    },
    {
      "cell_type": "code",
      "metadata": {
        "trusted": true,
        "id": "CudUzsr1oNCo",
        "colab_type": "code",
        "colab": {
          "base_uri": "https://localhost:8080/",
          "height": 610
        },
        "outputId": "c8ec5b35-f2d8-4c4a-e0ab-8fc236fd4245"
      },
      "source": [
        "fig = plt.figure(figsize=(8, 8))\n",
        "fig.subplots_adjust(\n",
        "    left=0, right=1, bottom=0, top=1, hspace=0.05, wspace=0.05)\n",
        "\n",
        "for i in range(16):\n",
        "    ax = fig.add_subplot(4, 4, i + 1, xticks=[], yticks=[])\n",
        "    get_image_and_dots(training, i)\n",
        "\n",
        "plt.show()"
      ],
      "execution_count": 19,
      "outputs": [
        {
          "output_type": "display_data",
          "data": {
            "image/png": "[encoded data removed]",
            "text/plain": [
              "<Figure size 576x576 with 16 Axes>"
            ]
          },
          "metadata": {
            "tags": []
          }
        }
      ]
    },
    {
      "cell_type": "code",
      "metadata": {
        "trusted": true,
        "id": "ZTe0a_NDoNC1",
        "colab_type": "code",
        "colab": {}
      },
      "source": [
        "X = np.asarray([training['Image']], dtype=np.uint8).reshape(training.shape[0],96,96,1)\n",
        "y = training.drop(['Image'], axis=1)"
      ],
      "execution_count": 0,
      "outputs": []
    },
    {
      "cell_type": "code",
      "metadata": {
        "trusted": true,
        "id": "erGRzX9OoNDA",
        "colab_type": "code",
        "colab": {
          "base_uri": "https://localhost:8080/",
          "height": 34
        },
        "outputId": "e9791274-2a89-4a09-805c-f70fd55863a6"
      },
      "source": [
        "X.shape"
      ],
      "execution_count": 21,
      "outputs": [
        {
          "output_type": "execute_result",
          "data": {
            "text/plain": [
              "(2140, 96, 96, 1)"
            ]
          },
          "metadata": {
            "tags": []
          },
          "execution_count": 21
        }
      ]
    },
    {
      "cell_type": "code",
      "metadata": {
        "trusted": true,
        "id": "4lB8TIBUoNDL",
        "colab_type": "code",
        "colab": {
          "base_uri": "https://localhost:8080/",
          "height": 34
        },
        "outputId": "b808ffa5-b54b-459c-b92f-7b57e6feab38"
      },
      "source": [
        "y.shape"
      ],
      "execution_count": 22,
      "outputs": [
        {
          "output_type": "execute_result",
          "data": {
            "text/plain": [
              "(2140, 30)"
            ]
          },
          "metadata": {
            "tags": []
          },
          "execution_count": 22
        }
      ]
    },
    {
      "cell_type": "code",
      "metadata": {
        "trusted": true,
        "id": "VceVSoVVoNDT",
        "colab_type": "code",
        "colab": {
          "base_uri": "https://localhost:8080/",
          "height": 34
        },
        "outputId": "0f33aeb7-2242-44e5-8084-7e86370a73c0"
      },
      "source": [
        "type(X), type(y)"
      ],
      "execution_count": 23,
      "outputs": [
        {
          "output_type": "execute_result",
          "data": {
            "text/plain": [
              "(numpy.ndarray, pandas.core.frame.DataFrame)"
            ]
          },
          "metadata": {
            "tags": []
          },
          "execution_count": 23
        }
      ]
    },
    {
      "cell_type": "code",
      "metadata": {
        "trusted": true,
        "id": "BnRVdjaToNDj",
        "colab_type": "code",
        "colab": {}
      },
      "source": [
        "y2 = y.to_numpy()"
      ],
      "execution_count": 0,
      "outputs": []
    },
    {
      "cell_type": "code",
      "metadata": {
        "trusted": true,
        "id": "fbfKBxCXoNDs",
        "colab_type": "code",
        "colab": {
          "base_uri": "https://localhost:8080/",
          "height": 34
        },
        "outputId": "82879912-13c0-46de-d492-c68deabd40e9"
      },
      "source": [
        "type(y2), y2.shape"
      ],
      "execution_count": 25,
      "outputs": [
        {
          "output_type": "execute_result",
          "data": {
            "text/plain": [
              "(numpy.ndarray, (2140, 30))"
            ]
          },
          "metadata": {
            "tags": []
          },
          "execution_count": 25
        }
      ]
    },
    {
      "cell_type": "code",
      "metadata": {
        "trusted": true,
        "id": "KRmoidxfoND2",
        "colab_type": "code",
        "colab": {}
      },
      "source": [
        "X_train, X_test, y_train, y_test = train_test_split(X, y2, test_size=0.3, random_state=42)"
      ],
      "execution_count": 0,
      "outputs": []
    },
    {
      "cell_type": "markdown",
      "metadata": {
        "id": "TL560vOEoNED",
        "colab_type": "text"
      },
      "source": [
        "Model"
      ]
    },
    {
      "cell_type": "code",
      "metadata": {
        "trusted": true,
        "id": "sXck9L61oNEF",
        "colab_type": "code",
        "colab": {}
      },
      "source": [
        "from keras.models import Sequential\n",
        "from keras.layers import Dense, Conv2D, Flatten, AvgPool2D, BatchNormalization, Dropout, Activation, MaxPooling2D\n",
        "from keras.optimizers import Adam\n",
        "from keras import regularizers\n",
        "from keras.layers.advanced_activations import LeakyReLU\n",
        "from keras.models import Sequential, Model\n",
        "from keras.layers import Activation, Convolution2D, MaxPooling2D, BatchNormalization, Flatten, Dense, Dropout, Conv2D,MaxPool2D, ZeroPadding2D"
      ],
      "execution_count": 0,
      "outputs": []
    },
    {
      "cell_type": "code",
      "metadata": {
        "trusted": true,
        "id": "n8Q6Y9w2oNEP",
        "colab_type": "code",
        "colab": {
          "base_uri": "https://localhost:8080/",
          "height": 1000
        },
        "outputId": "57dae666-0da8-4962-ed94-33b58519421f"
      },
      "source": [
        "model = Sequential()\n",
        "\n",
        "model.add(Convolution2D(32, (3,3), padding='same', use_bias=False, input_shape=(96,96,1)))\n",
        "model.add(LeakyReLU(alpha = 0.1))\n",
        "model.add(BatchNormalization())\n",
        "\n",
        "model.add(Convolution2D(32, (3,3), padding='same', use_bias=False))\n",
        "model.add(LeakyReLU(alpha = 0.1))\n",
        "model.add(BatchNormalization())\n",
        "model.add(MaxPool2D(pool_size=(2, 2)))\n",
        "\n",
        "model.add(Convolution2D(64, (3,3), padding='same', use_bias=False))\n",
        "model.add(LeakyReLU(alpha = 0.1))\n",
        "model.add(BatchNormalization())\n",
        "\n",
        "model.add(Convolution2D(64, (3,3), padding='same', use_bias=False))\n",
        "model.add(LeakyReLU(alpha = 0.1))\n",
        "model.add(BatchNormalization())\n",
        "model.add(MaxPool2D(pool_size=(2, 2)))\n",
        "\n",
        "model.add(Convolution2D(96, (3,3), padding='same', use_bias=False))\n",
        "model.add(LeakyReLU(alpha = 0.1))\n",
        "model.add(BatchNormalization())\n",
        "\n",
        "model.add(Convolution2D(96, (3,3), padding='same', use_bias=False))\n",
        "model.add(LeakyReLU(alpha = 0.1))\n",
        "model.add(BatchNormalization())\n",
        "model.add(MaxPool2D(pool_size=(2, 2)))\n",
        "\n",
        "model.add(Convolution2D(128, (3,3),padding='same', use_bias=False))\n",
        "# model.add(BatchNormalization())\n",
        "model.add(LeakyReLU(alpha = 0.1))\n",
        "model.add(BatchNormalization())\n",
        "\n",
        "model.add(Convolution2D(128, (3,3),padding='same', use_bias=False))\n",
        "model.add(LeakyReLU(alpha = 0.1))\n",
        "model.add(BatchNormalization())\n",
        "model.add(MaxPool2D(pool_size=(2, 2)))\n",
        "\n",
        "model.add(Convolution2D(256, (3,3),padding='same',use_bias=False))\n",
        "model.add(LeakyReLU(alpha = 0.1))\n",
        "model.add(BatchNormalization())\n",
        "\n",
        "model.add(Convolution2D(256, (3,3),padding='same',use_bias=False))\n",
        "model.add(LeakyReLU(alpha = 0.1))\n",
        "model.add(BatchNormalization())\n",
        "model.add(MaxPool2D(pool_size=(2, 2)))\n",
        "\n",
        "model.add(Convolution2D(512, (3,3), padding='same', use_bias=False))\n",
        "model.add(LeakyReLU(alpha = 0.1))\n",
        "model.add(BatchNormalization())\n",
        "\n",
        "model.add(Convolution2D(512, (3,3), padding='same', use_bias=False))\n",
        "model.add(LeakyReLU(alpha = 0.1))\n",
        "model.add(BatchNormalization())\n",
        "\n",
        "\n",
        "model.add(Flatten())\n",
        "model.add(Dense(512,activation='relu'))\n",
        "model.add(Dropout(0.1))\n",
        "model.add(Dense(30))\n",
        "model.summary()"
      ],
      "execution_count": 29,
      "outputs": [
        {
          "output_type": "stream",
          "text": [
            "WARNING:tensorflow:From /usr/local/lib/python3.6/dist-packages/keras/backend/tensorflow_backend.py:66: The name tf.get_default_graph is deprecated. Please use tf.compat.v1.get_default_graph instead.\n",
            "\n",
            "WARNING:tensorflow:From /usr/local/lib/python3.6/dist-packages/keras/backend/tensorflow_backend.py:541: The name tf.placeholder is deprecated. Please use tf.compat.v1.placeholder instead.\n",
            "\n",
            "WARNING:tensorflow:From /usr/local/lib/python3.6/dist-packages/keras/backend/tensorflow_backend.py:4432: The name tf.random_uniform is deprecated. Please use tf.random.uniform instead.\n",
            "\n",
            "WARNING:tensorflow:From /usr/local/lib/python3.6/dist-packages/keras/backend/tensorflow_backend.py:190: The name tf.get_default_session is deprecated. Please use tf.compat.v1.get_default_session instead.\n",
            "\n",
            "WARNING:tensorflow:From /usr/local/lib/python3.6/dist-packages/keras/backend/tensorflow_backend.py:197: The name tf.ConfigProto is deprecated. Please use tf.compat.v1.ConfigProto instead.\n",
            "\n",
            "WARNING:tensorflow:From /usr/local/lib/python3.6/dist-packages/keras/backend/tensorflow_backend.py:203: The name tf.Session is deprecated. Please use tf.compat.v1.Session instead.\n",
            "\n",
            "WARNING:tensorflow:From /usr/local/lib/python3.6/dist-packages/keras/backend/tensorflow_backend.py:207: The name tf.global_variables is deprecated. Please use tf.compat.v1.global_variables instead.\n",
            "\n",
            "WARNING:tensorflow:From /usr/local/lib/python3.6/dist-packages/keras/backend/tensorflow_backend.py:216: The name tf.is_variable_initialized is deprecated. Please use tf.compat.v1.is_variable_initialized instead.\n",
            "\n",
            "WARNING:tensorflow:From /usr/local/lib/python3.6/dist-packages/keras/backend/tensorflow_backend.py:223: The name tf.variables_initializer is deprecated. Please use tf.compat.v1.variables_initializer instead.\n",
            "\n",
            "WARNING:tensorflow:From /usr/local/lib/python3.6/dist-packages/keras/backend/tensorflow_backend.py:2041: The name tf.nn.fused_batch_norm is deprecated. Please use tf.compat.v1.nn.fused_batch_norm instead.\n",
            "\n",
            "WARNING:tensorflow:From /usr/local/lib/python3.6/dist-packages/keras/backend/tensorflow_backend.py:148: The name tf.placeholder_with_default is deprecated. Please use tf.compat.v1.placeholder_with_default instead.\n",
            "\n",
            "WARNING:tensorflow:From /usr/local/lib/python3.6/dist-packages/keras/backend/tensorflow_backend.py:4267: The name tf.nn.max_pool is deprecated. Please use tf.nn.max_pool2d instead.\n",
            "\n",
            "WARNING:tensorflow:From /usr/local/lib/python3.6/dist-packages/keras/backend/tensorflow_backend.py:3733: calling dropout (from tensorflow.python.ops.nn_ops) with keep_prob is deprecated and will be removed in a future version.\n",
            "Instructions for updating:\n",
            "Please use `rate` instead of `keep_prob`. Rate should be set to `rate = 1 - keep_prob`.\n",
            "Model: \"sequential_1\"\n",
            "_________________________________________________________________\n",
            "Layer (type)                 Output Shape              Param #   \n",
            "=================================================================\n",
            "conv2d_1 (Conv2D)            (None, 96, 96, 32)        288       \n",
            "_________________________________________________________________\n",
            "leaky_re_lu_1 (LeakyReLU)    (None, 96, 96, 32)        0         \n",
            "_________________________________________________________________\n",
            "batch_normalization_1 (Batch (None, 96, 96, 32)        128       \n",
            "_________________________________________________________________\n",
            "conv2d_2 (Conv2D)            (None, 96, 96, 32)        9216      \n",
            "_________________________________________________________________\n",
            "leaky_re_lu_2 (LeakyReLU)    (None, 96, 96, 32)        0         \n",
            "_________________________________________________________________\n",
            "batch_normalization_2 (Batch (None, 96, 96, 32)        128       \n",
            "_________________________________________________________________\n",
            "max_pooling2d_1 (MaxPooling2 (None, 48, 48, 32)        0         \n",
            "_________________________________________________________________\n",
            "conv2d_3 (Conv2D)            (None, 48, 48, 64)        18432     \n",
            "_________________________________________________________________\n",
            "leaky_re_lu_3 (LeakyReLU)    (None, 48, 48, 64)        0         \n",
            "_________________________________________________________________\n",
            "batch_normalization_3 (Batch (None, 48, 48, 64)        256       \n",
            "_________________________________________________________________\n",
            "conv2d_4 (Conv2D)            (None, 48, 48, 64)        36864     \n",
            "_________________________________________________________________\n",
            "leaky_re_lu_4 (LeakyReLU)    (None, 48, 48, 64)        0         \n",
            "_________________________________________________________________\n",
            "batch_normalization_4 (Batch (None, 48, 48, 64)        256       \n",
            "_________________________________________________________________\n",
            "max_pooling2d_2 (MaxPooling2 (None, 24, 24, 64)        0         \n",
            "_________________________________________________________________\n",
            "conv2d_5 (Conv2D)            (None, 24, 24, 96)        55296     \n",
            "_________________________________________________________________\n",
            "leaky_re_lu_5 (LeakyReLU)    (None, 24, 24, 96)        0         \n",
            "_________________________________________________________________\n",
            "batch_normalization_5 (Batch (None, 24, 24, 96)        384       \n",
            "_________________________________________________________________\n",
            "conv2d_6 (Conv2D)            (None, 24, 24, 96)        82944     \n",
            "_________________________________________________________________\n",
            "leaky_re_lu_6 (LeakyReLU)    (None, 24, 24, 96)        0         \n",
            "_________________________________________________________________\n",
            "batch_normalization_6 (Batch (None, 24, 24, 96)        384       \n",
            "_________________________________________________________________\n",
            "max_pooling2d_3 (MaxPooling2 (None, 12, 12, 96)        0         \n",
            "_________________________________________________________________\n",
            "conv2d_7 (Conv2D)            (None, 12, 12, 128)       110592    \n",
            "_________________________________________________________________\n",
            "leaky_re_lu_7 (LeakyReLU)    (None, 12, 12, 128)       0         \n",
            "_________________________________________________________________\n",
            "batch_normalization_7 (Batch (None, 12, 12, 128)       512       \n",
            "_________________________________________________________________\n",
            "conv2d_8 (Conv2D)            (None, 12, 12, 128)       147456    \n",
            "_________________________________________________________________\n",
            "leaky_re_lu_8 (LeakyReLU)    (None, 12, 12, 128)       0         \n",
            "_________________________________________________________________\n",
            "batch_normalization_8 (Batch (None, 12, 12, 128)       512       \n",
            "_________________________________________________________________\n",
            "max_pooling2d_4 (MaxPooling2 (None, 6, 6, 128)         0         \n",
            "_________________________________________________________________\n",
            "conv2d_9 (Conv2D)            (None, 6, 6, 256)         294912    \n",
            "_________________________________________________________________\n",
            "leaky_re_lu_9 (LeakyReLU)    (None, 6, 6, 256)         0         \n",
            "_________________________________________________________________\n",
            "batch_normalization_9 (Batch (None, 6, 6, 256)         1024      \n",
            "_________________________________________________________________\n",
            "conv2d_10 (Conv2D)           (None, 6, 6, 256)         589824    \n",
            "_________________________________________________________________\n",
            "leaky_re_lu_10 (LeakyReLU)   (None, 6, 6, 256)         0         \n",
            "_________________________________________________________________\n",
            "batch_normalization_10 (Batc (None, 6, 6, 256)         1024      \n",
            "_________________________________________________________________\n",
            "max_pooling2d_5 (MaxPooling2 (None, 3, 3, 256)         0         \n",
            "_________________________________________________________________\n",
            "conv2d_11 (Conv2D)           (None, 3, 3, 512)         1179648   \n",
            "_________________________________________________________________\n",
            "leaky_re_lu_11 (LeakyReLU)   (None, 3, 3, 512)         0         \n",
            "_________________________________________________________________\n",
            "batch_normalization_11 (Batc (None, 3, 3, 512)         2048      \n",
            "_________________________________________________________________\n",
            "conv2d_12 (Conv2D)           (None, 3, 3, 512)         2359296   \n",
            "_________________________________________________________________\n",
            "leaky_re_lu_12 (LeakyReLU)   (None, 3, 3, 512)         0         \n",
            "_________________________________________________________________\n",
            "batch_normalization_12 (Batc (None, 3, 3, 512)         2048      \n",
            "_________________________________________________________________\n",
            "flatten_1 (Flatten)          (None, 4608)              0         \n",
            "_________________________________________________________________\n",
            "dense_1 (Dense)              (None, 512)               2359808   \n",
            "_________________________________________________________________\n",
            "dropout_1 (Dropout)          (None, 512)               0         \n",
            "_________________________________________________________________\n",
            "dense_2 (Dense)              (None, 30)                15390     \n",
            "=================================================================\n",
            "Total params: 7,268,670\n",
            "Trainable params: 7,264,318\n",
            "Non-trainable params: 4,352\n",
            "_________________________________________________________________\n"
          ],
          "name": "stdout"
        }
      ]
    },
    {
      "cell_type": "code",
      "metadata": {
        "trusted": true,
        "id": "OW7-SNVMoNEY",
        "colab_type": "code",
        "colab": {
          "base_uri": "https://localhost:8080/",
          "height": 72
        },
        "outputId": "60c227fd-13ec-4365-fcd0-898a7b81b237"
      },
      "source": [
        "model.compile(optimizer='Adam', \n",
        "              loss='mse', \n",
        "              metrics=['mae'])"
      ],
      "execution_count": 30,
      "outputs": [
        {
          "output_type": "stream",
          "text": [
            "WARNING:tensorflow:From /usr/local/lib/python3.6/dist-packages/keras/optimizers.py:793: The name tf.train.Optimizer is deprecated. Please use tf.compat.v1.train.Optimizer instead.\n",
            "\n"
          ],
          "name": "stdout"
        }
      ]
    },
    {
      "cell_type": "code",
      "metadata": {
        "trusted": true,
        "id": "7r_75b6PoNEg",
        "colab_type": "code",
        "colab": {
          "base_uri": "https://localhost:8080/",
          "height": 1000
        },
        "outputId": "fa864aeb-b61c-43b0-eaae-fb577981b85b"
      },
      "source": [
        "model.fit(X_train, y_train, epochs=500)"
      ],
      "execution_count": 31,
      "outputs": [
        {
          "output_type": "stream",
          "text": [
            "WARNING:tensorflow:From /usr/local/lib/python3.6/dist-packages/keras/backend/tensorflow_backend.py:1033: The name tf.assign_add is deprecated. Please use tf.compat.v1.assign_add instead.\n",
            "\n",
            "WARNING:tensorflow:From /usr/local/lib/python3.6/dist-packages/keras/backend/tensorflow_backend.py:1020: The name tf.assign is deprecated. Please use tf.compat.v1.assign instead.\n",
            "\n",
            "Epoch 1/500\n",
            "1498/1498 [==============================] - 13s 8ms/step - loss: 187.9980 - mean_absolute_error: 8.0371\n",
            "Epoch 2/500\n",
            "1498/1498 [==============================] - 5s 4ms/step - loss: 24.4253 - mean_absolute_error: 3.8832\n",
            "Epoch 3/500\n",
            "1498/1498 [==============================] - 5s 4ms/step - loss: 22.3517 - mean_absolute_error: 3.7120\n",
            "Epoch 4/500\n",
            "1498/1498 [==============================] - 5s 4ms/step - loss: 18.1860 - mean_absolute_error: 3.3380\n",
            "Epoch 5/500\n",
            "1498/1498 [==============================] - 6s 4ms/step - loss: 17.4702 - mean_absolute_error: 3.2838\n",
            "Epoch 6/500\n",
            "1498/1498 [==============================] - 5s 4ms/step - loss: 15.0846 - mean_absolute_error: 3.0359\n",
            "Epoch 7/500\n",
            "1498/1498 [==============================] - 5s 4ms/step - loss: 14.4589 - mean_absolute_error: 2.9738\n",
            "Epoch 8/500\n",
            "1498/1498 [==============================] - 5s 4ms/step - loss: 12.5529 - mean_absolute_error: 2.7656\n",
            "Epoch 9/500\n",
            "1498/1498 [==============================] - 5s 4ms/step - loss: 12.4168 - mean_absolute_error: 2.7492\n",
            "Epoch 10/500\n",
            "1498/1498 [==============================] - 5s 4ms/step - loss: 11.7985 - mean_absolute_error: 2.6820\n",
            "Epoch 11/500\n",
            "1498/1498 [==============================] - 5s 4ms/step - loss: 11.1570 - mean_absolute_error: 2.5987\n",
            "Epoch 12/500\n",
            "1498/1498 [==============================] - 5s 4ms/step - loss: 9.8499 - mean_absolute_error: 2.4490\n",
            "Epoch 13/500\n",
            "1498/1498 [==============================] - 5s 4ms/step - loss: 9.5522 - mean_absolute_error: 2.4065\n",
            "Epoch 14/500\n",
            "1498/1498 [==============================] - 5s 4ms/step - loss: 9.2273 - mean_absolute_error: 2.3644\n",
            "Epoch 15/500\n",
            "1498/1498 [==============================] - 6s 4ms/step - loss: 10.0875 - mean_absolute_error: 2.4754\n",
            "Epoch 16/500\n",
            "1498/1498 [==============================] - 6s 4ms/step - loss: 13.2963 - mean_absolute_error: 2.8619\n",
            "Epoch 17/500\n",
            "1498/1498 [==============================] - 5s 4ms/step - loss: 9.8844 - mean_absolute_error: 2.4459\n",
            "Epoch 18/500\n",
            "1498/1498 [==============================] - 5s 4ms/step - loss: 8.3957 - mean_absolute_error: 2.2608\n",
            "Epoch 19/500\n",
            "1498/1498 [==============================] - 5s 4ms/step - loss: 9.8059 - mean_absolute_error: 2.4353\n",
            "Epoch 20/500\n",
            "1498/1498 [==============================] - 5s 4ms/step - loss: 10.0383 - mean_absolute_error: 2.4486\n",
            "Epoch 21/500\n",
            "1498/1498 [==============================] - 5s 4ms/step - loss: 9.9042 - mean_absolute_error: 2.4473\n",
            "Epoch 22/500\n",
            "1498/1498 [==============================] - 5s 4ms/step - loss: 7.4262 - mean_absolute_error: 2.1169\n",
            "Epoch 23/500\n",
            "1498/1498 [==============================] - 5s 4ms/step - loss: 8.2338 - mean_absolute_error: 2.2365\n",
            "Epoch 24/500\n",
            "1498/1498 [==============================] - 5s 4ms/step - loss: 7.0054 - mean_absolute_error: 2.0632\n",
            "Epoch 25/500\n",
            "1498/1498 [==============================] - 5s 4ms/step - loss: 6.7984 - mean_absolute_error: 2.0261\n",
            "Epoch 26/500\n",
            "1498/1498 [==============================] - 5s 4ms/step - loss: 7.5766 - mean_absolute_error: 2.1409\n",
            "Epoch 27/500\n",
            "1498/1498 [==============================] - 5s 4ms/step - loss: 7.8068 - mean_absolute_error: 2.1643\n",
            "Epoch 28/500\n",
            "1498/1498 [==============================] - 5s 4ms/step - loss: 7.7261 - mean_absolute_error: 2.1481\n",
            "Epoch 29/500\n",
            "1498/1498 [==============================] - 5s 4ms/step - loss: 6.3584 - mean_absolute_error: 1.9567\n",
            "Epoch 30/500\n",
            "1498/1498 [==============================] - 5s 4ms/step - loss: 7.6315 - mean_absolute_error: 2.1538\n",
            "Epoch 31/500\n",
            "1498/1498 [==============================] - 5s 4ms/step - loss: 7.0015 - mean_absolute_error: 2.0513\n",
            "Epoch 32/500\n",
            "1498/1498 [==============================] - 5s 4ms/step - loss: 6.6831 - mean_absolute_error: 1.9884\n",
            "Epoch 33/500\n",
            "1498/1498 [==============================] - 5s 4ms/step - loss: 8.5155 - mean_absolute_error: 2.2559\n",
            "Epoch 34/500\n",
            "1498/1498 [==============================] - 5s 4ms/step - loss: 6.7404 - mean_absolute_error: 2.0086\n",
            "Epoch 35/500\n",
            "1498/1498 [==============================] - 5s 4ms/step - loss: 6.0522 - mean_absolute_error: 1.8989\n",
            "Epoch 36/500\n",
            "1498/1498 [==============================] - 5s 4ms/step - loss: 5.7796 - mean_absolute_error: 1.8540\n",
            "Epoch 37/500\n",
            "1498/1498 [==============================] - 5s 4ms/step - loss: 6.6616 - mean_absolute_error: 1.9969\n",
            "Epoch 38/500\n",
            "1498/1498 [==============================] - 5s 4ms/step - loss: 5.7212 - mean_absolute_error: 1.8388\n",
            "Epoch 39/500\n",
            "1498/1498 [==============================] - 5s 4ms/step - loss: 6.0955 - mean_absolute_error: 1.8953\n",
            "Epoch 40/500\n",
            "1498/1498 [==============================] - 5s 4ms/step - loss: 7.3827 - mean_absolute_error: 2.1030\n",
            "Epoch 41/500\n",
            "1498/1498 [==============================] - 5s 4ms/step - loss: 6.0402 - mean_absolute_error: 1.8871\n",
            "Epoch 42/500\n",
            "1498/1498 [==============================] - 5s 4ms/step - loss: 6.4238 - mean_absolute_error: 1.9518\n",
            "Epoch 43/500\n",
            "1498/1498 [==============================] - 5s 4ms/step - loss: 6.3105 - mean_absolute_error: 1.9316\n",
            "Epoch 44/500\n",
            "1498/1498 [==============================] - 5s 4ms/step - loss: 5.2068 - mean_absolute_error: 1.7563\n",
            "Epoch 45/500\n",
            "1498/1498 [==============================] - 5s 4ms/step - loss: 5.9735 - mean_absolute_error: 1.8887\n",
            "Epoch 46/500\n",
            "1498/1498 [==============================] - 5s 4ms/step - loss: 5.1741 - mean_absolute_error: 1.7528\n",
            "Epoch 47/500\n",
            "1498/1498 [==============================] - 5s 4ms/step - loss: 5.3104 - mean_absolute_error: 1.7682\n",
            "Epoch 48/500\n",
            "1498/1498 [==============================] - 5s 4ms/step - loss: 5.7005 - mean_absolute_error: 1.8491\n",
            "Epoch 49/500\n",
            "1498/1498 [==============================] - 5s 4ms/step - loss: 4.8589 - mean_absolute_error: 1.6941\n",
            "Epoch 50/500\n",
            "1498/1498 [==============================] - 5s 4ms/step - loss: 5.1689 - mean_absolute_error: 1.7386\n",
            "Epoch 51/500\n",
            "1498/1498 [==============================] - 5s 4ms/step - loss: 4.7225 - mean_absolute_error: 1.6700\n",
            "Epoch 52/500\n",
            "1498/1498 [==============================] - 5s 4ms/step - loss: 5.1205 - mean_absolute_error: 1.7342\n",
            "Epoch 53/500\n",
            "1498/1498 [==============================] - 5s 4ms/step - loss: 4.5453 - mean_absolute_error: 1.6397\n",
            "Epoch 54/500\n",
            "1498/1498 [==============================] - 5s 4ms/step - loss: 5.4374 - mean_absolute_error: 1.7951\n",
            "Epoch 55/500\n",
            "1498/1498 [==============================] - 5s 4ms/step - loss: 7.2002 - mean_absolute_error: 2.0835\n",
            "Epoch 56/500\n",
            "1498/1498 [==============================] - 5s 4ms/step - loss: 6.1893 - mean_absolute_error: 1.9093\n",
            "Epoch 57/500\n",
            "1498/1498 [==============================] - 5s 4ms/step - loss: 5.0274 - mean_absolute_error: 1.7193\n",
            "Epoch 58/500\n",
            "1498/1498 [==============================] - 5s 4ms/step - loss: 5.6624 - mean_absolute_error: 1.8228\n",
            "Epoch 59/500\n",
            "1498/1498 [==============================] - 5s 4ms/step - loss: 4.8212 - mean_absolute_error: 1.6969\n",
            "Epoch 60/500\n",
            "1498/1498 [==============================] - 5s 4ms/step - loss: 5.6893 - mean_absolute_error: 1.8246\n",
            "Epoch 61/500\n",
            "1498/1498 [==============================] - 5s 4ms/step - loss: 5.3790 - mean_absolute_error: 1.7743\n",
            "Epoch 62/500\n",
            "1498/1498 [==============================] - 5s 4ms/step - loss: 5.9435 - mean_absolute_error: 1.8794\n",
            "Epoch 63/500\n",
            "1498/1498 [==============================] - 5s 4ms/step - loss: 4.9210 - mean_absolute_error: 1.7030\n",
            "Epoch 64/500\n",
            "1498/1498 [==============================] - 5s 4ms/step - loss: 4.9817 - mean_absolute_error: 1.7112\n",
            "Epoch 65/500\n",
            "1498/1498 [==============================] - 5s 4ms/step - loss: 4.6431 - mean_absolute_error: 1.6434\n",
            "Epoch 66/500\n",
            "1498/1498 [==============================] - 5s 4ms/step - loss: 4.6220 - mean_absolute_error: 1.6469\n",
            "Epoch 67/500\n",
            "1498/1498 [==============================] - 5s 4ms/step - loss: 4.6993 - mean_absolute_error: 1.6604\n",
            "Epoch 68/500\n",
            "1498/1498 [==============================] - 5s 4ms/step - loss: 4.2918 - mean_absolute_error: 1.5886\n",
            "Epoch 69/500\n",
            "1498/1498 [==============================] - 5s 4ms/step - loss: 4.3146 - mean_absolute_error: 1.5917\n",
            "Epoch 70/500\n",
            "1498/1498 [==============================] - 5s 4ms/step - loss: 5.6247 - mean_absolute_error: 1.8169\n",
            "Epoch 71/500\n",
            "1498/1498 [==============================] - 5s 4ms/step - loss: 6.4399 - mean_absolute_error: 1.9431\n",
            "Epoch 72/500\n",
            "1498/1498 [==============================] - 5s 4ms/step - loss: 4.1271 - mean_absolute_error: 1.5499\n",
            "Epoch 73/500\n",
            "1498/1498 [==============================] - 5s 4ms/step - loss: 4.1664 - mean_absolute_error: 1.5745\n",
            "Epoch 74/500\n",
            "1498/1498 [==============================] - 5s 4ms/step - loss: 4.3223 - mean_absolute_error: 1.5959\n",
            "Epoch 75/500\n",
            "1498/1498 [==============================] - 5s 4ms/step - loss: 4.4490 - mean_absolute_error: 1.6159\n",
            "Epoch 76/500\n",
            "1498/1498 [==============================] - 5s 4ms/step - loss: 5.4668 - mean_absolute_error: 1.8096\n",
            "Epoch 77/500\n",
            "1498/1498 [==============================] - 5s 4ms/step - loss: 4.8115 - mean_absolute_error: 1.6864\n",
            "Epoch 78/500\n",
            "1498/1498 [==============================] - 5s 4ms/step - loss: 4.5175 - mean_absolute_error: 1.6324\n",
            "Epoch 79/500\n",
            "1498/1498 [==============================] - 5s 4ms/step - loss: 4.1778 - mean_absolute_error: 1.5759\n",
            "Epoch 80/500\n",
            "1498/1498 [==============================] - 5s 4ms/step - loss: 5.3319 - mean_absolute_error: 1.7831\n",
            "Epoch 81/500\n",
            "1498/1498 [==============================] - 5s 4ms/step - loss: 4.0937 - mean_absolute_error: 1.5463\n",
            "Epoch 82/500\n",
            "1498/1498 [==============================] - 5s 4ms/step - loss: 4.4250 - mean_absolute_error: 1.6096\n",
            "Epoch 83/500\n",
            "1498/1498 [==============================] - 5s 4ms/step - loss: 4.6190 - mean_absolute_error: 1.6568\n",
            "Epoch 84/500\n",
            "1498/1498 [==============================] - 5s 4ms/step - loss: 4.8292 - mean_absolute_error: 1.6816\n",
            "Epoch 85/500\n",
            "1498/1498 [==============================] - 5s 4ms/step - loss: 4.6929 - mean_absolute_error: 1.6734\n",
            "Epoch 86/500\n",
            "1498/1498 [==============================] - 5s 4ms/step - loss: 4.2236 - mean_absolute_error: 1.5776\n",
            "Epoch 87/500\n",
            "1498/1498 [==============================] - 5s 4ms/step - loss: 4.2251 - mean_absolute_error: 1.5747\n",
            "Epoch 88/500\n",
            "1498/1498 [==============================] - 5s 4ms/step - loss: 4.8676 - mean_absolute_error: 1.6934\n",
            "Epoch 89/500\n",
            "1498/1498 [==============================] - 5s 4ms/step - loss: 4.5818 - mean_absolute_error: 1.6390\n",
            "Epoch 90/500\n",
            "1498/1498 [==============================] - 5s 4ms/step - loss: 3.9663 - mean_absolute_error: 1.5317\n",
            "Epoch 91/500\n",
            "1498/1498 [==============================] - 5s 4ms/step - loss: 4.1859 - mean_absolute_error: 1.5658\n",
            "Epoch 92/500\n",
            "1498/1498 [==============================] - 5s 4ms/step - loss: 4.2523 - mean_absolute_error: 1.5968\n",
            "Epoch 93/500\n",
            "1498/1498 [==============================] - 5s 4ms/step - loss: 4.7287 - mean_absolute_error: 1.6782\n",
            "Epoch 94/500\n",
            "1498/1498 [==============================] - 5s 4ms/step - loss: 4.1130 - mean_absolute_error: 1.5544\n",
            "Epoch 95/500\n",
            "1498/1498 [==============================] - 5s 4ms/step - loss: 4.2536 - mean_absolute_error: 1.5901\n",
            "Epoch 96/500\n",
            "1498/1498 [==============================] - 5s 4ms/step - loss: 4.9991 - mean_absolute_error: 1.7177\n",
            "Epoch 97/500\n",
            "1498/1498 [==============================] - 5s 4ms/step - loss: 4.2039 - mean_absolute_error: 1.5848\n",
            "Epoch 98/500\n",
            "1498/1498 [==============================] - 5s 4ms/step - loss: 4.3005 - mean_absolute_error: 1.6025\n",
            "Epoch 99/500\n",
            "1498/1498 [==============================] - 5s 4ms/step - loss: 5.4059 - mean_absolute_error: 1.7887\n",
            "Epoch 100/500\n",
            "1498/1498 [==============================] - 5s 4ms/step - loss: 5.3487 - mean_absolute_error: 1.7776\n",
            "Epoch 101/500\n",
            "1498/1498 [==============================] - 5s 4ms/step - loss: 4.5199 - mean_absolute_error: 1.6280\n",
            "Epoch 102/500\n",
            "1498/1498 [==============================] - 5s 4ms/step - loss: 3.9465 - mean_absolute_error: 1.5258\n",
            "Epoch 103/500\n",
            "1498/1498 [==============================] - 5s 4ms/step - loss: 3.7665 - mean_absolute_error: 1.4876\n",
            "Epoch 104/500\n",
            "1498/1498 [==============================] - 5s 4ms/step - loss: 4.0736 - mean_absolute_error: 1.5587\n",
            "Epoch 105/500\n",
            "1498/1498 [==============================] - 5s 4ms/step - loss: 4.0454 - mean_absolute_error: 1.5506\n",
            "Epoch 106/500\n",
            "1498/1498 [==============================] - 5s 4ms/step - loss: 3.6810 - mean_absolute_error: 1.4772\n",
            "Epoch 107/500\n",
            "1498/1498 [==============================] - 5s 4ms/step - loss: 4.0875 - mean_absolute_error: 1.5492\n",
            "Epoch 108/500\n",
            "1498/1498 [==============================] - 5s 4ms/step - loss: 4.7134 - mean_absolute_error: 1.6769\n",
            "Epoch 109/500\n",
            "1498/1498 [==============================] - 6s 4ms/step - loss: 4.5600 - mean_absolute_error: 1.6390\n",
            "Epoch 110/500\n",
            "1498/1498 [==============================] - 5s 4ms/step - loss: 4.8329 - mean_absolute_error: 1.6827\n",
            "Epoch 111/500\n",
            "1498/1498 [==============================] - 5s 4ms/step - loss: 4.3426 - mean_absolute_error: 1.6040\n",
            "Epoch 112/500\n",
            "1498/1498 [==============================] - 5s 4ms/step - loss: 3.9422 - mean_absolute_error: 1.5238\n",
            "Epoch 113/500\n",
            "1498/1498 [==============================] - 5s 4ms/step - loss: 4.3824 - mean_absolute_error: 1.6181\n",
            "Epoch 114/500\n",
            "1498/1498 [==============================] - 5s 4ms/step - loss: 3.9388 - mean_absolute_error: 1.5210\n",
            "Epoch 115/500\n",
            "1498/1498 [==============================] - 5s 4ms/step - loss: 3.9237 - mean_absolute_error: 1.5254\n",
            "Epoch 116/500\n",
            "1498/1498 [==============================] - 5s 4ms/step - loss: 3.9012 - mean_absolute_error: 1.5233\n",
            "Epoch 117/500\n",
            "1498/1498 [==============================] - 5s 4ms/step - loss: 3.9317 - mean_absolute_error: 1.5273\n",
            "Epoch 118/500\n",
            "1498/1498 [==============================] - 5s 4ms/step - loss: 4.0178 - mean_absolute_error: 1.5414\n",
            "Epoch 119/500\n",
            "1498/1498 [==============================] - 5s 4ms/step - loss: 4.1348 - mean_absolute_error: 1.5585\n",
            "Epoch 120/500\n",
            "1498/1498 [==============================] - 5s 4ms/step - loss: 4.2064 - mean_absolute_error: 1.5758\n",
            "Epoch 121/500\n",
            "1498/1498 [==============================] - 5s 4ms/step - loss: 4.6896 - mean_absolute_error: 1.6696\n",
            "Epoch 122/500\n",
            "1498/1498 [==============================] - 5s 4ms/step - loss: 4.4659 - mean_absolute_error: 1.6132\n",
            "Epoch 123/500\n",
            "1498/1498 [==============================] - 5s 4ms/step - loss: 3.7317 - mean_absolute_error: 1.4822\n",
            "Epoch 124/500\n",
            "1498/1498 [==============================] - 6s 4ms/step - loss: 3.7829 - mean_absolute_error: 1.5004\n",
            "Epoch 125/500\n",
            "1498/1498 [==============================] - 5s 4ms/step - loss: 3.5993 - mean_absolute_error: 1.4601\n",
            "Epoch 126/500\n",
            "1498/1498 [==============================] - 5s 4ms/step - loss: 3.7775 - mean_absolute_error: 1.4960\n",
            "Epoch 127/500\n",
            "1498/1498 [==============================] - 5s 4ms/step - loss: 3.5315 - mean_absolute_error: 1.4370\n",
            "Epoch 128/500\n",
            "1498/1498 [==============================] - 5s 4ms/step - loss: 3.7508 - mean_absolute_error: 1.4892\n",
            "Epoch 129/500\n",
            "1498/1498 [==============================] - 5s 4ms/step - loss: 4.1091 - mean_absolute_error: 1.5515\n",
            "Epoch 130/500\n",
            "1498/1498 [==============================] - 5s 4ms/step - loss: 4.4213 - mean_absolute_error: 1.6270\n",
            "Epoch 131/500\n",
            "1498/1498 [==============================] - 5s 4ms/step - loss: 3.9334 - mean_absolute_error: 1.5326\n",
            "Epoch 132/500\n",
            "1498/1498 [==============================] - 5s 4ms/step - loss: 4.2962 - mean_absolute_error: 1.6067\n",
            "Epoch 133/500\n",
            "1498/1498 [==============================] - 5s 4ms/step - loss: 3.9665 - mean_absolute_error: 1.5256\n",
            "Epoch 134/500\n",
            "1498/1498 [==============================] - 5s 4ms/step - loss: 3.7742 - mean_absolute_error: 1.4884\n",
            "Epoch 135/500\n",
            "1498/1498 [==============================] - 5s 4ms/step - loss: 4.4580 - mean_absolute_error: 1.6271\n",
            "Epoch 136/500\n",
            "1498/1498 [==============================] - 5s 4ms/step - loss: 4.8847 - mean_absolute_error: 1.7046\n",
            "Epoch 137/500\n",
            "1498/1498 [==============================] - 5s 4ms/step - loss: 4.1113 - mean_absolute_error: 1.5675\n",
            "Epoch 138/500\n",
            "1498/1498 [==============================] - 5s 4ms/step - loss: 3.9291 - mean_absolute_error: 1.5241\n",
            "Epoch 139/500\n",
            "1498/1498 [==============================] - 5s 4ms/step - loss: 3.9954 - mean_absolute_error: 1.5322\n",
            "Epoch 140/500\n",
            "1498/1498 [==============================] - 5s 4ms/step - loss: 3.9751 - mean_absolute_error: 1.5262\n",
            "Epoch 141/500\n",
            "1498/1498 [==============================] - 5s 4ms/step - loss: 4.2442 - mean_absolute_error: 1.5912\n",
            "Epoch 142/500\n",
            "1498/1498 [==============================] - 5s 4ms/step - loss: 3.7815 - mean_absolute_error: 1.4957\n",
            "Epoch 143/500\n",
            "1498/1498 [==============================] - 5s 4ms/step - loss: 3.9661 - mean_absolute_error: 1.5348\n",
            "Epoch 144/500\n",
            "1498/1498 [==============================] - 5s 4ms/step - loss: 4.0649 - mean_absolute_error: 1.5506\n",
            "Epoch 145/500\n",
            "1498/1498 [==============================] - 5s 4ms/step - loss: 3.6074 - mean_absolute_error: 1.4605\n",
            "Epoch 146/500\n",
            "1498/1498 [==============================] - 5s 4ms/step - loss: 4.3270 - mean_absolute_error: 1.6018\n",
            "Epoch 147/500\n",
            "1498/1498 [==============================] - 5s 4ms/step - loss: 4.1850 - mean_absolute_error: 1.5697\n",
            "Epoch 148/500\n",
            "1498/1498 [==============================] - 5s 4ms/step - loss: 3.6819 - mean_absolute_error: 1.4786\n",
            "Epoch 149/500\n",
            "1498/1498 [==============================] - 5s 4ms/step - loss: 3.6535 - mean_absolute_error: 1.4642\n",
            "Epoch 150/500\n",
            "1498/1498 [==============================] - 5s 4ms/step - loss: 4.4554 - mean_absolute_error: 1.6227\n",
            "Epoch 151/500\n",
            "1498/1498 [==============================] - 5s 4ms/step - loss: 4.6854 - mean_absolute_error: 1.6741\n",
            "Epoch 152/500\n",
            "1498/1498 [==============================] - 5s 4ms/step - loss: 4.3194 - mean_absolute_error: 1.6098\n",
            "Epoch 153/500\n",
            "1498/1498 [==============================] - 5s 4ms/step - loss: 4.6569 - mean_absolute_error: 1.6729\n",
            "Epoch 154/500\n",
            "1498/1498 [==============================] - 5s 4ms/step - loss: 3.8280 - mean_absolute_error: 1.5101\n",
            "Epoch 155/500\n",
            "1498/1498 [==============================] - 5s 4ms/step - loss: 3.6161 - mean_absolute_error: 1.4693\n",
            "Epoch 156/500\n",
            "1498/1498 [==============================] - 5s 4ms/step - loss: 3.5329 - mean_absolute_error: 1.4517\n",
            "Epoch 157/500\n",
            "1498/1498 [==============================] - 5s 4ms/step - loss: 3.6371 - mean_absolute_error: 1.4664\n",
            "Epoch 158/500\n",
            "1498/1498 [==============================] - 5s 4ms/step - loss: 3.8171 - mean_absolute_error: 1.5052\n",
            "Epoch 159/500\n",
            "1498/1498 [==============================] - 5s 4ms/step - loss: 3.6143 - mean_absolute_error: 1.4624\n",
            "Epoch 160/500\n",
            "1498/1498 [==============================] - 5s 4ms/step - loss: 4.7756 - mean_absolute_error: 1.7065\n",
            "Epoch 161/500\n",
            "1498/1498 [==============================] - 5s 4ms/step - loss: 3.7714 - mean_absolute_error: 1.4995\n",
            "Epoch 162/500\n",
            "1498/1498 [==============================] - 5s 4ms/step - loss: 3.6429 - mean_absolute_error: 1.4765\n",
            "Epoch 163/500\n",
            "1498/1498 [==============================] - 5s 4ms/step - loss: 4.1709 - mean_absolute_error: 1.5767\n",
            "Epoch 164/500\n",
            "1498/1498 [==============================] - 5s 4ms/step - loss: 4.1667 - mean_absolute_error: 1.5654\n",
            "Epoch 165/500\n",
            "1498/1498 [==============================] - 5s 4ms/step - loss: 4.0755 - mean_absolute_error: 1.5602\n",
            "Epoch 166/500\n",
            "1498/1498 [==============================] - 5s 4ms/step - loss: 3.6661 - mean_absolute_error: 1.4807\n",
            "Epoch 167/500\n",
            "1498/1498 [==============================] - 5s 4ms/step - loss: 4.1143 - mean_absolute_error: 1.5559\n",
            "Epoch 168/500\n",
            "1498/1498 [==============================] - 5s 4ms/step - loss: 3.5872 - mean_absolute_error: 1.4577\n",
            "Epoch 169/500\n",
            "1498/1498 [==============================] - 5s 4ms/step - loss: 3.9487 - mean_absolute_error: 1.5250\n",
            "Epoch 170/500\n",
            "1498/1498 [==============================] - 5s 4ms/step - loss: 3.9305 - mean_absolute_error: 1.5283\n",
            "Epoch 171/500\n",
            "1498/1498 [==============================] - 5s 4ms/step - loss: 4.7390 - mean_absolute_error: 1.6749\n",
            "Epoch 172/500\n",
            "1498/1498 [==============================] - 6s 4ms/step - loss: 3.4241 - mean_absolute_error: 1.4167\n",
            "Epoch 173/500\n",
            "1498/1498 [==============================] - 5s 4ms/step - loss: 3.4700 - mean_absolute_error: 1.4364\n",
            "Epoch 174/500\n",
            "1498/1498 [==============================] - 6s 4ms/step - loss: 3.5303 - mean_absolute_error: 1.4505\n",
            "Epoch 175/500\n",
            "1498/1498 [==============================] - 5s 4ms/step - loss: 4.0185 - mean_absolute_error: 1.5506\n",
            "Epoch 176/500\n",
            "1498/1498 [==============================] - 5s 4ms/step - loss: 3.9251 - mean_absolute_error: 1.5176\n",
            "Epoch 177/500\n",
            "1498/1498 [==============================] - 5s 4ms/step - loss: 4.2942 - mean_absolute_error: 1.5976\n",
            "Epoch 178/500\n",
            "1498/1498 [==============================] - 5s 4ms/step - loss: 3.7492 - mean_absolute_error: 1.4928\n",
            "Epoch 179/500\n",
            "1498/1498 [==============================] - 5s 4ms/step - loss: 4.1487 - mean_absolute_error: 1.5679\n",
            "Epoch 180/500\n",
            "1498/1498 [==============================] - 5s 4ms/step - loss: 3.8024 - mean_absolute_error: 1.4909\n",
            "Epoch 181/500\n",
            "1498/1498 [==============================] - 5s 4ms/step - loss: 4.1027 - mean_absolute_error: 1.5569\n",
            "Epoch 182/500\n",
            "1498/1498 [==============================] - 5s 4ms/step - loss: 3.5296 - mean_absolute_error: 1.4449\n",
            "Epoch 183/500\n",
            "1498/1498 [==============================] - 5s 4ms/step - loss: 3.8872 - mean_absolute_error: 1.5110\n",
            "Epoch 184/500\n",
            "1498/1498 [==============================] - 6s 4ms/step - loss: 3.6105 - mean_absolute_error: 1.4669\n",
            "Epoch 185/500\n",
            "1498/1498 [==============================] - 5s 4ms/step - loss: 3.9135 - mean_absolute_error: 1.5293\n",
            "Epoch 186/500\n",
            "1498/1498 [==============================] - 5s 4ms/step - loss: 3.3332 - mean_absolute_error: 1.4059\n",
            "Epoch 187/500\n",
            "1498/1498 [==============================] - 5s 4ms/step - loss: 3.3591 - mean_absolute_error: 1.4109\n",
            "Epoch 188/500\n",
            "1498/1498 [==============================] - 5s 4ms/step - loss: 3.6673 - mean_absolute_error: 1.4822\n",
            "Epoch 189/500\n",
            "1498/1498 [==============================] - 5s 4ms/step - loss: 3.3488 - mean_absolute_error: 1.4085\n",
            "Epoch 190/500\n",
            "1498/1498 [==============================] - 5s 4ms/step - loss: 3.7135 - mean_absolute_error: 1.4770\n",
            "Epoch 191/500\n",
            "1498/1498 [==============================] - 5s 4ms/step - loss: 3.9005 - mean_absolute_error: 1.5113\n",
            "Epoch 192/500\n",
            "1498/1498 [==============================] - 5s 4ms/step - loss: 3.4993 - mean_absolute_error: 1.4394\n",
            "Epoch 193/500\n",
            "1498/1498 [==============================] - 5s 4ms/step - loss: 3.5099 - mean_absolute_error: 1.4396\n",
            "Epoch 194/500\n",
            "1498/1498 [==============================] - 5s 4ms/step - loss: 3.8407 - mean_absolute_error: 1.5079\n",
            "Epoch 195/500\n",
            "1498/1498 [==============================] - 5s 4ms/step - loss: 3.7826 - mean_absolute_error: 1.4990\n",
            "Epoch 196/500\n",
            "1498/1498 [==============================] - 5s 4ms/step - loss: 3.4896 - mean_absolute_error: 1.4412\n",
            "Epoch 197/500\n",
            "1498/1498 [==============================] - 5s 4ms/step - loss: 3.4223 - mean_absolute_error: 1.4203\n",
            "Epoch 198/500\n",
            "1498/1498 [==============================] - 6s 4ms/step - loss: 3.6826 - mean_absolute_error: 1.4745\n",
            "Epoch 199/500\n",
            "1498/1498 [==============================] - 5s 4ms/step - loss: 3.8937 - mean_absolute_error: 1.5122\n",
            "Epoch 200/500\n",
            "1498/1498 [==============================] - 5s 4ms/step - loss: 3.4991 - mean_absolute_error: 1.4439\n",
            "Epoch 201/500\n",
            "1498/1498 [==============================] - 5s 4ms/step - loss: 4.2421 - mean_absolute_error: 1.5874\n",
            "Epoch 202/500\n",
            "1498/1498 [==============================] - 5s 4ms/step - loss: 3.5413 - mean_absolute_error: 1.4445\n",
            "Epoch 203/500\n",
            "1498/1498 [==============================] - 5s 4ms/step - loss: 4.0531 - mean_absolute_error: 1.5434\n",
            "Epoch 204/500\n",
            "1498/1498 [==============================] - 5s 4ms/step - loss: 4.2276 - mean_absolute_error: 1.5860\n",
            "Epoch 205/500\n",
            "1498/1498 [==============================] - 5s 4ms/step - loss: 3.7093 - mean_absolute_error: 1.4860\n",
            "Epoch 206/500\n",
            "1498/1498 [==============================] - 6s 4ms/step - loss: 4.3804 - mean_absolute_error: 1.6202\n",
            "Epoch 207/500\n",
            "1498/1498 [==============================] - 5s 4ms/step - loss: 4.1808 - mean_absolute_error: 1.5665\n",
            "Epoch 208/500\n",
            "1498/1498 [==============================] - 5s 4ms/step - loss: 4.0816 - mean_absolute_error: 1.5597\n",
            "Epoch 209/500\n",
            "1498/1498 [==============================] - 5s 4ms/step - loss: 3.6214 - mean_absolute_error: 1.4725\n",
            "Epoch 210/500\n",
            "1498/1498 [==============================] - 5s 4ms/step - loss: 3.4382 - mean_absolute_error: 1.4342\n",
            "Epoch 211/500\n",
            "1498/1498 [==============================] - 5s 4ms/step - loss: 3.4654 - mean_absolute_error: 1.4321\n",
            "Epoch 212/500\n",
            "1498/1498 [==============================] - 5s 4ms/step - loss: 3.2739 - mean_absolute_error: 1.3997\n",
            "Epoch 213/500\n",
            "1498/1498 [==============================] - 5s 4ms/step - loss: 3.3736 - mean_absolute_error: 1.4084\n",
            "Epoch 214/500\n",
            "1498/1498 [==============================] - 5s 4ms/step - loss: 4.5273 - mean_absolute_error: 1.6535\n",
            "Epoch 215/500\n",
            "1498/1498 [==============================] - 5s 4ms/step - loss: 3.8980 - mean_absolute_error: 1.5196\n",
            "Epoch 216/500\n",
            "1498/1498 [==============================] - 5s 4ms/step - loss: 4.4896 - mean_absolute_error: 1.6311\n",
            "Epoch 217/500\n",
            "1498/1498 [==============================] - 5s 4ms/step - loss: 4.1596 - mean_absolute_error: 1.5669\n",
            "Epoch 218/500\n",
            "1498/1498 [==============================] - 5s 4ms/step - loss: 3.8967 - mean_absolute_error: 1.5224\n",
            "Epoch 219/500\n",
            "1498/1498 [==============================] - 6s 4ms/step - loss: 3.6523 - mean_absolute_error: 1.4662\n",
            "Epoch 220/500\n",
            "1498/1498 [==============================] - 5s 4ms/step - loss: 3.5847 - mean_absolute_error: 1.4570\n",
            "Epoch 221/500\n",
            "1498/1498 [==============================] - 5s 4ms/step - loss: 3.5012 - mean_absolute_error: 1.4448\n",
            "Epoch 222/500\n",
            "1498/1498 [==============================] - 5s 4ms/step - loss: 3.4707 - mean_absolute_error: 1.4305\n",
            "Epoch 223/500\n",
            "1498/1498 [==============================] - 5s 4ms/step - loss: 3.3734 - mean_absolute_error: 1.4122\n",
            "Epoch 224/500\n",
            "1498/1498 [==============================] - 6s 4ms/step - loss: 3.4878 - mean_absolute_error: 1.4457\n",
            "Epoch 225/500\n",
            "1498/1498 [==============================] - 5s 4ms/step - loss: 4.1863 - mean_absolute_error: 1.5824\n",
            "Epoch 226/500\n",
            "1498/1498 [==============================] - 5s 4ms/step - loss: 3.6197 - mean_absolute_error: 1.4657\n",
            "Epoch 227/500\n",
            "1498/1498 [==============================] - 5s 4ms/step - loss: 3.4746 - mean_absolute_error: 1.4420\n",
            "Epoch 228/500\n",
            "1498/1498 [==============================] - 5s 4ms/step - loss: 3.3618 - mean_absolute_error: 1.4165\n",
            "Epoch 229/500\n",
            "1498/1498 [==============================] - 5s 4ms/step - loss: 3.4311 - mean_absolute_error: 1.4263\n",
            "Epoch 230/500\n",
            "1498/1498 [==============================] - 5s 4ms/step - loss: 3.3993 - mean_absolute_error: 1.4168\n",
            "Epoch 231/500\n",
            "1498/1498 [==============================] - 5s 4ms/step - loss: 3.9064 - mean_absolute_error: 1.5205\n",
            "Epoch 232/500\n",
            "1498/1498 [==============================] - 5s 4ms/step - loss: 3.2446 - mean_absolute_error: 1.3872\n",
            "Epoch 233/500\n",
            "1498/1498 [==============================] - 5s 4ms/step - loss: 3.6155 - mean_absolute_error: 1.4638\n",
            "Epoch 234/500\n",
            "1498/1498 [==============================] - 5s 4ms/step - loss: 3.6143 - mean_absolute_error: 1.4618\n",
            "Epoch 235/500\n",
            "1498/1498 [==============================] - 5s 4ms/step - loss: 3.9264 - mean_absolute_error: 1.5196\n",
            "Epoch 236/500\n",
            "1498/1498 [==============================] - 5s 4ms/step - loss: 3.6299 - mean_absolute_error: 1.4662\n",
            "Epoch 237/500\n",
            "1498/1498 [==============================] - 5s 4ms/step - loss: 3.2420 - mean_absolute_error: 1.3854\n",
            "Epoch 238/500\n",
            "1498/1498 [==============================] - 5s 4ms/step - loss: 3.3533 - mean_absolute_error: 1.4127\n",
            "Epoch 239/500\n",
            "1498/1498 [==============================] - 5s 4ms/step - loss: 3.3323 - mean_absolute_error: 1.4093\n",
            "Epoch 240/500\n",
            "1498/1498 [==============================] - 5s 4ms/step - loss: 3.3285 - mean_absolute_error: 1.4066\n",
            "Epoch 241/500\n",
            "1498/1498 [==============================] - 5s 4ms/step - loss: 3.3391 - mean_absolute_error: 1.4050\n",
            "Epoch 242/500\n",
            "1498/1498 [==============================] - 5s 4ms/step - loss: 3.6403 - mean_absolute_error: 1.4733\n",
            "Epoch 243/500\n",
            "1498/1498 [==============================] - 5s 4ms/step - loss: 3.9416 - mean_absolute_error: 1.5372\n",
            "Epoch 244/500\n",
            "1498/1498 [==============================] - 5s 4ms/step - loss: 4.9701 - mean_absolute_error: 1.7248\n",
            "Epoch 245/500\n",
            "1498/1498 [==============================] - 5s 4ms/step - loss: 3.3308 - mean_absolute_error: 1.4051\n",
            "Epoch 246/500\n",
            "1498/1498 [==============================] - 5s 4ms/step - loss: 4.2716 - mean_absolute_error: 1.5932\n",
            "Epoch 247/500\n",
            "1498/1498 [==============================] - 5s 4ms/step - loss: 3.5343 - mean_absolute_error: 1.4488\n",
            "Epoch 248/500\n",
            "1498/1498 [==============================] - 5s 4ms/step - loss: 3.6453 - mean_absolute_error: 1.4656\n",
            "Epoch 249/500\n",
            "1498/1498 [==============================] - 5s 4ms/step - loss: 3.4044 - mean_absolute_error: 1.4208\n",
            "Epoch 250/500\n",
            "1498/1498 [==============================] - 6s 4ms/step - loss: 3.4693 - mean_absolute_error: 1.4325\n",
            "Epoch 251/500\n",
            "1498/1498 [==============================] - 6s 4ms/step - loss: 3.4133 - mean_absolute_error: 1.4195\n",
            "Epoch 252/500\n",
            "1498/1498 [==============================] - 5s 4ms/step - loss: 3.5925 - mean_absolute_error: 1.4629\n",
            "Epoch 253/500\n",
            "1498/1498 [==============================] - 5s 4ms/step - loss: 3.9540 - mean_absolute_error: 1.5369\n",
            "Epoch 254/500\n",
            "1498/1498 [==============================] - 5s 4ms/step - loss: 3.9866 - mean_absolute_error: 1.5305\n",
            "Epoch 255/500\n",
            "1498/1498 [==============================] - 5s 4ms/step - loss: 3.6974 - mean_absolute_error: 1.4808\n",
            "Epoch 256/500\n",
            "1498/1498 [==============================] - 5s 4ms/step - loss: 3.1232 - mean_absolute_error: 1.3515\n",
            "Epoch 257/500\n",
            "1498/1498 [==============================] - 5s 4ms/step - loss: 3.2224 - mean_absolute_error: 1.3759\n",
            "Epoch 258/500\n",
            "1498/1498 [==============================] - 5s 4ms/step - loss: 3.5324 - mean_absolute_error: 1.4485\n",
            "Epoch 259/500\n",
            "1498/1498 [==============================] - 5s 4ms/step - loss: 4.9032 - mean_absolute_error: 1.7227\n",
            "Epoch 260/500\n",
            "1498/1498 [==============================] - 5s 4ms/step - loss: 3.6579 - mean_absolute_error: 1.4679\n",
            "Epoch 261/500\n",
            "1498/1498 [==============================] - 5s 4ms/step - loss: 3.2531 - mean_absolute_error: 1.3868\n",
            "Epoch 262/500\n",
            "1498/1498 [==============================] - 5s 4ms/step - loss: 3.1666 - mean_absolute_error: 1.3695\n",
            "Epoch 263/500\n",
            "1498/1498 [==============================] - 5s 4ms/step - loss: 3.6993 - mean_absolute_error: 1.4813\n",
            "Epoch 264/500\n",
            "1498/1498 [==============================] - 5s 4ms/step - loss: 4.3715 - mean_absolute_error: 1.6108\n",
            "Epoch 265/500\n",
            "1498/1498 [==============================] - 5s 4ms/step - loss: 3.3808 - mean_absolute_error: 1.4223\n",
            "Epoch 266/500\n",
            "1498/1498 [==============================] - 5s 4ms/step - loss: 4.3594 - mean_absolute_error: 1.6081\n",
            "Epoch 267/500\n",
            "1498/1498 [==============================] - 5s 4ms/step - loss: 3.9092 - mean_absolute_error: 1.5307\n",
            "Epoch 268/500\n",
            "1498/1498 [==============================] - 5s 4ms/step - loss: 3.5809 - mean_absolute_error: 1.4576\n",
            "Epoch 269/500\n",
            "1498/1498 [==============================] - 5s 4ms/step - loss: 3.6165 - mean_absolute_error: 1.4572\n",
            "Epoch 270/500\n",
            "1498/1498 [==============================] - 5s 4ms/step - loss: 3.3503 - mean_absolute_error: 1.4098\n",
            "Epoch 271/500\n",
            "1498/1498 [==============================] - 5s 4ms/step - loss: 3.8928 - mean_absolute_error: 1.5234\n",
            "Epoch 272/500\n",
            "1498/1498 [==============================] - 5s 4ms/step - loss: 3.4607 - mean_absolute_error: 1.4342\n",
            "Epoch 273/500\n",
            "1498/1498 [==============================] - 5s 4ms/step - loss: 3.8330 - mean_absolute_error: 1.5234\n",
            "Epoch 274/500\n",
            "1498/1498 [==============================] - 5s 4ms/step - loss: 3.4334 - mean_absolute_error: 1.4151\n",
            "Epoch 275/500\n",
            "1498/1498 [==============================] - 5s 4ms/step - loss: 4.6594 - mean_absolute_error: 1.6770\n",
            "Epoch 276/500\n",
            "1498/1498 [==============================] - 5s 4ms/step - loss: 3.4886 - mean_absolute_error: 1.4293\n",
            "Epoch 277/500\n",
            "1498/1498 [==============================] - 5s 4ms/step - loss: 3.3256 - mean_absolute_error: 1.4124\n",
            "Epoch 278/500\n",
            "1498/1498 [==============================] - 6s 4ms/step - loss: 3.5541 - mean_absolute_error: 1.4555\n",
            "Epoch 279/500\n",
            "1498/1498 [==============================] - 5s 4ms/step - loss: 3.2606 - mean_absolute_error: 1.3829\n",
            "Epoch 280/500\n",
            "1498/1498 [==============================] - 5s 4ms/step - loss: 3.3438 - mean_absolute_error: 1.4031\n",
            "Epoch 281/500\n",
            "1498/1498 [==============================] - 5s 4ms/step - loss: 3.3945 - mean_absolute_error: 1.4173\n",
            "Epoch 282/500\n",
            "1498/1498 [==============================] - 5s 4ms/step - loss: 3.7091 - mean_absolute_error: 1.4844\n",
            "Epoch 283/500\n",
            "1498/1498 [==============================] - 5s 4ms/step - loss: 3.8618 - mean_absolute_error: 1.5145\n",
            "Epoch 284/500\n",
            "1498/1498 [==============================] - 5s 4ms/step - loss: 5.0545 - mean_absolute_error: 1.7570\n",
            "Epoch 285/500\n",
            "1498/1498 [==============================] - 5s 4ms/step - loss: 3.8996 - mean_absolute_error: 1.5183\n",
            "Epoch 286/500\n",
            "1498/1498 [==============================] - 5s 4ms/step - loss: 3.2995 - mean_absolute_error: 1.3982\n",
            "Epoch 287/500\n",
            "1498/1498 [==============================] - 5s 4ms/step - loss: 3.7884 - mean_absolute_error: 1.4921\n",
            "Epoch 288/500\n",
            "1498/1498 [==============================] - 5s 4ms/step - loss: 3.2611 - mean_absolute_error: 1.3956\n",
            "Epoch 289/500\n",
            "1498/1498 [==============================] - 5s 4ms/step - loss: 3.1076 - mean_absolute_error: 1.3516\n",
            "Epoch 290/500\n",
            "1498/1498 [==============================] - 5s 4ms/step - loss: 3.7216 - mean_absolute_error: 1.4795\n",
            "Epoch 291/500\n",
            "1498/1498 [==============================] - 6s 4ms/step - loss: 3.3098 - mean_absolute_error: 1.4016\n",
            "Epoch 292/500\n",
            "1498/1498 [==============================] - 5s 4ms/step - loss: 3.3915 - mean_absolute_error: 1.4208\n",
            "Epoch 293/500\n",
            "1498/1498 [==============================] - 5s 4ms/step - loss: 3.2003 - mean_absolute_error: 1.3709\n",
            "Epoch 294/500\n",
            "1498/1498 [==============================] - 5s 4ms/step - loss: 3.4839 - mean_absolute_error: 1.4349\n",
            "Epoch 295/500\n",
            "1498/1498 [==============================] - 5s 4ms/step - loss: 3.9339 - mean_absolute_error: 1.5306\n",
            "Epoch 296/500\n",
            "1498/1498 [==============================] - 5s 4ms/step - loss: 3.3163 - mean_absolute_error: 1.4109\n",
            "Epoch 297/500\n",
            "1498/1498 [==============================] - 5s 4ms/step - loss: 3.3882 - mean_absolute_error: 1.4180\n",
            "Epoch 298/500\n",
            "1498/1498 [==============================] - 5s 4ms/step - loss: 3.2303 - mean_absolute_error: 1.3760\n",
            "Epoch 299/500\n",
            "1498/1498 [==============================] - 5s 4ms/step - loss: 3.4966 - mean_absolute_error: 1.4463\n",
            "Epoch 300/500\n",
            "1498/1498 [==============================] - 5s 4ms/step - loss: 3.8198 - mean_absolute_error: 1.4958\n",
            "Epoch 301/500\n",
            "1498/1498 [==============================] - 5s 4ms/step - loss: 3.8416 - mean_absolute_error: 1.5027\n",
            "Epoch 302/500\n",
            "1498/1498 [==============================] - 5s 4ms/step - loss: 3.4935 - mean_absolute_error: 1.4465\n",
            "Epoch 303/500\n",
            "1498/1498 [==============================] - 5s 4ms/step - loss: 4.0727 - mean_absolute_error: 1.5591\n",
            "Epoch 304/500\n",
            "1498/1498 [==============================] - 5s 4ms/step - loss: 2.9568 - mean_absolute_error: 1.3275\n",
            "Epoch 305/500\n",
            "1498/1498 [==============================] - 5s 4ms/step - loss: 3.6767 - mean_absolute_error: 1.4704\n",
            "Epoch 306/500\n",
            "1498/1498 [==============================] - 5s 4ms/step - loss: 4.7146 - mean_absolute_error: 1.6884\n",
            "Epoch 307/500\n",
            "1498/1498 [==============================] - 5s 4ms/step - loss: 3.5578 - mean_absolute_error: 1.4535\n",
            "Epoch 308/500\n",
            "1498/1498 [==============================] - 5s 4ms/step - loss: 3.4928 - mean_absolute_error: 1.4334\n",
            "Epoch 309/500\n",
            "1498/1498 [==============================] - 5s 4ms/step - loss: 3.2921 - mean_absolute_error: 1.4014\n",
            "Epoch 310/500\n",
            "1498/1498 [==============================] - 5s 4ms/step - loss: 3.7749 - mean_absolute_error: 1.4895\n",
            "Epoch 311/500\n",
            "1498/1498 [==============================] - 5s 4ms/step - loss: 4.4721 - mean_absolute_error: 1.6024\n",
            "Epoch 312/500\n",
            "1498/1498 [==============================] - 5s 4ms/step - loss: 4.0937 - mean_absolute_error: 1.5681\n",
            "Epoch 313/500\n",
            "1498/1498 [==============================] - 5s 4ms/step - loss: 3.2423 - mean_absolute_error: 1.3780\n",
            "Epoch 314/500\n",
            "1498/1498 [==============================] - 5s 4ms/step - loss: 3.5528 - mean_absolute_error: 1.4471\n",
            "Epoch 315/500\n",
            "1498/1498 [==============================] - 5s 4ms/step - loss: 3.6036 - mean_absolute_error: 1.4650\n",
            "Epoch 316/500\n",
            "1498/1498 [==============================] - 5s 4ms/step - loss: 3.3046 - mean_absolute_error: 1.3950\n",
            "Epoch 317/500\n",
            "1498/1498 [==============================] - 5s 4ms/step - loss: 3.3554 - mean_absolute_error: 1.4134\n",
            "Epoch 318/500\n",
            "1498/1498 [==============================] - 5s 4ms/step - loss: 3.2391 - mean_absolute_error: 1.3829\n",
            "Epoch 319/500\n",
            "1498/1498 [==============================] - 5s 4ms/step - loss: 3.0994 - mean_absolute_error: 1.3512\n",
            "Epoch 320/500\n",
            "1498/1498 [==============================] - 5s 4ms/step - loss: 3.3446 - mean_absolute_error: 1.4105\n",
            "Epoch 321/500\n",
            "1498/1498 [==============================] - 5s 4ms/step - loss: 3.4065 - mean_absolute_error: 1.4148\n",
            "Epoch 322/500\n",
            "1498/1498 [==============================] - 5s 4ms/step - loss: 3.3468 - mean_absolute_error: 1.4045\n",
            "Epoch 323/500\n",
            "1498/1498 [==============================] - 5s 4ms/step - loss: 3.8824 - mean_absolute_error: 1.5195\n",
            "Epoch 324/500\n",
            "1498/1498 [==============================] - 5s 4ms/step - loss: 3.3729 - mean_absolute_error: 1.4162\n",
            "Epoch 325/500\n",
            "1498/1498 [==============================] - 5s 4ms/step - loss: 3.8835 - mean_absolute_error: 1.5224\n",
            "Epoch 326/500\n",
            "1498/1498 [==============================] - 5s 4ms/step - loss: 3.8998 - mean_absolute_error: 1.5164\n",
            "Epoch 327/500\n",
            "1498/1498 [==============================] - 5s 4ms/step - loss: 4.3015 - mean_absolute_error: 1.6098\n",
            "Epoch 328/500\n",
            "1498/1498 [==============================] - 5s 4ms/step - loss: 3.4118 - mean_absolute_error: 1.4203\n",
            "Epoch 329/500\n",
            "1498/1498 [==============================] - 5s 4ms/step - loss: 3.3582 - mean_absolute_error: 1.4077\n",
            "Epoch 330/500\n",
            "1498/1498 [==============================] - 5s 4ms/step - loss: 3.4291 - mean_absolute_error: 1.4286\n",
            "Epoch 331/500\n",
            "1498/1498 [==============================] - 5s 4ms/step - loss: 3.1833 - mean_absolute_error: 1.3721\n",
            "Epoch 332/500\n",
            "1498/1498 [==============================] - 5s 4ms/step - loss: 3.4756 - mean_absolute_error: 1.4333\n",
            "Epoch 333/500\n",
            "1498/1498 [==============================] - 5s 4ms/step - loss: 3.2342 - mean_absolute_error: 1.3909\n",
            "Epoch 334/500\n",
            "1498/1498 [==============================] - 5s 4ms/step - loss: 3.5849 - mean_absolute_error: 1.4527\n",
            "Epoch 335/500\n",
            "1498/1498 [==============================] - 5s 4ms/step - loss: 3.4322 - mean_absolute_error: 1.4171\n",
            "Epoch 336/500\n",
            "1498/1498 [==============================] - 5s 4ms/step - loss: 3.5197 - mean_absolute_error: 1.4372\n",
            "Epoch 337/500\n",
            "1498/1498 [==============================] - 5s 4ms/step - loss: 3.2007 - mean_absolute_error: 1.3776\n",
            "Epoch 338/500\n",
            "1498/1498 [==============================] - 5s 4ms/step - loss: 3.1751 - mean_absolute_error: 1.3597\n",
            "Epoch 339/500\n",
            "1498/1498 [==============================] - 5s 4ms/step - loss: 3.2030 - mean_absolute_error: 1.3723\n",
            "Epoch 340/500\n",
            "1498/1498 [==============================] - 5s 4ms/step - loss: 3.6838 - mean_absolute_error: 1.4819\n",
            "Epoch 341/500\n",
            "1498/1498 [==============================] - 5s 4ms/step - loss: 3.2015 - mean_absolute_error: 1.3688\n",
            "Epoch 342/500\n",
            "1498/1498 [==============================] - 5s 4ms/step - loss: 3.2810 - mean_absolute_error: 1.3868\n",
            "Epoch 343/500\n",
            "1498/1498 [==============================] - 5s 4ms/step - loss: 3.5588 - mean_absolute_error: 1.4403\n",
            "Epoch 344/500\n",
            "1498/1498 [==============================] - 5s 4ms/step - loss: 3.5995 - mean_absolute_error: 1.4542\n",
            "Epoch 345/500\n",
            "1498/1498 [==============================] - 5s 4ms/step - loss: 3.5926 - mean_absolute_error: 1.4444\n",
            "Epoch 346/500\n",
            "1498/1498 [==============================] - 5s 4ms/step - loss: 3.2320 - mean_absolute_error: 1.3793\n",
            "Epoch 347/500\n",
            "1498/1498 [==============================] - 6s 4ms/step - loss: 3.1861 - mean_absolute_error: 1.3831\n",
            "Epoch 348/500\n",
            "1498/1498 [==============================] - 6s 4ms/step - loss: 3.5967 - mean_absolute_error: 1.4574\n",
            "Epoch 349/500\n",
            "1498/1498 [==============================] - 6s 4ms/step - loss: 3.0626 - mean_absolute_error: 1.3425\n",
            "Epoch 350/500\n",
            "1498/1498 [==============================] - 5s 4ms/step - loss: 3.6518 - mean_absolute_error: 1.4671\n",
            "Epoch 351/500\n",
            "1498/1498 [==============================] - 5s 4ms/step - loss: 3.1114 - mean_absolute_error: 1.3678\n",
            "Epoch 352/500\n",
            "1498/1498 [==============================] - 5s 4ms/step - loss: 4.1649 - mean_absolute_error: 1.5702\n",
            "Epoch 353/500\n",
            "1498/1498 [==============================] - 5s 4ms/step - loss: 4.6388 - mean_absolute_error: 1.6732\n",
            "Epoch 354/500\n",
            "1498/1498 [==============================] - 5s 4ms/step - loss: 3.6238 - mean_absolute_error: 1.4771\n",
            "Epoch 355/500\n",
            "1498/1498 [==============================] - 5s 4ms/step - loss: 3.0273 - mean_absolute_error: 1.3392\n",
            "Epoch 356/500\n",
            "1498/1498 [==============================] - 5s 4ms/step - loss: 3.2273 - mean_absolute_error: 1.3791\n",
            "Epoch 357/500\n",
            "1498/1498 [==============================] - 5s 4ms/step - loss: 3.1200 - mean_absolute_error: 1.3648\n",
            "Epoch 358/500\n",
            "1498/1498 [==============================] - 5s 4ms/step - loss: 3.1720 - mean_absolute_error: 1.3636\n",
            "Epoch 359/500\n",
            "1498/1498 [==============================] - 6s 4ms/step - loss: 3.2673 - mean_absolute_error: 1.3921\n",
            "Epoch 360/500\n",
            "1498/1498 [==============================] - 5s 4ms/step - loss: 3.8448 - mean_absolute_error: 1.5044\n",
            "Epoch 361/500\n",
            "1498/1498 [==============================] - 5s 4ms/step - loss: 3.2069 - mean_absolute_error: 1.3725\n",
            "Epoch 362/500\n",
            "1498/1498 [==============================] - 5s 4ms/step - loss: 3.2928 - mean_absolute_error: 1.3759\n",
            "Epoch 363/500\n",
            "1498/1498 [==============================] - 5s 4ms/step - loss: 3.9816 - mean_absolute_error: 1.5473\n",
            "Epoch 364/500\n",
            "1498/1498 [==============================] - 6s 4ms/step - loss: 3.0808 - mean_absolute_error: 1.3533\n",
            "Epoch 365/500\n",
            "1498/1498 [==============================] - 6s 4ms/step - loss: 3.4505 - mean_absolute_error: 1.4274\n",
            "Epoch 366/500\n",
            "1498/1498 [==============================] - 5s 4ms/step - loss: 3.3281 - mean_absolute_error: 1.4067\n",
            "Epoch 367/500\n",
            "1498/1498 [==============================] - 5s 4ms/step - loss: 3.1585 - mean_absolute_error: 1.3694\n",
            "Epoch 368/500\n",
            "1498/1498 [==============================] - 5s 4ms/step - loss: 3.2101 - mean_absolute_error: 1.3746\n",
            "Epoch 369/500\n",
            "1498/1498 [==============================] - 5s 4ms/step - loss: 3.2872 - mean_absolute_error: 1.3929\n",
            "Epoch 370/500\n",
            "1498/1498 [==============================] - 5s 4ms/step - loss: 3.1340 - mean_absolute_error: 1.3576\n",
            "Epoch 371/500\n",
            "1498/1498 [==============================] - 5s 4ms/step - loss: 3.3143 - mean_absolute_error: 1.4026\n",
            "Epoch 372/500\n",
            "1498/1498 [==============================] - 5s 4ms/step - loss: 3.3163 - mean_absolute_error: 1.4041\n",
            "Epoch 373/500\n",
            "1498/1498 [==============================] - 6s 4ms/step - loss: 3.2390 - mean_absolute_error: 1.3841\n",
            "Epoch 374/500\n",
            "1498/1498 [==============================] - 6s 4ms/step - loss: 3.2606 - mean_absolute_error: 1.3868\n",
            "Epoch 375/500\n",
            "1498/1498 [==============================] - 5s 4ms/step - loss: 3.5741 - mean_absolute_error: 1.4585\n",
            "Epoch 376/500\n",
            "1498/1498 [==============================] - 6s 4ms/step - loss: 3.3092 - mean_absolute_error: 1.3958\n",
            "Epoch 377/500\n",
            "1498/1498 [==============================] - 5s 4ms/step - loss: 3.1843 - mean_absolute_error: 1.3697\n",
            "Epoch 378/500\n",
            "1498/1498 [==============================] - 6s 4ms/step - loss: 3.2591 - mean_absolute_error: 1.3874\n",
            "Epoch 379/500\n",
            "1498/1498 [==============================] - 5s 4ms/step - loss: 3.2608 - mean_absolute_error: 1.3929\n",
            "Epoch 380/500\n",
            "1498/1498 [==============================] - 5s 4ms/step - loss: 3.1996 - mean_absolute_error: 1.3779\n",
            "Epoch 381/500\n",
            "1498/1498 [==============================] - 5s 4ms/step - loss: 3.7360 - mean_absolute_error: 1.4932\n",
            "Epoch 382/500\n",
            "1498/1498 [==============================] - 5s 4ms/step - loss: 3.1848 - mean_absolute_error: 1.3741\n",
            "Epoch 383/500\n",
            "1498/1498 [==============================] - 6s 4ms/step - loss: 3.5154 - mean_absolute_error: 1.4415\n",
            "Epoch 384/500\n",
            "1498/1498 [==============================] - 5s 4ms/step - loss: 3.5574 - mean_absolute_error: 1.4541\n",
            "Epoch 385/500\n",
            "1498/1498 [==============================] - 5s 4ms/step - loss: 3.1405 - mean_absolute_error: 1.3644\n",
            "Epoch 386/500\n",
            "1498/1498 [==============================] - 5s 4ms/step - loss: 3.8875 - mean_absolute_error: 1.5095\n",
            "Epoch 387/500\n",
            "1498/1498 [==============================] - 5s 4ms/step - loss: 3.5380 - mean_absolute_error: 1.4522\n",
            "Epoch 388/500\n",
            "1498/1498 [==============================] - 5s 4ms/step - loss: 3.5098 - mean_absolute_error: 1.4364\n",
            "Epoch 389/500\n",
            "1498/1498 [==============================] - 5s 4ms/step - loss: 3.5242 - mean_absolute_error: 1.4482\n",
            "Epoch 390/500\n",
            "1498/1498 [==============================] - 5s 4ms/step - loss: 3.2578 - mean_absolute_error: 1.3820\n",
            "Epoch 391/500\n",
            "1498/1498 [==============================] - 5s 4ms/step - loss: 3.0692 - mean_absolute_error: 1.3501\n",
            "Epoch 392/500\n",
            "1498/1498 [==============================] - 5s 4ms/step - loss: 3.5052 - mean_absolute_error: 1.4332\n",
            "Epoch 393/500\n",
            "1498/1498 [==============================] - 5s 4ms/step - loss: 3.3218 - mean_absolute_error: 1.4053\n",
            "Epoch 394/500\n",
            "1498/1498 [==============================] - 5s 4ms/step - loss: 3.3595 - mean_absolute_error: 1.3997\n",
            "Epoch 395/500\n",
            "1498/1498 [==============================] - 5s 4ms/step - loss: 3.1913 - mean_absolute_error: 1.3716\n",
            "Epoch 396/500\n",
            "1498/1498 [==============================] - 5s 4ms/step - loss: 3.8416 - mean_absolute_error: 1.5093\n",
            "Epoch 397/500\n",
            "1498/1498 [==============================] - 5s 4ms/step - loss: 3.0838 - mean_absolute_error: 1.3522\n",
            "Epoch 398/500\n",
            "1498/1498 [==============================] - 5s 4ms/step - loss: 3.4427 - mean_absolute_error: 1.4290\n",
            "Epoch 399/500\n",
            "1498/1498 [==============================] - 5s 4ms/step - loss: 3.8576 - mean_absolute_error: 1.5176\n",
            "Epoch 400/500\n",
            "1498/1498 [==============================] - 5s 4ms/step - loss: 3.2054 - mean_absolute_error: 1.3828\n",
            "Epoch 401/500\n",
            "1498/1498 [==============================] - 5s 4ms/step - loss: 3.0503 - mean_absolute_error: 1.3403\n",
            "Epoch 402/500\n",
            "1498/1498 [==============================] - 5s 4ms/step - loss: 2.9696 - mean_absolute_error: 1.3239\n",
            "Epoch 403/500\n",
            "1498/1498 [==============================] - 5s 4ms/step - loss: 3.1812 - mean_absolute_error: 1.3649\n",
            "Epoch 404/500\n",
            "1498/1498 [==============================] - 5s 4ms/step - loss: 3.4209 - mean_absolute_error: 1.4193\n",
            "Epoch 405/500\n",
            "1498/1498 [==============================] - 5s 4ms/step - loss: 2.9866 - mean_absolute_error: 1.3271\n",
            "Epoch 406/500\n",
            "1498/1498 [==============================] - 5s 4ms/step - loss: 3.1935 - mean_absolute_error: 1.3694\n",
            "Epoch 407/500\n",
            "1498/1498 [==============================] - 5s 4ms/step - loss: 3.0842 - mean_absolute_error: 1.3489\n",
            "Epoch 408/500\n",
            "1498/1498 [==============================] - 5s 4ms/step - loss: 3.4989 - mean_absolute_error: 1.4292\n",
            "Epoch 409/500\n",
            "1498/1498 [==============================] - 5s 4ms/step - loss: 3.6234 - mean_absolute_error: 1.4599\n",
            "Epoch 410/500\n",
            "1498/1498 [==============================] - 5s 4ms/step - loss: 3.8907 - mean_absolute_error: 1.5130\n",
            "Epoch 411/500\n",
            "1498/1498 [==============================] - 5s 4ms/step - loss: 3.8762 - mean_absolute_error: 1.5254\n",
            "Epoch 412/500\n",
            "1498/1498 [==============================] - 5s 4ms/step - loss: 3.1082 - mean_absolute_error: 1.3504\n",
            "Epoch 413/500\n",
            "1498/1498 [==============================] - 5s 4ms/step - loss: 3.3725 - mean_absolute_error: 1.4001\n",
            "Epoch 414/500\n",
            "1498/1498 [==============================] - 5s 4ms/step - loss: 3.2948 - mean_absolute_error: 1.3937\n",
            "Epoch 415/500\n",
            "1498/1498 [==============================] - 5s 4ms/step - loss: 3.1872 - mean_absolute_error: 1.3734\n",
            "Epoch 416/500\n",
            "1498/1498 [==============================] - 5s 4ms/step - loss: 3.1411 - mean_absolute_error: 1.3674\n",
            "Epoch 417/500\n",
            "1498/1498 [==============================] - 5s 4ms/step - loss: 3.3330 - mean_absolute_error: 1.4038\n",
            "Epoch 418/500\n",
            "1498/1498 [==============================] - 5s 4ms/step - loss: 3.2754 - mean_absolute_error: 1.3924\n",
            "Epoch 419/500\n",
            "1498/1498 [==============================] - 5s 4ms/step - loss: 3.0426 - mean_absolute_error: 1.3395\n",
            "Epoch 420/500\n",
            "1498/1498 [==============================] - 5s 4ms/step - loss: 3.4345 - mean_absolute_error: 1.4277\n",
            "Epoch 421/500\n",
            "1498/1498 [==============================] - 5s 4ms/step - loss: 3.3584 - mean_absolute_error: 1.4179\n",
            "Epoch 422/500\n",
            "1498/1498 [==============================] - 5s 4ms/step - loss: 3.5098 - mean_absolute_error: 1.4452\n",
            "Epoch 423/500\n",
            "1498/1498 [==============================] - 5s 4ms/step - loss: 3.0107 - mean_absolute_error: 1.3390\n",
            "Epoch 424/500\n",
            "1498/1498 [==============================] - 5s 4ms/step - loss: 3.3255 - mean_absolute_error: 1.4072\n",
            "Epoch 425/500\n",
            "1498/1498 [==============================] - 5s 4ms/step - loss: 3.0716 - mean_absolute_error: 1.3482\n",
            "Epoch 426/500\n",
            "1498/1498 [==============================] - 5s 4ms/step - loss: 3.5297 - mean_absolute_error: 1.4447\n",
            "Epoch 427/500\n",
            "1498/1498 [==============================] - 5s 4ms/step - loss: 3.3677 - mean_absolute_error: 1.3991\n",
            "Epoch 428/500\n",
            "1498/1498 [==============================] - 5s 4ms/step - loss: 3.3720 - mean_absolute_error: 1.4038\n",
            "Epoch 429/500\n",
            "1498/1498 [==============================] - 5s 4ms/step - loss: 3.4075 - mean_absolute_error: 1.4230\n",
            "Epoch 430/500\n",
            "1498/1498 [==============================] - 5s 4ms/step - loss: 3.3294 - mean_absolute_error: 1.3968\n",
            "Epoch 431/500\n",
            "1498/1498 [==============================] - 5s 4ms/step - loss: 3.4901 - mean_absolute_error: 1.4470\n",
            "Epoch 432/500\n",
            "1498/1498 [==============================] - 5s 4ms/step - loss: 3.6132 - mean_absolute_error: 1.4570\n",
            "Epoch 433/500\n",
            "1498/1498 [==============================] - 5s 4ms/step - loss: 2.9984 - mean_absolute_error: 1.3287\n",
            "Epoch 434/500\n",
            "1498/1498 [==============================] - 5s 4ms/step - loss: 3.3612 - mean_absolute_error: 1.4016\n",
            "Epoch 435/500\n",
            "1498/1498 [==============================] - 5s 4ms/step - loss: 3.3305 - mean_absolute_error: 1.4012\n",
            "Epoch 436/500\n",
            "1498/1498 [==============================] - 5s 4ms/step - loss: 3.2009 - mean_absolute_error: 1.3824\n",
            "Epoch 437/500\n",
            "1498/1498 [==============================] - 5s 4ms/step - loss: 3.4572 - mean_absolute_error: 1.4284\n",
            "Epoch 438/500\n",
            "1498/1498 [==============================] - 5s 4ms/step - loss: 3.5948 - mean_absolute_error: 1.4614\n",
            "Epoch 439/500\n",
            "1498/1498 [==============================] - 5s 4ms/step - loss: 3.2157 - mean_absolute_error: 1.3761\n",
            "Epoch 440/500\n",
            "1498/1498 [==============================] - 5s 4ms/step - loss: 3.1578 - mean_absolute_error: 1.3626\n",
            "Epoch 441/500\n",
            "1498/1498 [==============================] - 5s 4ms/step - loss: 3.0184 - mean_absolute_error: 1.3352\n",
            "Epoch 442/500\n",
            "1498/1498 [==============================] - 5s 4ms/step - loss: 3.1127 - mean_absolute_error: 1.3578\n",
            "Epoch 443/500\n",
            "1498/1498 [==============================] - 5s 4ms/step - loss: 2.9657 - mean_absolute_error: 1.3101\n",
            "Epoch 444/500\n",
            "1498/1498 [==============================] - 5s 4ms/step - loss: 2.9583 - mean_absolute_error: 1.3301\n",
            "Epoch 445/500\n",
            "1498/1498 [==============================] - 5s 4ms/step - loss: 3.3404 - mean_absolute_error: 1.3984\n",
            "Epoch 446/500\n",
            "1498/1498 [==============================] - 6s 4ms/step - loss: 3.0120 - mean_absolute_error: 1.3272\n",
            "Epoch 447/500\n",
            "1498/1498 [==============================] - 6s 4ms/step - loss: 3.4283 - mean_absolute_error: 1.4178\n",
            "Epoch 448/500\n",
            "1498/1498 [==============================] - 5s 4ms/step - loss: 3.0752 - mean_absolute_error: 1.3526\n",
            "Epoch 449/500\n",
            "1498/1498 [==============================] - 5s 4ms/step - loss: 3.5018 - mean_absolute_error: 1.4454\n",
            "Epoch 450/500\n",
            "1498/1498 [==============================] - 5s 4ms/step - loss: 3.0817 - mean_absolute_error: 1.3470\n",
            "Epoch 451/500\n",
            "1498/1498 [==============================] - 5s 4ms/step - loss: 3.1625 - mean_absolute_error: 1.3724\n",
            "Epoch 452/500\n",
            "1498/1498 [==============================] - 6s 4ms/step - loss: 3.2167 - mean_absolute_error: 1.3839\n",
            "Epoch 453/500\n",
            "1498/1498 [==============================] - 5s 4ms/step - loss: 3.1576 - mean_absolute_error: 1.3672\n",
            "Epoch 454/500\n",
            "1498/1498 [==============================] - 6s 4ms/step - loss: 3.6102 - mean_absolute_error: 1.4646\n",
            "Epoch 455/500\n",
            "1498/1498 [==============================] - 5s 4ms/step - loss: 3.3547 - mean_absolute_error: 1.4153\n",
            "Epoch 456/500\n",
            "1498/1498 [==============================] - 5s 4ms/step - loss: 3.0997 - mean_absolute_error: 1.3556\n",
            "Epoch 457/500\n",
            "1498/1498 [==============================] - 5s 4ms/step - loss: 3.2963 - mean_absolute_error: 1.4001\n",
            "Epoch 458/500\n",
            "1498/1498 [==============================] - 5s 4ms/step - loss: 2.9416 - mean_absolute_error: 1.3130\n",
            "Epoch 459/500\n",
            "1498/1498 [==============================] - 5s 4ms/step - loss: 3.0226 - mean_absolute_error: 1.3216\n",
            "Epoch 460/500\n",
            "1498/1498 [==============================] - 5s 4ms/step - loss: 3.3709 - mean_absolute_error: 1.4037\n",
            "Epoch 461/500\n",
            "1498/1498 [==============================] - 5s 4ms/step - loss: 3.1619 - mean_absolute_error: 1.3619\n",
            "Epoch 462/500\n",
            "1498/1498 [==============================] - 5s 4ms/step - loss: 3.6402 - mean_absolute_error: 1.4796\n",
            "Epoch 463/500\n",
            "1498/1498 [==============================] - 5s 4ms/step - loss: 3.0070 - mean_absolute_error: 1.3317\n",
            "Epoch 464/500\n",
            "1498/1498 [==============================] - 5s 4ms/step - loss: 2.9530 - mean_absolute_error: 1.3238\n",
            "Epoch 465/500\n",
            "1498/1498 [==============================] - 5s 4ms/step - loss: 3.3970 - mean_absolute_error: 1.4038\n",
            "Epoch 466/500\n",
            "1498/1498 [==============================] - 5s 4ms/step - loss: 3.2147 - mean_absolute_error: 1.3759\n",
            "Epoch 467/500\n",
            "1498/1498 [==============================] - 5s 4ms/step - loss: 3.1104 - mean_absolute_error: 1.3499\n",
            "Epoch 468/500\n",
            "1498/1498 [==============================] - 5s 4ms/step - loss: 3.0558 - mean_absolute_error: 1.3391\n",
            "Epoch 469/500\n",
            "1498/1498 [==============================] - 5s 4ms/step - loss: 2.9695 - mean_absolute_error: 1.3316\n",
            "Epoch 470/500\n",
            "1498/1498 [==============================] - 5s 4ms/step - loss: 3.1279 - mean_absolute_error: 1.3587\n",
            "Epoch 471/500\n",
            "1498/1498 [==============================] - 5s 4ms/step - loss: 3.4539 - mean_absolute_error: 1.4249\n",
            "Epoch 472/500\n",
            "1498/1498 [==============================] - 5s 4ms/step - loss: 3.2971 - mean_absolute_error: 1.3972\n",
            "Epoch 473/500\n",
            "1498/1498 [==============================] - 5s 4ms/step - loss: 3.3634 - mean_absolute_error: 1.4128\n",
            "Epoch 474/500\n",
            "1498/1498 [==============================] - 5s 4ms/step - loss: 3.2073 - mean_absolute_error: 1.3811\n",
            "Epoch 475/500\n",
            "1498/1498 [==============================] - 5s 4ms/step - loss: 3.6028 - mean_absolute_error: 1.4667\n",
            "Epoch 476/500\n",
            "1498/1498 [==============================] - 5s 4ms/step - loss: 3.9289 - mean_absolute_error: 1.5187\n",
            "Epoch 477/500\n",
            "1498/1498 [==============================] - 5s 4ms/step - loss: 2.8158 - mean_absolute_error: 1.2949\n",
            "Epoch 478/500\n",
            "1498/1498 [==============================] - 5s 4ms/step - loss: 2.8258 - mean_absolute_error: 1.2948\n",
            "Epoch 479/500\n",
            "1498/1498 [==============================] - 5s 4ms/step - loss: 3.1055 - mean_absolute_error: 1.3430\n",
            "Epoch 480/500\n",
            "1498/1498 [==============================] - 5s 4ms/step - loss: 3.4356 - mean_absolute_error: 1.4247\n",
            "Epoch 481/500\n",
            "1498/1498 [==============================] - 6s 4ms/step - loss: 3.1442 - mean_absolute_error: 1.3616\n",
            "Epoch 482/500\n",
            "1498/1498 [==============================] - 5s 4ms/step - loss: 3.0899 - mean_absolute_error: 1.3411\n",
            "Epoch 483/500\n",
            "1498/1498 [==============================] - 5s 4ms/step - loss: 3.2691 - mean_absolute_error: 1.3865\n",
            "Epoch 484/500\n",
            "1498/1498 [==============================] - 5s 4ms/step - loss: 3.0281 - mean_absolute_error: 1.3416\n",
            "Epoch 485/500\n",
            "1498/1498 [==============================] - 5s 4ms/step - loss: 2.9471 - mean_absolute_error: 1.3174\n",
            "Epoch 486/500\n",
            "1498/1498 [==============================] - 5s 4ms/step - loss: 3.5217 - mean_absolute_error: 1.4306\n",
            "Epoch 487/500\n",
            "1498/1498 [==============================] - 5s 4ms/step - loss: 3.0243 - mean_absolute_error: 1.3396\n",
            "Epoch 488/500\n",
            "1498/1498 [==============================] - 5s 4ms/step - loss: 2.9560 - mean_absolute_error: 1.3216\n",
            "Epoch 489/500\n",
            "1498/1498 [==============================] - 5s 4ms/step - loss: 3.0349 - mean_absolute_error: 1.3391\n",
            "Epoch 490/500\n",
            "1498/1498 [==============================] - 5s 4ms/step - loss: 2.8961 - mean_absolute_error: 1.3111\n",
            "Epoch 491/500\n",
            "1498/1498 [==============================] - 5s 4ms/step - loss: 3.0451 - mean_absolute_error: 1.3373\n",
            "Epoch 492/500\n",
            "1498/1498 [==============================] - 5s 4ms/step - loss: 3.0671 - mean_absolute_error: 1.3479\n",
            "Epoch 493/500\n",
            "1498/1498 [==============================] - 5s 4ms/step - loss: 3.6885 - mean_absolute_error: 1.4713\n",
            "Epoch 494/500\n",
            "1498/1498 [==============================] - 5s 4ms/step - loss: 3.1228 - mean_absolute_error: 1.3672\n",
            "Epoch 495/500\n",
            "1498/1498 [==============================] - 5s 4ms/step - loss: 3.1590 - mean_absolute_error: 1.3686\n",
            "Epoch 496/500\n",
            "1498/1498 [==============================] - 5s 4ms/step - loss: 3.4999 - mean_absolute_error: 1.4437\n",
            "Epoch 497/500\n",
            "1498/1498 [==============================] - 5s 4ms/step - loss: 2.8660 - mean_absolute_error: 1.2964\n",
            "Epoch 498/500\n",
            "1498/1498 [==============================] - 5s 4ms/step - loss: 2.9121 - mean_absolute_error: 1.3088\n",
            "Epoch 499/500\n",
            "1498/1498 [==============================] - 5s 4ms/step - loss: 3.8753 - mean_absolute_error: 1.5203\n",
            "Epoch 500/500\n",
            "1498/1498 [==============================] - 5s 4ms/step - loss: 3.1749 - mean_absolute_error: 1.3714\n"
          ],
          "name": "stdout"
        },
        {
          "output_type": "execute_result",
          "data": {
            "text/plain": [
              "<keras.callbacks.History at 0x7f7299daf438>"
            ]
          },
          "metadata": {
            "tags": []
          },
          "execution_count": 31
        }
      ]
    },
    {
      "cell_type": "code",
      "metadata": {
        "trusted": true,
        "id": "ahGdudE7oNEs",
        "colab_type": "code",
        "colab": {
          "base_uri": "https://localhost:8080/",
          "height": 52
        },
        "outputId": "85978934-3570-4c3f-b628-6e8869db650f"
      },
      "source": [
        "score = model.evaluate(X_test, y_test, verbose=0)\n",
        "print('Test loss:', score[0])\n",
        "print('Test accuracy:', score[1])"
      ],
      "execution_count": 32,
      "outputs": [
        {
          "output_type": "stream",
          "text": [
            "Test loss: 1.7224560255573547\n",
            "Test accuracy: 0.9031119766265061\n"
          ],
          "name": "stdout"
        }
      ]
    },
    {
      "cell_type": "code",
      "metadata": {
        "id": "WyVJ027ZzSQj",
        "colab_type": "code",
        "colab": {}
      },
      "source": [
        "model.save('/content/drive/My Drive/keypoint_model22.h5')"
      ],
      "execution_count": 0,
      "outputs": []
    },
    {
      "cell_type": "code",
      "metadata": {
        "id": "KFv_kATOw53P",
        "colab_type": "code",
        "colab": {
          "base_uri": "https://localhost:8080/",
          "height": 297
        },
        "outputId": "ae9da6ec-6437-4a5a-edbb-4a89e22a5556"
      },
      "source": [
        "test['Image'] = test['Image'].apply(lambda x: np.fromstring(x, dtype=int, sep=' ').reshape((96,96)))"
      ],
      "execution_count": 37,
      "outputs": [
        {
          "output_type": "error",
          "ename": "ValueError",
          "evalue": "ignored",
          "traceback": [
            "\u001b[0;31m---------------------------------------------------------------------------\u001b[0m",
            "\u001b[0;31mValueError\u001b[0m                                Traceback (most recent call last)",
            "\u001b[0;32m<ipython-input-37-2f7244f0efbc>\u001b[0m in \u001b[0;36m<module>\u001b[0;34m()\u001b[0m\n\u001b[0;32m----> 1\u001b[0;31m \u001b[0mtest\u001b[0m\u001b[0;34m[\u001b[0m\u001b[0;34m'Image'\u001b[0m\u001b[0;34m]\u001b[0m \u001b[0;34m=\u001b[0m \u001b[0mtest\u001b[0m\u001b[0;34m[\u001b[0m\u001b[0;34m'Image'\u001b[0m\u001b[0;34m]\u001b[0m\u001b[0;34m.\u001b[0m\u001b[0mapply\u001b[0m\u001b[0;34m(\u001b[0m\u001b[0;32mlambda\u001b[0m \u001b[0mx\u001b[0m\u001b[0;34m:\u001b[0m \u001b[0mnp\u001b[0m\u001b[0;34m.\u001b[0m\u001b[0mfromstring\u001b[0m\u001b[0;34m(\u001b[0m\u001b[0mx\u001b[0m\u001b[0;34m,\u001b[0m \u001b[0mdtype\u001b[0m\u001b[0;34m=\u001b[0m\u001b[0mint\u001b[0m\u001b[0;34m,\u001b[0m \u001b[0msep\u001b[0m\u001b[0;34m=\u001b[0m\u001b[0;34m' '\u001b[0m\u001b[0;34m)\u001b[0m\u001b[0;34m.\u001b[0m\u001b[0mreshape\u001b[0m\u001b[0;34m(\u001b[0m\u001b[0;34m(\u001b[0m\u001b[0;36m96\u001b[0m\u001b[0;34m,\u001b[0m\u001b[0;36m96\u001b[0m\u001b[0;34m)\u001b[0m\u001b[0;34m)\u001b[0m\u001b[0;34m)\u001b[0m\u001b[0;34m\u001b[0m\u001b[0;34m\u001b[0m\u001b[0m\n\u001b[0m",
            "\u001b[0;32m/usr/local/lib/python3.6/dist-packages/pandas/core/series.py\u001b[0m in \u001b[0;36mapply\u001b[0;34m(self, func, convert_dtype, args, **kwds)\u001b[0m\n\u001b[1;32m   4043\u001b[0m             \u001b[0;32melse\u001b[0m\u001b[0;34m:\u001b[0m\u001b[0;34m\u001b[0m\u001b[0;34m\u001b[0m\u001b[0m\n\u001b[1;32m   4044\u001b[0m                 \u001b[0mvalues\u001b[0m \u001b[0;34m=\u001b[0m \u001b[0mself\u001b[0m\u001b[0;34m.\u001b[0m\u001b[0mastype\u001b[0m\u001b[0;34m(\u001b[0m\u001b[0mobject\u001b[0m\u001b[0;34m)\u001b[0m\u001b[0;34m.\u001b[0m\u001b[0mvalues\u001b[0m\u001b[0;34m\u001b[0m\u001b[0;34m\u001b[0m\u001b[0m\n\u001b[0;32m-> 4045\u001b[0;31m                 \u001b[0mmapped\u001b[0m \u001b[0;34m=\u001b[0m \u001b[0mlib\u001b[0m\u001b[0;34m.\u001b[0m\u001b[0mmap_infer\u001b[0m\u001b[0;34m(\u001b[0m\u001b[0mvalues\u001b[0m\u001b[0;34m,\u001b[0m \u001b[0mf\u001b[0m\u001b[0;34m,\u001b[0m \u001b[0mconvert\u001b[0m\u001b[0;34m=\u001b[0m\u001b[0mconvert_dtype\u001b[0m\u001b[0;34m)\u001b[0m\u001b[0;34m\u001b[0m\u001b[0;34m\u001b[0m\u001b[0m\n\u001b[0m\u001b[1;32m   4046\u001b[0m \u001b[0;34m\u001b[0m\u001b[0m\n\u001b[1;32m   4047\u001b[0m         \u001b[0;32mif\u001b[0m \u001b[0mlen\u001b[0m\u001b[0;34m(\u001b[0m\u001b[0mmapped\u001b[0m\u001b[0;34m)\u001b[0m \u001b[0;32mand\u001b[0m \u001b[0misinstance\u001b[0m\u001b[0;34m(\u001b[0m\u001b[0mmapped\u001b[0m\u001b[0;34m[\u001b[0m\u001b[0;36m0\u001b[0m\u001b[0;34m]\u001b[0m\u001b[0;34m,\u001b[0m \u001b[0mSeries\u001b[0m\u001b[0;34m)\u001b[0m\u001b[0;34m:\u001b[0m\u001b[0;34m\u001b[0m\u001b[0;34m\u001b[0m\u001b[0m\n",
            "\u001b[0;32mpandas/_libs/lib.pyx\u001b[0m in \u001b[0;36mpandas._libs.lib.map_infer\u001b[0;34m()\u001b[0m\n",
            "\u001b[0;32m<ipython-input-37-2f7244f0efbc>\u001b[0m in \u001b[0;36m<lambda>\u001b[0;34m(x)\u001b[0m\n\u001b[0;32m----> 1\u001b[0;31m \u001b[0mtest\u001b[0m\u001b[0;34m[\u001b[0m\u001b[0;34m'Image'\u001b[0m\u001b[0;34m]\u001b[0m \u001b[0;34m=\u001b[0m \u001b[0mtest\u001b[0m\u001b[0;34m[\u001b[0m\u001b[0;34m'Image'\u001b[0m\u001b[0;34m]\u001b[0m\u001b[0;34m.\u001b[0m\u001b[0mapply\u001b[0m\u001b[0;34m(\u001b[0m\u001b[0;32mlambda\u001b[0m \u001b[0mx\u001b[0m\u001b[0;34m:\u001b[0m \u001b[0mnp\u001b[0m\u001b[0;34m.\u001b[0m\u001b[0mfromstring\u001b[0m\u001b[0;34m(\u001b[0m\u001b[0mx\u001b[0m\u001b[0;34m,\u001b[0m \u001b[0mdtype\u001b[0m\u001b[0;34m=\u001b[0m\u001b[0mint\u001b[0m\u001b[0;34m,\u001b[0m \u001b[0msep\u001b[0m\u001b[0;34m=\u001b[0m\u001b[0;34m' '\u001b[0m\u001b[0;34m)\u001b[0m\u001b[0;34m.\u001b[0m\u001b[0mreshape\u001b[0m\u001b[0;34m(\u001b[0m\u001b[0;34m(\u001b[0m\u001b[0;36m96\u001b[0m\u001b[0;34m,\u001b[0m\u001b[0;36m96\u001b[0m\u001b[0;34m)\u001b[0m\u001b[0;34m)\u001b[0m\u001b[0;34m)\u001b[0m\u001b[0;34m\u001b[0m\u001b[0;34m\u001b[0m\u001b[0m\n\u001b[0m",
            "\u001b[0;31mValueError\u001b[0m: cannot reshape array of size 0 into shape (96,96)"
          ]
        }
      ]
    },
    {
      "cell_type": "code",
      "metadata": {
        "id": "CfC3Nx2yxBzm",
        "colab_type": "code",
        "colab": {
          "base_uri": "https://localhost:8080/",
          "height": 34
        },
        "outputId": "92f5cee7-f8bd-47c6-99dd-a02fa98b64fa"
      },
      "source": [
        "test.shape, type(test)"
      ],
      "execution_count": 38,
      "outputs": [
        {
          "output_type": "execute_result",
          "data": {
            "text/plain": [
              "((1783, 2), pandas.core.frame.DataFrame)"
            ]
          },
          "metadata": {
            "tags": []
          },
          "execution_count": 38
        }
      ]
    },
    {
      "cell_type": "code",
      "metadata": {
        "trusted": true,
        "id": "cCuu8f2IoNFR",
        "colab_type": "code",
        "colab": {}
      },
      "source": [
        "test_X = np.asarray([test['Image']], dtype=np.uint8).reshape(test.shape[0],96,96,1)\n",
        "test_res = model.predict(test_X)"
      ],
      "execution_count": 0,
      "outputs": []
    },
    {
      "cell_type": "code",
      "metadata": {
        "trusted": true,
        "id": "RCBHVen6oNFX",
        "colab_type": "code",
        "colab": {}
      },
      "source": [
        "train_predicts = model.predict(X_train)"
      ],
      "execution_count": 0,
      "outputs": []
    },
    {
      "cell_type": "code",
      "metadata": {
        "trusted": true,
        "id": "LBQd_FL7oNFd",
        "colab_type": "code",
        "colab": {
          "base_uri": "https://localhost:8080/",
          "height": 268
        },
        "outputId": "fd91f860-de1f-4da8-f738-5b5cee279c4b"
      },
      "source": [
        "n = 11\n",
        "\n",
        "xv = X_train[n].reshape((96,96))\n",
        "plt.imshow(xv,cmap='gray')\n",
        "\n",
        "for i in range(1,31,2):\n",
        "    plt.plot(train_predicts[n][i-1], train_predicts[n][i], 'ro')\n",
        "    plt.plot(y_train[n][i-1], y_train[n][i], 'x', color='green')\n",
        "\n",
        "plt.show()"
      ],
      "execution_count": 41,
      "outputs": [
        {
          "output_type": "display_data",
          "data": {
            "image/png": "[encoded data removed]",
            "text/plain": [
              "<Figure size 432x288 with 1 Axes>"
            ]
          },
          "metadata": {
            "tags": []
          }
        }
      ]
    },
    {
      "cell_type": "code",
      "metadata": {
        "trusted": true,
        "id": "HArpgCj3oNFj",
        "colab_type": "code",
        "colab": {}
      },
      "source": [
        "header = list(y.columns)"
      ],
      "execution_count": 0,
      "outputs": []
    },
    {
      "cell_type": "code",
      "metadata": {
        "trusted": true,
        "id": "KtMVBFOsoNFp",
        "colab_type": "code",
        "colab": {}
      },
      "source": [
        "test_predicts = pd.DataFrame(test_res, columns = header)"
      ],
      "execution_count": 0,
      "outputs": []
    },
    {
      "cell_type": "code",
      "metadata": {
        "trusted": true,
        "id": "gkduzpigoNFu",
        "colab_type": "code",
        "colab": {
          "base_uri": "https://localhost:8080/",
          "height": 124
        },
        "outputId": "98f60389-af4d-4eac-c8c0-287ea61c6b92"
      },
      "source": [
        "for i in range(IdLookupTable.shape[0]):\n",
        "    IdLookupTable.Location[i] = test_predicts.loc[IdLookupTable.ImageId[i]-1][IdLookupTable.FeatureName[i]]\n",
        "    "
      ],
      "execution_count": 44,
      "outputs": [
        {
          "output_type": "stream",
          "text": [
            "/usr/local/lib/python3.6/dist-packages/ipykernel_launcher.py:2: SettingWithCopyWarning: \n",
            "A value is trying to be set on a copy of a slice from a DataFrame\n",
            "\n",
            "See the caveats in the documentation: http://pandas.pydata.org/pandas-docs/stable/user_guide/indexing.html#returning-a-view-versus-a-copy\n",
            "  \n"
          ],
          "name": "stderr"
        }
      ]
    },
    {
      "cell_type": "code",
      "metadata": {
        "trusted": true,
        "id": "7wNBhHSqoNFz",
        "colab_type": "code",
        "colab": {}
      },
      "source": [
        "SampleSubmission.Location = IdLookupTable.Location"
      ],
      "execution_count": 0,
      "outputs": []
    },
    {
      "cell_type": "code",
      "metadata": {
        "trusted": true,
        "id": "kJ72SngYoNF5",
        "colab_type": "code",
        "colab": {}
      },
      "source": [
        "my_submission = SampleSubmission"
      ],
      "execution_count": 0,
      "outputs": []
    },
    {
      "cell_type": "code",
      "metadata": {
        "trusted": true,
        "id": "Dm-7-AS5oNF-",
        "colab_type": "code",
        "colab": {}
      },
      "source": [
        "my_submission.to_csv('submission22.csv', index=False)"
      ],
      "execution_count": 0,
      "outputs": []
    },
    {
      "cell_type": "code",
      "metadata": {
        "trusted": true,
        "id": "NBgYMpOwoNGD",
        "colab_type": "code",
        "colab": {
          "base_uri": "https://localhost:8080/",
          "height": 424
        },
        "outputId": "8f92c7e2-f0a8-403c-815b-0e3e16a7cbcd"
      },
      "source": [
        "my_submission"
      ],
      "execution_count": 48,
      "outputs": [
        {
          "output_type": "execute_result",
          "data": {
            "text/html": [
              "<div>\n",
              "<style scoped>\n",
              "    .dataframe tbody tr th:only-of-type {\n",
              "        vertical-align: middle;\n",
              "    }\n",
              "\n",
              "    .dataframe tbody tr th {\n",
              "        vertical-align: top;\n",
              "    }\n",
              "\n",
              "    .dataframe thead th {\n",
              "        text-align: right;\n",
              "    }\n",
              "</style>\n",
              "<table border=\"1\" class=\"dataframe\">\n",
              "  <thead>\n",
              "    <tr style=\"text-align: right;\">\n",
              "      <th></th>\n",
              "      <th>RowId</th>\n",
              "      <th>Location</th>\n",
              "    </tr>\n",
              "  </thead>\n",
              "  <tbody>\n",
              "    <tr>\n",
              "      <th>0</th>\n",
              "      <td>1</td>\n",
              "      <td>65.736191</td>\n",
              "    </tr>\n",
              "    <tr>\n",
              "      <th>1</th>\n",
              "      <td>2</td>\n",
              "      <td>37.906654</td>\n",
              "    </tr>\n",
              "    <tr>\n",
              "      <th>2</th>\n",
              "      <td>3</td>\n",
              "      <td>28.922892</td>\n",
              "    </tr>\n",
              "    <tr>\n",
              "      <th>3</th>\n",
              "      <td>4</td>\n",
              "      <td>36.172157</td>\n",
              "    </tr>\n",
              "    <tr>\n",
              "      <th>4</th>\n",
              "      <td>5</td>\n",
              "      <td>59.324936</td>\n",
              "    </tr>\n",
              "    <tr>\n",
              "      <th>...</th>\n",
              "      <td>...</td>\n",
              "      <td>...</td>\n",
              "    </tr>\n",
              "    <tr>\n",
              "      <th>27119</th>\n",
              "      <td>27120</td>\n",
              "      <td>36.747143</td>\n",
              "    </tr>\n",
              "    <tr>\n",
              "      <th>27120</th>\n",
              "      <td>27121</td>\n",
              "      <td>45.661362</td>\n",
              "    </tr>\n",
              "    <tr>\n",
              "      <th>27121</th>\n",
              "      <td>27122</td>\n",
              "      <td>57.575928</td>\n",
              "    </tr>\n",
              "    <tr>\n",
              "      <th>27122</th>\n",
              "      <td>27123</td>\n",
              "      <td>46.534424</td>\n",
              "    </tr>\n",
              "    <tr>\n",
              "      <th>27123</th>\n",
              "      <td>27124</td>\n",
              "      <td>83.904594</td>\n",
              "    </tr>\n",
              "  </tbody>\n",
              "</table>\n",
              "<p>27124 rows × 2 columns</p>\n",
              "</div>"
            ],
            "text/plain": [
              "       RowId   Location\n",
              "0          1  65.736191\n",
              "1          2  37.906654\n",
              "2          3  28.922892\n",
              "3          4  36.172157\n",
              "4          5  59.324936\n",
              "...      ...        ...\n",
              "27119  27120  36.747143\n",
              "27120  27121  45.661362\n",
              "27121  27122  57.575928\n",
              "27122  27123  46.534424\n",
              "27123  27124  83.904594\n",
              "\n",
              "[27124 rows x 2 columns]"
            ]
          },
          "metadata": {
            "tags": []
          },
          "execution_count": 48
        }
      ]
    }
  ]
}